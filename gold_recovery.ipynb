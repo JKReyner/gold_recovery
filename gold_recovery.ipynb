{
 "cells": [
  {
   "cell_type": "markdown",
   "metadata": {},
   "source": [
    "## Project description\n",
    "\n",
    "Prepare a prototype of a machine learning model for Zyfra. The company develops efficiency solutions for heavy industry.\n",
    "\n",
    "The model should predict the amount of gold recovered from gold ore. You have the data on extraction and purification.\n",
    "\n",
    "The model will help to optimize the production and eliminate unprofitable parameters.\n",
    "\n",
    "The data is stored in three files:\n",
    "\n",
    "* gold_recovery_train.csv — training dataset download\n",
    "* gold_recovery_test.csv — test dataset download\n",
    "* gold_recovery_full.csv — source dataset download\n",
    "\n",
    "Data is indexed with the date and time of acquisition (date feature). Parameters that are next to each other in terms of time are often similar.\n",
    "\n",
    "Some parameters are not available because they were measured and/or calculated much later. That's why, some of the features that are present in the training set may be absent from the test set. The test set also doesn't contain targets.\n",
    "The source dataset contains the training and test sets with all the features."
   ]
  },
  {
   "cell_type": "markdown",
   "metadata": {},
   "source": [
    "## Initialization"
   ]
  },
  {
   "cell_type": "code",
   "execution_count": 1,
   "metadata": {},
   "outputs": [],
   "source": [
    "# import packages\n",
    "\n",
    "import pandas as pd\n",
    "import numpy as np\n",
    "import matplotlib.pyplot as plt\n",
    "from scipy import stats as st\n",
    "\n",
    "# model creation\n",
    "\n",
    "from sklearn.metrics import mean_absolute_error, make_scorer\n",
    "from sklearn.model_selection import cross_val_score, GridSearchCV, KFold\n",
    "from sklearn.linear_model import LinearRegression\n",
    "from sklearn.tree import DecisionTreeRegressor\n",
    "from sklearn.ensemble import RandomForestRegressor\n",
    "from sklearn.dummy import DummyRegressor"
   ]
  },
  {
   "cell_type": "code",
   "execution_count": 2,
   "metadata": {},
   "outputs": [],
   "source": [
    "# import data\n",
    "\n",
    "gold_train = pd.read_csv('/datasets/gold_recovery_train.csv')\n",
    "gold_test = pd.read_csv('/datasets/gold_recovery_test.csv')\n",
    "gold_full = pd.read_csv('/datasets/gold_recovery_full.csv')"
   ]
  },
  {
   "cell_type": "code",
   "execution_count": 3,
   "metadata": {},
   "outputs": [
    {
     "name": "stdout",
     "output_type": "stream",
     "text": [
      "<class 'pandas.core.frame.DataFrame'>\n",
      "RangeIndex: 16860 entries, 0 to 16859\n",
      "Data columns (total 87 columns):\n",
      " #   Column                                              Non-Null Count  Dtype  \n",
      "---  ------                                              --------------  -----  \n",
      " 0   date                                                16860 non-null  object \n",
      " 1   final.output.concentrate_ag                         16788 non-null  float64\n",
      " 2   final.output.concentrate_pb                         16788 non-null  float64\n",
      " 3   final.output.concentrate_sol                        16490 non-null  float64\n",
      " 4   final.output.concentrate_au                         16789 non-null  float64\n",
      " 5   final.output.recovery                               15339 non-null  float64\n",
      " 6   final.output.tail_ag                                16794 non-null  float64\n",
      " 7   final.output.tail_pb                                16677 non-null  float64\n",
      " 8   final.output.tail_sol                               16715 non-null  float64\n",
      " 9   final.output.tail_au                                16794 non-null  float64\n",
      " 10  primary_cleaner.input.sulfate                       15553 non-null  float64\n",
      " 11  primary_cleaner.input.depressant                    15598 non-null  float64\n",
      " 12  primary_cleaner.input.feed_size                     16860 non-null  float64\n",
      " 13  primary_cleaner.input.xanthate                      15875 non-null  float64\n",
      " 14  primary_cleaner.output.concentrate_ag               16778 non-null  float64\n",
      " 15  primary_cleaner.output.concentrate_pb               16502 non-null  float64\n",
      " 16  primary_cleaner.output.concentrate_sol              16224 non-null  float64\n",
      " 17  primary_cleaner.output.concentrate_au               16778 non-null  float64\n",
      " 18  primary_cleaner.output.tail_ag                      16777 non-null  float64\n",
      " 19  primary_cleaner.output.tail_pb                      16761 non-null  float64\n",
      " 20  primary_cleaner.output.tail_sol                     16579 non-null  float64\n",
      " 21  primary_cleaner.output.tail_au                      16777 non-null  float64\n",
      " 22  primary_cleaner.state.floatbank8_a_air              16820 non-null  float64\n",
      " 23  primary_cleaner.state.floatbank8_a_level            16827 non-null  float64\n",
      " 24  primary_cleaner.state.floatbank8_b_air              16820 non-null  float64\n",
      " 25  primary_cleaner.state.floatbank8_b_level            16833 non-null  float64\n",
      " 26  primary_cleaner.state.floatbank8_c_air              16822 non-null  float64\n",
      " 27  primary_cleaner.state.floatbank8_c_level            16833 non-null  float64\n",
      " 28  primary_cleaner.state.floatbank8_d_air              16821 non-null  float64\n",
      " 29  primary_cleaner.state.floatbank8_d_level            16833 non-null  float64\n",
      " 30  rougher.calculation.sulfate_to_au_concentrate       16833 non-null  float64\n",
      " 31  rougher.calculation.floatbank10_sulfate_to_au_feed  16833 non-null  float64\n",
      " 32  rougher.calculation.floatbank11_sulfate_to_au_feed  16833 non-null  float64\n",
      " 33  rougher.calculation.au_pb_ratio                     15618 non-null  float64\n",
      " 34  rougher.input.feed_ag                               16778 non-null  float64\n",
      " 35  rougher.input.feed_pb                               16632 non-null  float64\n",
      " 36  rougher.input.feed_rate                             16347 non-null  float64\n",
      " 37  rougher.input.feed_size                             16443 non-null  float64\n",
      " 38  rougher.input.feed_sol                              16568 non-null  float64\n",
      " 39  rougher.input.feed_au                               16777 non-null  float64\n",
      " 40  rougher.input.floatbank10_sulfate                   15816 non-null  float64\n",
      " 41  rougher.input.floatbank10_xanthate                  16514 non-null  float64\n",
      " 42  rougher.input.floatbank11_sulfate                   16237 non-null  float64\n",
      " 43  rougher.input.floatbank11_xanthate                  14956 non-null  float64\n",
      " 44  rougher.output.concentrate_ag                       16778 non-null  float64\n",
      " 45  rougher.output.concentrate_pb                       16778 non-null  float64\n",
      " 46  rougher.output.concentrate_sol                      16698 non-null  float64\n",
      " 47  rougher.output.concentrate_au                       16778 non-null  float64\n",
      " 48  rougher.output.recovery                             14287 non-null  float64\n",
      " 49  rougher.output.tail_ag                              14610 non-null  float64\n",
      " 50  rougher.output.tail_pb                              16778 non-null  float64\n",
      " 51  rougher.output.tail_sol                             14611 non-null  float64\n",
      " 52  rougher.output.tail_au                              14611 non-null  float64\n",
      " 53  rougher.state.floatbank10_a_air                     16807 non-null  float64\n",
      " 54  rougher.state.floatbank10_a_level                   16807 non-null  float64\n",
      " 55  rougher.state.floatbank10_b_air                     16807 non-null  float64\n",
      " 56  rougher.state.floatbank10_b_level                   16807 non-null  float64\n",
      " 57  rougher.state.floatbank10_c_air                     16807 non-null  float64\n",
      " 58  rougher.state.floatbank10_c_level                   16814 non-null  float64\n",
      " 59  rougher.state.floatbank10_d_air                     16802 non-null  float64\n",
      " 60  rougher.state.floatbank10_d_level                   16809 non-null  float64\n",
      " 61  rougher.state.floatbank10_e_air                     16257 non-null  float64\n",
      " 62  rougher.state.floatbank10_e_level                   16809 non-null  float64\n",
      " 63  rougher.state.floatbank10_f_air                     16802 non-null  float64\n",
      " 64  rougher.state.floatbank10_f_level                   16802 non-null  float64\n",
      " 65  secondary_cleaner.output.tail_ag                    16776 non-null  float64\n",
      " 66  secondary_cleaner.output.tail_pb                    16764 non-null  float64\n",
      " 67  secondary_cleaner.output.tail_sol                   14874 non-null  float64\n",
      " 68  secondary_cleaner.output.tail_au                    16778 non-null  float64\n",
      " 69  secondary_cleaner.state.floatbank2_a_air            16497 non-null  float64\n",
      " 70  secondary_cleaner.state.floatbank2_a_level          16751 non-null  float64\n",
      " 71  secondary_cleaner.state.floatbank2_b_air            16705 non-null  float64\n",
      " 72  secondary_cleaner.state.floatbank2_b_level          16748 non-null  float64\n",
      " 73  secondary_cleaner.state.floatbank3_a_air            16763 non-null  float64\n",
      " 74  secondary_cleaner.state.floatbank3_a_level          16747 non-null  float64\n",
      " 75  secondary_cleaner.state.floatbank3_b_air            16752 non-null  float64\n",
      " 76  secondary_cleaner.state.floatbank3_b_level          16750 non-null  float64\n",
      " 77  secondary_cleaner.state.floatbank4_a_air            16731 non-null  float64\n",
      " 78  secondary_cleaner.state.floatbank4_a_level          16747 non-null  float64\n",
      " 79  secondary_cleaner.state.floatbank4_b_air            16768 non-null  float64\n",
      " 80  secondary_cleaner.state.floatbank4_b_level          16767 non-null  float64\n",
      " 81  secondary_cleaner.state.floatbank5_a_air            16775 non-null  float64\n",
      " 82  secondary_cleaner.state.floatbank5_a_level          16775 non-null  float64\n",
      " 83  secondary_cleaner.state.floatbank5_b_air            16775 non-null  float64\n",
      " 84  secondary_cleaner.state.floatbank5_b_level          16776 non-null  float64\n",
      " 85  secondary_cleaner.state.floatbank6_a_air            16757 non-null  float64\n",
      " 86  secondary_cleaner.state.floatbank6_a_level          16775 non-null  float64\n",
      "dtypes: float64(86), object(1)\n",
      "memory usage: 11.2+ MB\n"
     ]
    }
   ],
   "source": [
    "gold_train.info()"
   ]
  },
  {
   "cell_type": "code",
   "execution_count": 4,
   "metadata": {},
   "outputs": [
    {
     "name": "stdout",
     "output_type": "stream",
     "text": [
      "<class 'pandas.core.frame.DataFrame'>\n",
      "RangeIndex: 5856 entries, 0 to 5855\n",
      "Data columns (total 53 columns):\n",
      " #   Column                                      Non-Null Count  Dtype  \n",
      "---  ------                                      --------------  -----  \n",
      " 0   date                                        5856 non-null   object \n",
      " 1   primary_cleaner.input.sulfate               5554 non-null   float64\n",
      " 2   primary_cleaner.input.depressant            5572 non-null   float64\n",
      " 3   primary_cleaner.input.feed_size             5856 non-null   float64\n",
      " 4   primary_cleaner.input.xanthate              5690 non-null   float64\n",
      " 5   primary_cleaner.state.floatbank8_a_air      5840 non-null   float64\n",
      " 6   primary_cleaner.state.floatbank8_a_level    5840 non-null   float64\n",
      " 7   primary_cleaner.state.floatbank8_b_air      5840 non-null   float64\n",
      " 8   primary_cleaner.state.floatbank8_b_level    5840 non-null   float64\n",
      " 9   primary_cleaner.state.floatbank8_c_air      5840 non-null   float64\n",
      " 10  primary_cleaner.state.floatbank8_c_level    5840 non-null   float64\n",
      " 11  primary_cleaner.state.floatbank8_d_air      5840 non-null   float64\n",
      " 12  primary_cleaner.state.floatbank8_d_level    5840 non-null   float64\n",
      " 13  rougher.input.feed_ag                       5840 non-null   float64\n",
      " 14  rougher.input.feed_pb                       5840 non-null   float64\n",
      " 15  rougher.input.feed_rate                     5816 non-null   float64\n",
      " 16  rougher.input.feed_size                     5834 non-null   float64\n",
      " 17  rougher.input.feed_sol                      5789 non-null   float64\n",
      " 18  rougher.input.feed_au                       5840 non-null   float64\n",
      " 19  rougher.input.floatbank10_sulfate           5599 non-null   float64\n",
      " 20  rougher.input.floatbank10_xanthate          5733 non-null   float64\n",
      " 21  rougher.input.floatbank11_sulfate           5801 non-null   float64\n",
      " 22  rougher.input.floatbank11_xanthate          5503 non-null   float64\n",
      " 23  rougher.state.floatbank10_a_air             5839 non-null   float64\n",
      " 24  rougher.state.floatbank10_a_level           5840 non-null   float64\n",
      " 25  rougher.state.floatbank10_b_air             5839 non-null   float64\n",
      " 26  rougher.state.floatbank10_b_level           5840 non-null   float64\n",
      " 27  rougher.state.floatbank10_c_air             5839 non-null   float64\n",
      " 28  rougher.state.floatbank10_c_level           5840 non-null   float64\n",
      " 29  rougher.state.floatbank10_d_air             5839 non-null   float64\n",
      " 30  rougher.state.floatbank10_d_level           5840 non-null   float64\n",
      " 31  rougher.state.floatbank10_e_air             5839 non-null   float64\n",
      " 32  rougher.state.floatbank10_e_level           5840 non-null   float64\n",
      " 33  rougher.state.floatbank10_f_air             5839 non-null   float64\n",
      " 34  rougher.state.floatbank10_f_level           5840 non-null   float64\n",
      " 35  secondary_cleaner.state.floatbank2_a_air    5836 non-null   float64\n",
      " 36  secondary_cleaner.state.floatbank2_a_level  5840 non-null   float64\n",
      " 37  secondary_cleaner.state.floatbank2_b_air    5833 non-null   float64\n",
      " 38  secondary_cleaner.state.floatbank2_b_level  5840 non-null   float64\n",
      " 39  secondary_cleaner.state.floatbank3_a_air    5822 non-null   float64\n",
      " 40  secondary_cleaner.state.floatbank3_a_level  5840 non-null   float64\n",
      " 41  secondary_cleaner.state.floatbank3_b_air    5840 non-null   float64\n",
      " 42  secondary_cleaner.state.floatbank3_b_level  5840 non-null   float64\n",
      " 43  secondary_cleaner.state.floatbank4_a_air    5840 non-null   float64\n",
      " 44  secondary_cleaner.state.floatbank4_a_level  5840 non-null   float64\n",
      " 45  secondary_cleaner.state.floatbank4_b_air    5840 non-null   float64\n",
      " 46  secondary_cleaner.state.floatbank4_b_level  5840 non-null   float64\n",
      " 47  secondary_cleaner.state.floatbank5_a_air    5840 non-null   float64\n",
      " 48  secondary_cleaner.state.floatbank5_a_level  5840 non-null   float64\n",
      " 49  secondary_cleaner.state.floatbank5_b_air    5840 non-null   float64\n",
      " 50  secondary_cleaner.state.floatbank5_b_level  5840 non-null   float64\n",
      " 51  secondary_cleaner.state.floatbank6_a_air    5840 non-null   float64\n",
      " 52  secondary_cleaner.state.floatbank6_a_level  5840 non-null   float64\n",
      "dtypes: float64(52), object(1)\n",
      "memory usage: 2.4+ MB\n"
     ]
    }
   ],
   "source": [
    "gold_test.info()"
   ]
  },
  {
   "cell_type": "code",
   "execution_count": 5,
   "metadata": {},
   "outputs": [
    {
     "name": "stdout",
     "output_type": "stream",
     "text": [
      "<class 'pandas.core.frame.DataFrame'>\n",
      "RangeIndex: 22716 entries, 0 to 22715\n",
      "Data columns (total 87 columns):\n",
      " #   Column                                              Non-Null Count  Dtype  \n",
      "---  ------                                              --------------  -----  \n",
      " 0   date                                                22716 non-null  object \n",
      " 1   final.output.concentrate_ag                         22627 non-null  float64\n",
      " 2   final.output.concentrate_pb                         22629 non-null  float64\n",
      " 3   final.output.concentrate_sol                        22331 non-null  float64\n",
      " 4   final.output.concentrate_au                         22630 non-null  float64\n",
      " 5   final.output.recovery                               20753 non-null  float64\n",
      " 6   final.output.tail_ag                                22633 non-null  float64\n",
      " 7   final.output.tail_pb                                22516 non-null  float64\n",
      " 8   final.output.tail_sol                               22445 non-null  float64\n",
      " 9   final.output.tail_au                                22635 non-null  float64\n",
      " 10  primary_cleaner.input.sulfate                       21107 non-null  float64\n",
      " 11  primary_cleaner.input.depressant                    21170 non-null  float64\n",
      " 12  primary_cleaner.input.feed_size                     22716 non-null  float64\n",
      " 13  primary_cleaner.input.xanthate                      21565 non-null  float64\n",
      " 14  primary_cleaner.output.concentrate_ag               22618 non-null  float64\n",
      " 15  primary_cleaner.output.concentrate_pb               22268 non-null  float64\n",
      " 16  primary_cleaner.output.concentrate_sol              21918 non-null  float64\n",
      " 17  primary_cleaner.output.concentrate_au               22618 non-null  float64\n",
      " 18  primary_cleaner.output.tail_ag                      22614 non-null  float64\n",
      " 19  primary_cleaner.output.tail_pb                      22594 non-null  float64\n",
      " 20  primary_cleaner.output.tail_sol                     22365 non-null  float64\n",
      " 21  primary_cleaner.output.tail_au                      22617 non-null  float64\n",
      " 22  primary_cleaner.state.floatbank8_a_air              22660 non-null  float64\n",
      " 23  primary_cleaner.state.floatbank8_a_level            22667 non-null  float64\n",
      " 24  primary_cleaner.state.floatbank8_b_air              22660 non-null  float64\n",
      " 25  primary_cleaner.state.floatbank8_b_level            22673 non-null  float64\n",
      " 26  primary_cleaner.state.floatbank8_c_air              22662 non-null  float64\n",
      " 27  primary_cleaner.state.floatbank8_c_level            22673 non-null  float64\n",
      " 28  primary_cleaner.state.floatbank8_d_air              22661 non-null  float64\n",
      " 29  primary_cleaner.state.floatbank8_d_level            22673 non-null  float64\n",
      " 30  rougher.calculation.sulfate_to_au_concentrate       22672 non-null  float64\n",
      " 31  rougher.calculation.floatbank10_sulfate_to_au_feed  22672 non-null  float64\n",
      " 32  rougher.calculation.floatbank11_sulfate_to_au_feed  22672 non-null  float64\n",
      " 33  rougher.calculation.au_pb_ratio                     21089 non-null  float64\n",
      " 34  rougher.input.feed_ag                               22618 non-null  float64\n",
      " 35  rougher.input.feed_pb                               22472 non-null  float64\n",
      " 36  rougher.input.feed_rate                             22163 non-null  float64\n",
      " 37  rougher.input.feed_size                             22277 non-null  float64\n",
      " 38  rougher.input.feed_sol                              22357 non-null  float64\n",
      " 39  rougher.input.feed_au                               22617 non-null  float64\n",
      " 40  rougher.input.floatbank10_sulfate                   21415 non-null  float64\n",
      " 41  rougher.input.floatbank10_xanthate                  22247 non-null  float64\n",
      " 42  rougher.input.floatbank11_sulfate                   22038 non-null  float64\n",
      " 43  rougher.input.floatbank11_xanthate                  20459 non-null  float64\n",
      " 44  rougher.output.concentrate_ag                       22618 non-null  float64\n",
      " 45  rougher.output.concentrate_pb                       22618 non-null  float64\n",
      " 46  rougher.output.concentrate_sol                      22526 non-null  float64\n",
      " 47  rougher.output.concentrate_au                       22618 non-null  float64\n",
      " 48  rougher.output.recovery                             19597 non-null  float64\n",
      " 49  rougher.output.tail_ag                              19979 non-null  float64\n",
      " 50  rougher.output.tail_pb                              22618 non-null  float64\n",
      " 51  rougher.output.tail_sol                             19980 non-null  float64\n",
      " 52  rougher.output.tail_au                              19980 non-null  float64\n",
      " 53  rougher.state.floatbank10_a_air                     22646 non-null  float64\n",
      " 54  rougher.state.floatbank10_a_level                   22647 non-null  float64\n",
      " 55  rougher.state.floatbank10_b_air                     22646 non-null  float64\n",
      " 56  rougher.state.floatbank10_b_level                   22647 non-null  float64\n",
      " 57  rougher.state.floatbank10_c_air                     22646 non-null  float64\n",
      " 58  rougher.state.floatbank10_c_level                   22654 non-null  float64\n",
      " 59  rougher.state.floatbank10_d_air                     22641 non-null  float64\n",
      " 60  rougher.state.floatbank10_d_level                   22649 non-null  float64\n",
      " 61  rougher.state.floatbank10_e_air                     22096 non-null  float64\n",
      " 62  rougher.state.floatbank10_e_level                   22649 non-null  float64\n",
      " 63  rougher.state.floatbank10_f_air                     22641 non-null  float64\n",
      " 64  rougher.state.floatbank10_f_level                   22642 non-null  float64\n",
      " 65  secondary_cleaner.output.tail_ag                    22616 non-null  float64\n",
      " 66  secondary_cleaner.output.tail_pb                    22600 non-null  float64\n",
      " 67  secondary_cleaner.output.tail_sol                   20501 non-null  float64\n",
      " 68  secondary_cleaner.output.tail_au                    22618 non-null  float64\n",
      " 69  secondary_cleaner.state.floatbank2_a_air            22333 non-null  float64\n",
      " 70  secondary_cleaner.state.floatbank2_a_level          22591 non-null  float64\n",
      " 71  secondary_cleaner.state.floatbank2_b_air            22538 non-null  float64\n",
      " 72  secondary_cleaner.state.floatbank2_b_level          22588 non-null  float64\n",
      " 73  secondary_cleaner.state.floatbank3_a_air            22585 non-null  float64\n",
      " 74  secondary_cleaner.state.floatbank3_a_level          22587 non-null  float64\n",
      " 75  secondary_cleaner.state.floatbank3_b_air            22592 non-null  float64\n",
      " 76  secondary_cleaner.state.floatbank3_b_level          22590 non-null  float64\n",
      " 77  secondary_cleaner.state.floatbank4_a_air            22571 non-null  float64\n",
      " 78  secondary_cleaner.state.floatbank4_a_level          22587 non-null  float64\n",
      " 79  secondary_cleaner.state.floatbank4_b_air            22608 non-null  float64\n",
      " 80  secondary_cleaner.state.floatbank4_b_level          22607 non-null  float64\n",
      " 81  secondary_cleaner.state.floatbank5_a_air            22615 non-null  float64\n",
      " 82  secondary_cleaner.state.floatbank5_a_level          22615 non-null  float64\n",
      " 83  secondary_cleaner.state.floatbank5_b_air            22615 non-null  float64\n",
      " 84  secondary_cleaner.state.floatbank5_b_level          22616 non-null  float64\n",
      " 85  secondary_cleaner.state.floatbank6_a_air            22597 non-null  float64\n",
      " 86  secondary_cleaner.state.floatbank6_a_level          22615 non-null  float64\n",
      "dtypes: float64(86), object(1)\n",
      "memory usage: 15.1+ MB\n"
     ]
    }
   ],
   "source": [
    "gold_full.info()"
   ]
  },
  {
   "cell_type": "markdown",
   "metadata": {},
   "source": [
    "The test set has 34 fewer items than the training set. The ones we are interested in as our targets are rougher.output.recovery and final.output.recovery."
   ]
  },
  {
   "cell_type": "markdown",
   "metadata": {},
   "source": [
    "### Recovery check\n",
    "\n",
    "We should be able to get an examination of if the rougher is calculated correctly by going for a manual calculation and comparing to the one in the full set and check our mean absolute error. First, we can get a look at the descriptive statistics of our data to get a handle on what we should expect to see from our manual calculation."
   ]
  },
  {
   "cell_type": "code",
   "execution_count": 6,
   "metadata": {},
   "outputs": [
    {
     "data": {
      "text/plain": [
       "count    19597.000000\n",
       "mean        83.078122\n",
       "std         14.661880\n",
       "min          0.000000\n",
       "25%         80.941306\n",
       "50%         86.144121\n",
       "75%         89.987561\n",
       "max        100.000000\n",
       "Name: rougher.output.recovery, dtype: float64"
      ]
     },
     "execution_count": 6,
     "metadata": {},
     "output_type": "execute_result"
    }
   ],
   "source": [
    "gold_full['rougher.output.recovery'].describe()"
   ]
  },
  {
   "cell_type": "markdown",
   "metadata": {},
   "source": [
    "The formula to calculate the recovery is as follows:\n",
    "\n",
    "$$ R = \\frac{C * (F - T)}{F * (C - T)} * 100$$\n",
    "\n",
    "C = rougher.output.concentrate_au\n",
    "\n",
    "F = rougher.input.feed_au\n",
    "\n",
    "T = rougher.output.tail_au"
   ]
  },
  {
   "cell_type": "code",
   "execution_count": 7,
   "metadata": {
    "scrolled": true
   },
   "outputs": [
    {
     "data": {
      "text/plain": [
       "count    1.994000e+04\n",
       "mean              NaN\n",
       "std               NaN\n",
       "min              -inf\n",
       "25%      8.078582e+01\n",
       "50%      8.612560e+01\n",
       "75%      9.003910e+01\n",
       "max               inf\n",
       "dtype: float64"
      ]
     },
     "execution_count": 7,
     "metadata": {},
     "output_type": "execute_result"
    }
   ],
   "source": [
    "def test_rough(gold):\n",
    "    # set variables\n",
    "\n",
    "    # C is the share of gold AFTER flotation\n",
    "\n",
    "    C = gold['rougher.output.concentrate_au']\n",
    "\n",
    "    # F is the share of gold BEFORE the flotation\n",
    "\n",
    "    F = gold['rougher.input.feed_au']\n",
    "\n",
    "    # T is the share of gold in the tails BEFORE flotation\n",
    "\n",
    "    T = gold['rougher.output.tail_au']\n",
    "    \n",
    "    # calculate\n",
    "    \n",
    "    try:\n",
    "        test_rougher = ((C * (F - T)) / (F * (C - T))) * 100\n",
    "        return test_rougher\n",
    "    except ZeroDivisionError:\n",
    "        return 0\n",
    "\n",
    "true_rougher = gold_full['rougher.output.recovery']\n",
    "\n",
    "test_rougher = test_rough(gold_full)\n",
    "\n",
    "test_rougher.describe()"
   ]
  },
  {
   "cell_type": "markdown",
   "metadata": {},
   "source": [
    "Here we see that the test_rougher has some values that are giving us NaN, which will mess with possible calculations. The reason for this is because there are values that are dividing by zero since F has some values that are zero. If there's no gold in the feed before flotation, then it goes to follow that there will be no gold in the feed after the flotation and thus, the value will be zero.\n",
    "\n",
    "To solve this, we will set any results that are less than 0 to 0, and any results greater than 100 to 100."
   ]
  },
  {
   "cell_type": "code",
   "execution_count": 8,
   "metadata": {},
   "outputs": [
    {
     "data": {
      "text/plain": [
       "count    19940.000000\n",
       "mean        82.391272\n",
       "std         16.745940\n",
       "min          0.000000\n",
       "25%         80.785821\n",
       "50%         86.125595\n",
       "75%         90.039104\n",
       "max        100.000000\n",
       "dtype: float64"
      ]
     },
     "execution_count": 8,
     "metadata": {},
     "output_type": "execute_result"
    }
   ],
   "source": [
    "test_rougher = np.clip(test_rougher, 0, 100)\n",
    "test_rougher.describe()"
   ]
  },
  {
   "cell_type": "code",
   "execution_count": 9,
   "metadata": {
    "scrolled": false
   },
   "outputs": [
    {
     "data": {
      "text/plain": [
       "count    19597.000000\n",
       "mean        83.078122\n",
       "std         14.661880\n",
       "min          0.000000\n",
       "25%         80.941306\n",
       "50%         86.144121\n",
       "75%         89.987561\n",
       "max        100.000000\n",
       "Name: rougher.output.recovery, dtype: float64"
      ]
     },
     "execution_count": 9,
     "metadata": {},
     "output_type": "execute_result"
    }
   ],
   "source": [
    "true_rougher.describe()"
   ]
  },
  {
   "cell_type": "markdown",
   "metadata": {},
   "source": [
    "With this done, we can check the mean absolute error safely. We do still have some values that have missing values in both sets of data. We will fill those in with a value of 0 - this may seem slightly reckless as we don't know whether or not the value actually is zero, but actually this should be fine. It will make our MAE lean closer to being \"too strict.\""
   ]
  },
  {
   "cell_type": "code",
   "execution_count": 10,
   "metadata": {},
   "outputs": [
    {
     "data": {
      "text/plain": [
       "0.6515231554851291"
      ]
     },
     "execution_count": 10,
     "metadata": {},
     "output_type": "execute_result"
    }
   ],
   "source": [
    "# find mae\n",
    "\n",
    "mean_absolute_error(true_rougher.fillna(0), test_rougher.fillna(0))"
   ]
  },
  {
   "cell_type": "markdown",
   "metadata": {},
   "source": [
    "Our mean absolute error is 0.6515, a fairly respectable number. We are dealing with percentages here, after all, so this would indicate that compared to a manually calculated value, the results we are seeing in the data set are on average only a little over one half of one percent off, being as strict as possible. "
   ]
  },
  {
   "cell_type": "markdown",
   "metadata": {},
   "source": [
    "### Features not available in test set\n",
    "\n",
    "As could be seen in some of our preliminary looks, the test set is missing exactly 34 columns from the full set of data - meaning it has 52 columns or 51 potential features compared to the 86 columns (85 potential features) of the full data. The following columns are ones that are not found in gold_test."
   ]
  },
  {
   "cell_type": "code",
   "execution_count": 11,
   "metadata": {
    "scrolled": true
   },
   "outputs": [
    {
     "name": "stdout",
     "output_type": "stream",
     "text": [
      "<class 'pandas.core.frame.DataFrame'>\n",
      "RangeIndex: 22716 entries, 0 to 22715\n",
      "Data columns (total 34 columns):\n",
      " #   Column                                              Non-Null Count  Dtype  \n",
      "---  ------                                              --------------  -----  \n",
      " 0   final.output.concentrate_ag                         22627 non-null  float64\n",
      " 1   final.output.concentrate_pb                         22629 non-null  float64\n",
      " 2   final.output.concentrate_sol                        22331 non-null  float64\n",
      " 3   final.output.concentrate_au                         22630 non-null  float64\n",
      " 4   final.output.recovery                               20753 non-null  float64\n",
      " 5   final.output.tail_ag                                22633 non-null  float64\n",
      " 6   final.output.tail_pb                                22516 non-null  float64\n",
      " 7   final.output.tail_sol                               22445 non-null  float64\n",
      " 8   final.output.tail_au                                22635 non-null  float64\n",
      " 9   primary_cleaner.output.concentrate_ag               22618 non-null  float64\n",
      " 10  primary_cleaner.output.concentrate_pb               22268 non-null  float64\n",
      " 11  primary_cleaner.output.concentrate_sol              21918 non-null  float64\n",
      " 12  primary_cleaner.output.concentrate_au               22618 non-null  float64\n",
      " 13  primary_cleaner.output.tail_ag                      22614 non-null  float64\n",
      " 14  primary_cleaner.output.tail_pb                      22594 non-null  float64\n",
      " 15  primary_cleaner.output.tail_sol                     22365 non-null  float64\n",
      " 16  primary_cleaner.output.tail_au                      22617 non-null  float64\n",
      " 17  rougher.calculation.sulfate_to_au_concentrate       22672 non-null  float64\n",
      " 18  rougher.calculation.floatbank10_sulfate_to_au_feed  22672 non-null  float64\n",
      " 19  rougher.calculation.floatbank11_sulfate_to_au_feed  22672 non-null  float64\n",
      " 20  rougher.calculation.au_pb_ratio                     21089 non-null  float64\n",
      " 21  rougher.output.concentrate_ag                       22618 non-null  float64\n",
      " 22  rougher.output.concentrate_pb                       22618 non-null  float64\n",
      " 23  rougher.output.concentrate_sol                      22526 non-null  float64\n",
      " 24  rougher.output.concentrate_au                       22618 non-null  float64\n",
      " 25  rougher.output.recovery                             19597 non-null  float64\n",
      " 26  rougher.output.tail_ag                              19979 non-null  float64\n",
      " 27  rougher.output.tail_pb                              22618 non-null  float64\n",
      " 28  rougher.output.tail_sol                             19980 non-null  float64\n",
      " 29  rougher.output.tail_au                              19980 non-null  float64\n",
      " 30  secondary_cleaner.output.tail_ag                    22616 non-null  float64\n",
      " 31  secondary_cleaner.output.tail_pb                    22600 non-null  float64\n",
      " 32  secondary_cleaner.output.tail_sol                   20501 non-null  float64\n",
      " 33  secondary_cleaner.output.tail_au                    22618 non-null  float64\n",
      "dtypes: float64(34)\n",
      "memory usage: 5.9 MB\n"
     ]
    }
   ],
   "source": [
    "gold_full[gold_full.columns[~gold_full.columns.isin(gold_test.columns)]].info()"
   ]
  },
  {
   "cell_type": "markdown",
   "metadata": {},
   "source": [
    "One thing we can note here is that all of the missing values present are those of outputs or calculations dependent on those outputs. This should be fine, since we are aiming to build a model that will predict those values.\n",
    "\n",
    "Since these are values that are in the training set but not the test set, we should remove the columns in question from our training set, so that we are building a model that we can apply to the test set."
   ]
  },
  {
   "cell_type": "markdown",
   "metadata": {},
   "source": [
    "### Data preprocessing\n",
    "\n",
    "We have a few things we might want to do in our data preprocessing. Firstly, we want to get rid of missing values if possible. We will use ffill in order to do this."
   ]
  },
  {
   "cell_type": "code",
   "execution_count": 12,
   "metadata": {},
   "outputs": [],
   "source": [
    "# fill null values\n",
    "gold_full.fillna(method='ffill', inplace=True)\n",
    "\n",
    "gold_train.fillna(method='ffill', inplace=True)\n",
    "\n",
    "gold_test.fillna(method='ffill', inplace=True)"
   ]
  },
  {
   "cell_type": "markdown",
   "metadata": {},
   "source": [
    "Next, we should create a training and test set for our data. We will drop the columns that are not inside the test set from the training set, so that they will not be likely to influence our results."
   ]
  },
  {
   "cell_type": "code",
   "execution_count": 13,
   "metadata": {},
   "outputs": [],
   "source": [
    "unalike_columns = ['final.output.concentrate_ag', \n",
    "                   'final.output.concentrate_pb', \n",
    "                   'final.output.concentrate_sol', \n",
    "                   'final.output.concentrate_au', \n",
    "                   'final.output.tail_ag', \n",
    "                   'final.output.tail_pb',\n",
    "                   'final.output.tail_sol', \n",
    "                   'final.output.tail_au', \n",
    "                   'primary_cleaner.output.concentrate_ag',\n",
    "                   'primary_cleaner.output.concentrate_pb', \n",
    "                   'primary_cleaner.output.concentrate_sol', \n",
    "                   'primary_cleaner.output.concentrate_au', \n",
    "                   'primary_cleaner.output.tail_ag', \n",
    "                   'primary_cleaner.output.tail_pb', \n",
    "                   'primary_cleaner.output.tail_sol', \n",
    "                   'primary_cleaner.output.tail_au', \n",
    "                   'rougher.calculation.sulfate_to_au_concentrate', \n",
    "                   'rougher.calculation.floatbank10_sulfate_to_au_feed', \n",
    "                   'rougher.calculation.floatbank11_sulfate_to_au_feed', \n",
    "                   'rougher.calculation.au_pb_ratio', \n",
    "                   'rougher.output.concentrate_ag', \n",
    "                   'rougher.output.concentrate_pb', \n",
    "                   'rougher.output.concentrate_sol', \n",
    "                   'rougher.output.concentrate_au', \n",
    "                   'rougher.output.tail_ag', \n",
    "                   'rougher.output.tail_pb', \n",
    "                   'rougher.output.tail_sol', \n",
    "                   'rougher.output.tail_au', \n",
    "                   'secondary_cleaner.output.tail_ag', \n",
    "                   'secondary_cleaner.output.tail_pb', \n",
    "                   'secondary_cleaner.output.tail_sol', \n",
    "                   'secondary_cleaner.output.tail_au', \n",
    "                   'date']\n",
    "\n",
    "# drop features from training set\n",
    "\n",
    "gold_train_b = gold_train.drop(unalike_columns, axis = 1)\n",
    "\n",
    "# split into features/target\n",
    "\n",
    "features_train = gold_train_b.drop(['rougher.output.recovery', 'final.output.recovery'], axis = 1)\n",
    "target_train = gold_train_b[['rougher.output.recovery', 'final.output.recovery']]"
   ]
  },
  {
   "cell_type": "markdown",
   "metadata": {},
   "source": [
    "Since our test data set did not include the final.output.recovery and rougher.output.recovery targets, we should add them in by performing a left merge with the full data set. In this case, we can merge on the date to ensure that the correct data is imported."
   ]
  },
  {
   "cell_type": "code",
   "execution_count": 14,
   "metadata": {},
   "outputs": [],
   "source": [
    "# merge recovery into gold_test\n",
    "\n",
    "gold_test_b = pd.merge(gold_test, gold_full[['date', 'final.output.recovery', 'rougher.output.recovery']], \n",
    "                       on = 'date', how = 'left')\n",
    "\n",
    "# drop date\n",
    "\n",
    "gold_test_b = gold_test_b.drop(['date'], axis = 1)\n",
    "\n",
    "# split into features/target\n",
    "\n",
    "features_test = gold_test_b.drop(['rougher.output.recovery', 'final.output.recovery'], axis = 1)\n",
    "target_test = gold_test_b[['rougher.output.recovery', 'final.output.recovery']]"
   ]
  },
  {
   "cell_type": "markdown",
   "metadata": {},
   "source": [
    "## Data analysis\n",
    "\n",
    "### Concentration of metals based on purification stage\n",
    "\n",
    "Since we are mainly just taking note of how the concentrations change, we will do some fairly rudimentary analysis based on the stages and if anything seems odd we will investigate further. Since we need to repeat our visualization for multiple different metals, we can create a function to keep this section cleaner.\n",
    "\n",
    "Starting with the concentration of gold, as that is the most important one to look into."
   ]
  },
  {
   "cell_type": "code",
   "execution_count": 15,
   "metadata": {},
   "outputs": [],
   "source": [
    "def visualize_metals(metal):\n",
    "    print('Sum\\n',metal.sum(), '\\n')\n",
    "    print('Descriptive stats:\\n', metal.describe())\n",
    "    metal.plot(kind = 'hist', bins = 50, title = 'metal ratio based on stage', xlabel = 'percent', density = True,\n",
    "               alpha = 0.25, grid = True, figsize = (15,8))"
   ]
  },
  {
   "cell_type": "code",
   "execution_count": 16,
   "metadata": {},
   "outputs": [],
   "source": [
    "au_concentrations = gold_full[['rougher.input.feed_au', 'rougher.output.concentrate_au', \n",
    "                               'primary_cleaner.output.concentrate_au', 'final.output.concentrate_au']]"
   ]
  },
  {
   "cell_type": "code",
   "execution_count": 17,
   "metadata": {},
   "outputs": [
    {
     "name": "stdout",
     "output_type": "stream",
     "text": [
      "Sum\n",
      " rougher.input.feed_au                    171411.780412\n",
      "rougher.output.concentrate_au            405060.555729\n",
      "primary_cleaner.output.concentrate_au    661489.159778\n",
      "final.output.concentrate_au              906180.262071\n",
      "dtype: float64 \n",
      "\n",
      "Descriptive stats:\n",
      "        rougher.input.feed_au  rougher.output.concentrate_au  \\\n",
      "count           22716.000000                   22716.000000   \n",
      "mean                7.545861                      17.831509   \n",
      "std                 3.047761                       6.842737   \n",
      "min                 0.000000                       0.000000   \n",
      "25%                 6.473371                      17.894015   \n",
      "50%                 7.879193                      19.995513   \n",
      "75%                 9.664583                      21.562366   \n",
      "max                14.093363                      28.824507   \n",
      "\n",
      "       primary_cleaner.output.concentrate_au  final.output.concentrate_au  \n",
      "count                           22716.000000                 22716.000000  \n",
      "mean                               29.119967                    39.891718  \n",
      "std                                10.650273                    13.540157  \n",
      "min                                 0.000000                     0.000000  \n",
      "25%                                29.336078                    42.353890  \n",
      "50%                                32.345542                    44.639019  \n",
      "75%                                34.762169                    46.106662  \n",
      "max                                45.933934                    53.611374  \n"
     ]
    },
    {
     "data": {
      "image/png": "[encoded data removed]",
      "text/plain": [
       "<Figure size 1080x576 with 1 Axes>"
      ]
     },
     "metadata": {
      "needs_background": "light"
     },
     "output_type": "display_data"
    }
   ],
   "source": [
    "visualize_metals(au_concentrations)"
   ]
  },
  {
   "cell_type": "markdown",
   "metadata": {},
   "source": [
    "As we could have expected, the average concentration of gold increases in each of our stages and the frequency of 0 concentration lowers."
   ]
  },
  {
   "cell_type": "code",
   "execution_count": 18,
   "metadata": {},
   "outputs": [],
   "source": [
    "ag_concentrations = gold_full[['rougher.input.feed_ag', 'rougher.output.concentrate_ag', \n",
    "                               'primary_cleaner.output.concentrate_ag', 'final.output.concentrate_ag']]"
   ]
  },
  {
   "cell_type": "code",
   "execution_count": 19,
   "metadata": {},
   "outputs": [
    {
     "name": "stdout",
     "output_type": "stream",
     "text": [
      "Sum\n",
      " rougher.input.feed_ag                    182732.898021\n",
      "rougher.output.concentrate_ag            246368.863860\n",
      "primary_cleaner.output.concentrate_ag    174162.930712\n",
      "final.output.concentrate_ag              108310.180492\n",
      "dtype: float64 \n",
      "\n",
      "Descriptive stats:\n",
      "        rougher.input.feed_ag  rougher.output.concentrate_ag  \\\n",
      "count           22716.000000                   22716.000000   \n",
      "mean                8.044237                      10.845609   \n",
      "std                 3.148133                       4.406924   \n",
      "min                 0.000000                       0.000000   \n",
      "25%                 6.935723                      10.112351   \n",
      "50%                 8.295898                      11.774115   \n",
      "75%                10.127434                      13.609712   \n",
      "max                14.869652                      24.480271   \n",
      "\n",
      "       primary_cleaner.output.concentrate_ag  final.output.concentrate_ag  \n",
      "count                           22716.000000                 22716.000000  \n",
      "mean                                7.666972                     4.768013  \n",
      "std                                 3.134033                     2.042594  \n",
      "min                                 0.000000                     0.000000  \n",
      "25%                                 6.756639                     4.011471  \n",
      "50%                                 8.256062                     4.949959  \n",
      "75%                                 9.690952                     5.857985  \n",
      "max                                16.081632                    16.001945  \n"
     ]
    },
    {
     "data": {
      "image/png": "[encoded data removed]",
      "text/plain": [
       "<Figure size 1080x576 with 1 Axes>"
      ]
     },
     "metadata": {
      "needs_background": "light"
     },
     "output_type": "display_data"
    }
   ],
   "source": [
    "visualize_metals(ag_concentrations)"
   ]
  },
  {
   "cell_type": "code",
   "execution_count": 20,
   "metadata": {},
   "outputs": [],
   "source": [
    "pb_concentrations = gold_full[['rougher.input.feed_pb', 'rougher.output.concentrate_pb', \n",
    "                               'primary_cleaner.output.concentrate_pb', 'final.output.concentrate_pb']]"
   ]
  },
  {
   "cell_type": "code",
   "execution_count": 21,
   "metadata": {},
   "outputs": [
    {
     "name": "stdout",
     "output_type": "stream",
     "text": [
      "Sum\n",
      " rougher.input.feed_pb                     74575.380942\n",
      "rougher.output.concentrate_pb            156442.126750\n",
      "primary_cleaner.output.concentrate_pb    200110.183752\n",
      "final.output.concentrate_pb              206065.154798\n",
      "dtype: float64 \n",
      "\n",
      "Descriptive stats:\n",
      "        rougher.input.feed_pb  rougher.output.concentrate_pb  \\\n",
      "count           22716.000000                   22716.000000   \n",
      "mean                3.282945                       6.886869   \n",
      "std                 1.462554                       2.831347   \n",
      "min                 0.000000                       0.000000   \n",
      "25%                 2.634169                       6.366740   \n",
      "50%                 3.419915                       7.570890   \n",
      "75%                 4.199225                       8.477617   \n",
      "max                 7.142594                      18.394042   \n",
      "\n",
      "       primary_cleaner.output.concentrate_pb  final.output.concentrate_pb  \n",
      "count                           22716.000000                 22716.000000  \n",
      "mean                                8.809217                     9.071366  \n",
      "std                                 3.798169                     3.260960  \n",
      "min                                 0.000000                     0.000000  \n",
      "25%                                 7.649745                     8.737809  \n",
      "50%                                 9.882876                     9.910363  \n",
      "75%                                11.234420                    10.927188  \n",
      "max                                17.081278                    17.031899  \n"
     ]
    },
    {
     "data": {
      "image/png": "[encoded data removed]",
      "text/plain": [
       "<Figure size 1080x576 with 1 Axes>"
      ]
     },
     "metadata": {
      "needs_background": "light"
     },
     "output_type": "display_data"
    }
   ],
   "source": [
    "visualize_metals(pb_concentrations)"
   ]
  },
  {
   "cell_type": "markdown",
   "metadata": {},
   "source": [
    "The concentration of gold went up as we progressed through the stages, which makes sense as that is what the process is meant to do. It appears to become approximately 15% more concentrated each stage on average. Our silver concentration drops as the stages progress, which also makes sense since proportionally we would expect that, as the ratio of gold rises that we would see the ratio of other metals to drop.\n",
    "\n",
    "The lead ratio is interesting, however, in that its concentration also rises, which suggests that the metals we are losing in the flotation and purification process are silver and sol. When we consider that this change occurs during the flotation stage and that the ratio remains fairly consistent afterwards, it is likely that if we wished to alter the results, this would be the stage to look into."
   ]
  },
  {
   "cell_type": "markdown",
   "metadata": {},
   "source": [
    "### Feed particle size distribution\n",
    "\n",
    "We need to compare the data of our feed particle size distributions to ensure that the distributions are similar in size, since if they are too different then the model evaluation will be incorrect."
   ]
  },
  {
   "cell_type": "code",
   "execution_count": 22,
   "metadata": {},
   "outputs": [
    {
     "name": "stdout",
     "output_type": "stream",
     "text": [
      "Training:\n",
      " count    16860.000000\n",
      "mean         7.297285\n",
      "std          0.619166\n",
      "min          1.080000\n",
      "25%          6.940000\n",
      "50%          7.285000\n",
      "75%          7.700000\n",
      "max         10.470000\n",
      "Name: primary_cleaner.input.feed_size, dtype: float64\n",
      "\n",
      "Test:\n",
      " count    5856.000000\n",
      "mean        7.264651\n",
      "std         0.611526\n",
      "min         5.650000\n",
      "25%         6.885625\n",
      "50%         7.259333\n",
      "75%         7.650000\n",
      "max        15.500000\n",
      "Name: primary_cleaner.input.feed_size, dtype: float64\n"
     ]
    },
    {
     "data": {
      "image/png": "[encoded data removed]",
      "text/plain": [
       "<Figure size 864x432 with 1 Axes>"
      ]
     },
     "metadata": {
      "needs_background": "light"
     },
     "output_type": "display_data"
    }
   ],
   "source": [
    "# descriptive stats\n",
    "\n",
    "print(\"Training:\\n\", gold_train['primary_cleaner.input.feed_size'].describe())\n",
    "print(\"\\nTest:\\n\", gold_test['primary_cleaner.input.feed_size'].describe())\n",
    "\n",
    "# histogram\n",
    "\n",
    "plt.figure(figsize=(12, 6))\n",
    "plt.hist(gold_train['primary_cleaner.input.feed_size'], density = True, alpha = 0.5, bins = 50)\n",
    "plt.hist(gold_test[\"primary_cleaner.input.feed_size\"], density = True, alpha = 0.5, bins = 50)\n",
    "plt.title('primary_cleaner.input.feed_size')\n",
    "plt.xlabel('feed size')\n",
    "plt.ylabel('distribution')\n",
    "plt.legend(['gold_train', 'gold_test'])\n",
    "plt.show()"
   ]
  },
  {
   "cell_type": "code",
   "execution_count": 23,
   "metadata": {},
   "outputs": [
    {
     "name": "stdout",
     "output_type": "stream",
     "text": [
      "Training:\n",
      " count    16860.000000\n",
      "mean        60.188595\n",
      "std         30.522242\n",
      "min          9.659576\n",
      "25%         47.548897\n",
      "50%         54.066003\n",
      "75%         65.397249\n",
      "max        484.967466\n",
      "Name: rougher.input.feed_size, dtype: float64\n",
      "\n",
      "Test:\n",
      " count    5856.000000\n",
      "mean       55.898866\n",
      "std        22.707969\n",
      "min         0.046369\n",
      "25%        43.852884\n",
      "50%        49.964796\n",
      "75%        61.628003\n",
      "max       477.445473\n",
      "Name: rougher.input.feed_size, dtype: float64\n"
     ]
    },
    {
     "data": {
      "image/png": "[encoded data removed]",
      "text/plain": [
       "<Figure size 864x432 with 1 Axes>"
      ]
     },
     "metadata": {
      "needs_background": "light"
     },
     "output_type": "display_data"
    }
   ],
   "source": [
    "# descriptive stats\n",
    "\n",
    "print(\"Training:\\n\", gold_train['rougher.input.feed_size'].describe())\n",
    "print(\"\\nTest:\\n\", gold_test['rougher.input.feed_size'].describe())\n",
    "\n",
    "# histogram\n",
    "\n",
    "plt.figure(figsize=(12, 6))\n",
    "plt.hist(gold_train['rougher.input.feed_size'], density = True, alpha = 0.5, bins = 50)\n",
    "plt.hist(gold_test[\"rougher.input.feed_size\"], density = True, alpha = 0.5, bins = 50)\n",
    "plt.title('rougher.input.feed_size')\n",
    "plt.xlabel('feed size')\n",
    "plt.ylabel('distribution')\n",
    "plt.legend(['gold_train', 'gold_test'])\n",
    "plt.show()"
   ]
  },
  {
   "cell_type": "markdown",
   "metadata": {},
   "source": [
    "Some of these items look to be fairly close, and others slightly less so. There is no clear discrepancy, the distributions both appear to be normal around the same general area."
   ]
  },
  {
   "cell_type": "markdown",
   "metadata": {},
   "source": [
    "### Concentrations of substances at different stages"
   ]
  },
  {
   "cell_type": "code",
   "execution_count": 24,
   "metadata": {},
   "outputs": [],
   "source": [
    "feed_total = (gold_full['rougher.input.feed_au'] + gold_full['rougher.input.feed_ag']\n",
    "                 + gold_full['rougher.input.feed_pb'] + gold_full['rougher.input.feed_sol'])\n",
    "rougher_total = (gold_full['rougher.output.concentrate_au'] + gold_full['rougher.output.concentrate_ag']\n",
    "                 + gold_full['rougher.output.concentrate_pb'] + gold_full['rougher.output.concentrate_sol'])\n",
    "final_total = (gold_full['final.output.concentrate_au'] + gold_full['final.output.concentrate_ag']\n",
    "                 + gold_full['final.output.concentrate_pb'] + gold_full['final.output.concentrate_sol'])"
   ]
  },
  {
   "cell_type": "code",
   "execution_count": 25,
   "metadata": {},
   "outputs": [
    {
     "data": {
      "image/png": "[encoded data removed]",
      "text/plain": [
       "<Figure size 864x432 with 1 Axes>"
      ]
     },
     "metadata": {
      "needs_background": "light"
     },
     "output_type": "display_data"
    }
   ],
   "source": [
    "plt.figure(figsize=(12, 6))\n",
    "plt.hist(feed_total, density = True, alpha = 0.3, bins = 100)\n",
    "plt.hist(rougher_total, density = True, alpha = 0.3, bins = 100)\n",
    "plt.hist(final_total, density = True, alpha = 0.3, bins = 100)\n",
    "plt.title('total concentrations')\n",
    "plt.ylabel('total')\n",
    "plt.legend(['feed_total', 'rougher_total', 'final_total'])\n",
    "plt.show()"
   ]
  },
  {
   "cell_type": "markdown",
   "metadata": {},
   "source": [
    "The concentration of all our metals is, as we might hope, highest on average in our final results. Though it appears that there are some instances of higher value in the rougher.\n",
    "\n",
    "We could have seen it in some of our earlier plots but we also see a pretty large gathering where the total concentration of metals is 0 across all three stages, or at least very close to 0. This would suggest it's a sample that has practically none of the substances we wish to use for profit in question from the outset - so, if we aim to analyze the process of purification, we might wish to get rid of those samples that have never had any of our substances from the beginning.\n",
    "\n",
    "First, we can check and see just what proportion of our data these low values are encompassing."
   ]
  },
  {
   "cell_type": "code",
   "execution_count": 26,
   "metadata": {},
   "outputs": [
    {
     "data": {
      "text/plain": [
       "date                                          0.091653\n",
       "final.output.concentrate_ag                   0.091653\n",
       "final.output.concentrate_pb                   0.091653\n",
       "final.output.concentrate_sol                  0.091653\n",
       "final.output.concentrate_au                   0.091653\n",
       "                                                ...   \n",
       "secondary_cleaner.state.floatbank5_a_level    0.091653\n",
       "secondary_cleaner.state.floatbank5_b_air      0.091653\n",
       "secondary_cleaner.state.floatbank5_b_level    0.091653\n",
       "secondary_cleaner.state.floatbank6_a_air      0.091653\n",
       "secondary_cleaner.state.floatbank6_a_level    0.091653\n",
       "Length: 87, dtype: float64"
      ]
     },
     "execution_count": 26,
     "metadata": {},
     "output_type": "execute_result"
    }
   ],
   "source": [
    "(gold_full[(gold_full['final.output.concentrate_ag'] + gold_full['final.output.concentrate_au'] +\n",
    "            gold_full['final.output.concentrate_pb'] + gold_full['final.output.concentrate_sol'])\n",
    "           <= 1]).count() / len(gold_full)"
   ]
  },
  {
   "cell_type": "markdown",
   "metadata": {},
   "source": [
    "We see that about 9.1653% of our data set is these values lower than 1. In terms of training our data, this probably is too much to exclude from our data set. Not including the data could harm the model more than it helps.\n",
    "\n",
    "On the other hand, it seems like it could very well be data that has some sort of error with it, and that if we do not drop it that it could introduce data into our model that should not be there. Since it is unclear what is causing these strange observations and they may be related to an error in the data collection process, it likely would be for the best that we remove them."
   ]
  },
  {
   "cell_type": "code",
   "execution_count": 27,
   "metadata": {},
   "outputs": [],
   "source": [
    "# create copy data frame\n",
    "\n",
    "gold_train_c = gold_train.copy(deep = False)\n",
    "\n",
    "# add an all concentration column\n",
    "\n",
    "gold_train_c['all_concentration'] = (gold_train_c['final.output.concentrate_ag'] + gold_train_c['final.output.concentrate_au'] +\n",
    "            gold_train_c['final.output.concentrate_pb'] + gold_train_c['final.output.concentrate_sol'])\n",
    "\n",
    "# remove rows where all concentration is 0\n",
    "\n",
    "gold_train_c = gold_train_c[gold_train_c['all_concentration'] > 0]\n",
    "\n",
    "# since we have needed data that we originally dropped from our training set in preprocessing,\n",
    "# we will need to remake our training set\n",
    "\n",
    "gold_train_d = gold_train_c.drop(unalike_columns, axis = 1)\n",
    "gold_train_d = gold_train_d.drop(['all_concentration'], axis = 1)\n",
    "\n",
    "features_train = gold_train_d.drop(['rougher.output.recovery', 'final.output.recovery'], axis = 1)\n",
    "target_train = gold_train_d[['rougher.output.recovery', 'final.output.recovery']]"
   ]
  },
  {
   "cell_type": "markdown",
   "metadata": {},
   "source": [
    "We will also need to redo our preprocessing that we did on the test set to remove these rows."
   ]
  },
  {
   "cell_type": "code",
   "execution_count": 28,
   "metadata": {},
   "outputs": [],
   "source": [
    "# merge recovery into gold_test\n",
    "\n",
    "gold_test_c = pd.merge(gold_test, gold_full[['date', 'final.output.recovery', 'rougher.output.recovery', \n",
    "                                             'final.output.concentrate_ag', 'final.output.concentrate_au',\n",
    "                                             'final.output.concentrate_pb', 'final.output.concentrate_sol']], \n",
    "                       on = 'date', how = 'left')\n",
    "\n",
    "# add all concentration\n",
    "\n",
    "gold_test_c['all_concentration'] = (gold_test_c['final.output.concentrate_ag'] + gold_test_c['final.output.concentrate_au'] +\n",
    "            gold_test_c['final.output.concentrate_pb'] + gold_test_c['final.output.concentrate_sol'])\n",
    "\n",
    "# remove rows where all concentration is 0\n",
    "\n",
    "gold_train_c = gold_train_c[gold_train_c['all_concentration'] > 0]\n",
    "\n",
    "# drop columns used for calculation\n",
    "\n",
    "gold_test_c = gold_test_c.drop(['date', 'all_concentration', 'final.output.concentrate_ag', 'final.output.concentrate_au',\n",
    "                                'final.output.concentrate_pb', 'final.output.concentrate_sol'], axis = 1)\n",
    "\n",
    "# split into features/target\n",
    "\n",
    "features_test = gold_test_c.drop(['rougher.output.recovery', 'final.output.recovery'], axis = 1)\n",
    "target_test = gold_test_c[['rougher.output.recovery', 'final.output.recovery']]"
   ]
  },
  {
   "cell_type": "markdown",
   "metadata": {},
   "source": [
    "## Build the model\n",
    "\n",
    "To create the model, we can try a few different forms of regression. We'll want to use cross validation to train our models to get the highest accuracies. For this, it would be useful to make our cross validation be placed in its own function so that it can be run across different models."
   ]
  },
  {
   "cell_type": "markdown",
   "metadata": {},
   "source": [
    "### Final sMAPE function\n",
    "\n",
    "Firstly, we will create a function that will let us take the final sMAPE. Our function will perform the following calculations:\n",
    "\n",
    "$$sMAPE = \\frac{1}{N} \\Sigma^n_{i = 1} \\frac{|y_i-\\hat{y_i}|} {\\frac{1}{2} (|y_i|-|\\hat{y_i}|)} *100$$\n",
    "\n",
    "$$sMAPE_{complete} = 0.25 * sMAPE_{rougher} + 0.75 * sMAPE_{final}$$"
   ]
  },
  {
   "cell_type": "code",
   "execution_count": 148,
   "metadata": {},
   "outputs": [],
   "source": [
    "# calculate smape\n",
    "\n",
    "def calc_smape(target, prediction):\n",
    "    try:\n",
    "        numerator = np.abs(prediction - target)\n",
    "        denominator = 0.5 * (np.abs(target) + np.abs(prediction))\n",
    "                        \n",
    "        smape = 100/len(target) *  np.abs(np.sum(numerator / denominator))\n",
    "        return smape\n",
    "    except ZeroDivisionError:\n",
    "        return 0\n",
    "\n",
    "def final_smape(target, prediction):\n",
    "    r_smape = calc_smape(target['rougher.output.recovery'], prediction[:,0])\n",
    "    f_smape = calc_smape(target['final.output.recovery'], prediction[:,1])\n",
    "    \n",
    "    final_smape = (0.25 * r_smape) + (0.75 * f_smape)\n",
    "    \n",
    "    return final_smape"
   ]
  },
  {
   "cell_type": "code",
   "execution_count": 149,
   "metadata": {},
   "outputs": [],
   "source": [
    "smape_scorer = make_scorer(final_smape, greater_is_better=False)"
   ]
  },
  {
   "cell_type": "code",
   "execution_count": 150,
   "metadata": {},
   "outputs": [],
   "source": [
    "def get_cv_scores(model_type, feature, target):\n",
    "\n",
    "    kfold = KFold(n_splits = 5, random_state = 12345, shuffle = True)\n",
    "\n",
    "    cross_val_smape = np.abs(cross_val_score(model_type, feature, target, scoring = smape_scorer, cv = kfold))\n",
    "\n",
    "    print(\"Cross-Validation sMAPE Scores:\")\n",
    "    print('Mean:', cross_val_smape.mean())\n",
    "    print('Min:', cross_val_smape.min())\n",
    "    print('Max:', cross_val_smape.max())"
   ]
  },
  {
   "cell_type": "markdown",
   "metadata": {},
   "source": [
    "### Train different models"
   ]
  },
  {
   "cell_type": "code",
   "execution_count": 151,
   "metadata": {},
   "outputs": [
    {
     "name": "stdout",
     "output_type": "stream",
     "text": [
      "Decision Tree model:\n",
      "Cross-Validation sMAPE Scores:\n",
      "Mean: 8.923443253849005\n",
      "Min: 8.480205504061184\n",
      "Max: 9.344384233579696\n"
     ]
    }
   ],
   "source": [
    "dec_tree = DecisionTreeRegressor(random_state = 12345)\n",
    "\n",
    "print('Decision Tree model:')\n",
    "get_cv_scores(dec_tree, features_train, target_train)"
   ]
  },
  {
   "cell_type": "code",
   "execution_count": 152,
   "metadata": {
    "scrolled": true
   },
   "outputs": [
    {
     "name": "stdout",
     "output_type": "stream",
     "text": [
      "Linear Regression model:\n",
      "Cross-Validation sMAPE Scores:\n",
      "Mean: 10.796211479873815\n",
      "Min: 10.54147011354803\n",
      "Max: 11.051290612535444\n"
     ]
    }
   ],
   "source": [
    "lin_reg = LinearRegression()\n",
    "\n",
    "print('Linear Regression model:')\n",
    "get_cv_scores(lin_reg, features_train, target_train)"
   ]
  },
  {
   "cell_type": "code",
   "execution_count": 167,
   "metadata": {},
   "outputs": [
    {
     "name": "stdout",
     "output_type": "stream",
     "text": [
      "Random Forest model:\n",
      "Cross-Validation sMAPE Scores:\n",
      "Mean: 7.253623086262249\n",
      "Min: 7.022530410998325\n",
      "Max: 7.52781380317766\n"
     ]
    }
   ],
   "source": [
    "ran_forest = RandomForestRegressor(random_state = 12345)\n",
    "\n",
    "print('Random Forest model:')\n",
    "get_cv_scores(ran_forest, features_train, target_train)"
   ]
  },
  {
   "cell_type": "markdown",
   "metadata": {},
   "source": [
    "Thus far, our random forest is providing us with the most accurate model, with the lowest sMAPE. We should iterate on the model by tuning our hyperparameters."
   ]
  },
  {
   "cell_type": "markdown",
   "metadata": {},
   "source": [
    "#### Hyperparameter Tuning\n",
    "\n",
    "In order to find the best set of hyperparameters possible, we will use a parameter grid from which we can test across many different hyperparameters. To get a good idea, we will create a hyperparameter tuning based on three predictors, two of which are granted five separate points and the third being the max_features parameter, which will grant us numerous fits of models to compare. We will ensure that default values are also possible, just to see if the default model might still be the best option."
   ]
  },
  {
   "cell_type": "code",
   "execution_count": 159,
   "metadata": {},
   "outputs": [],
   "source": [
    "# create the parameter grid\n",
    "\n",
    "param_grid = {\n",
    "    'max_depth': [1, 3, 5, 7, 11, 13, None],\n",
    "    'min_samples_leaf': [1, 3, 5, 7, 11, 13],\n",
    "    'max_features': ['auto', 'sqrt', 'log2']\n",
    "}\n",
    "\n",
    "model = RandomForestRegressor(random_state = 12345)\n",
    "\n",
    "# set grid to model\n",
    "\n",
    "grid_search = GridSearchCV(estimator = model, param_grid = param_grid, \n",
    "                           scoring = smape_scorer, cv = 5, n_jobs = -1, verbose = 2)"
   ]
  },
  {
   "cell_type": "code",
   "execution_count": 160,
   "metadata": {
    "scrolled": true
   },
   "outputs": [
    {
     "name": "stdout",
     "output_type": "stream",
     "text": [
      "Fitting 5 folds for each of 126 candidates, totalling 630 fits\n",
      "[CV] END .max_depth=1, max_features=auto, min_samples_leaf=1; total time=   4.1s\n",
      "[CV] END .max_depth=1, max_features=auto, min_samples_leaf=1; total time=   4.2s\n",
      "[CV] END .max_depth=1, max_features=auto, min_samples_leaf=1; total time=   4.2s\n",
      "[CV] END .max_depth=1, max_features=auto, min_samples_leaf=1; total time=   4.2s\n",
      "[CV] END .max_depth=1, max_features=auto, min_samples_leaf=1; total time=   4.3s\n",
      "[CV] END .max_depth=1, max_features=auto, min_samples_leaf=3; total time=   4.2s\n",
      "[CV] END .max_depth=1, max_features=auto, min_samples_leaf=3; total time=   4.1s\n",
      "[CV] END .max_depth=1, max_features=auto, min_samples_leaf=3; total time=   4.2s\n",
      "[CV] END .max_depth=1, max_features=auto, min_samples_leaf=3; total time=   4.2s\n",
      "[CV] END .max_depth=1, max_features=auto, min_samples_leaf=3; total time=   4.3s\n",
      "[CV] END .max_depth=1, max_features=auto, min_samples_leaf=5; total time=   4.2s\n",
      "[CV] END .max_depth=1, max_features=auto, min_samples_leaf=5; total time=   4.3s\n",
      "[CV] END .max_depth=1, max_features=auto, min_samples_leaf=5; total time=   4.3s\n",
      "[CV] END .max_depth=1, max_features=auto, min_samples_leaf=5; total time=   4.3s\n",
      "[CV] END .max_depth=1, max_features=auto, min_samples_leaf=5; total time=   4.2s\n",
      "[CV] END .max_depth=1, max_features=auto, min_samples_leaf=7; total time=   4.3s\n",
      "[CV] END .max_depth=1, max_features=auto, min_samples_leaf=7; total time=   4.5s\n",
      "[CV] END .max_depth=1, max_features=auto, min_samples_leaf=7; total time=   4.3s\n",
      "[CV] END .max_depth=1, max_features=auto, min_samples_leaf=7; total time=   4.2s\n",
      "[CV] END .max_depth=1, max_features=auto, min_samples_leaf=7; total time=   4.1s\n",
      "[CV] END max_depth=1, max_features=auto, min_samples_leaf=11; total time=   4.3s\n",
      "[CV] END max_depth=1, max_features=auto, min_samples_leaf=11; total time=   4.1s\n",
      "[CV] END max_depth=1, max_features=auto, min_samples_leaf=11; total time=   4.1s\n",
      "[CV] END max_depth=1, max_features=auto, min_samples_leaf=11; total time=   4.2s\n",
      "[CV] END max_depth=1, max_features=auto, min_samples_leaf=11; total time=   4.1s\n",
      "[CV] END max_depth=1, max_features=auto, min_samples_leaf=13; total time=   4.1s\n",
      "[CV] END max_depth=1, max_features=auto, min_samples_leaf=13; total time=   4.1s\n",
      "[CV] END max_depth=1, max_features=auto, min_samples_leaf=13; total time=   4.2s\n",
      "[CV] END max_depth=1, max_features=auto, min_samples_leaf=13; total time=   4.2s\n",
      "[CV] END max_depth=1, max_features=auto, min_samples_leaf=13; total time=   4.2s\n",
      "[CV] END .max_depth=1, max_features=sqrt, min_samples_leaf=1; total time=   0.7s\n",
      "[CV] END .max_depth=1, max_features=sqrt, min_samples_leaf=1; total time=   0.7s\n",
      "[CV] END .max_depth=1, max_features=sqrt, min_samples_leaf=1; total time=   0.7s\n",
      "[CV] END .max_depth=1, max_features=sqrt, min_samples_leaf=1; total time=   0.7s\n",
      "[CV] END .max_depth=1, max_features=sqrt, min_samples_leaf=1; total time=   0.7s\n",
      "[CV] END .max_depth=1, max_features=sqrt, min_samples_leaf=3; total time=   0.7s\n",
      "[CV] END .max_depth=1, max_features=sqrt, min_samples_leaf=3; total time=   0.7s\n",
      "[CV] END .max_depth=1, max_features=sqrt, min_samples_leaf=3; total time=   0.8s\n",
      "[CV] END .max_depth=1, max_features=sqrt, min_samples_leaf=3; total time=   0.7s\n",
      "[CV] END .max_depth=1, max_features=sqrt, min_samples_leaf=3; total time=   0.7s\n",
      "[CV] END .max_depth=1, max_features=sqrt, min_samples_leaf=5; total time=   0.7s\n",
      "[CV] END .max_depth=1, max_features=sqrt, min_samples_leaf=5; total time=   0.7s\n",
      "[CV] END .max_depth=1, max_features=sqrt, min_samples_leaf=5; total time=   0.7s\n",
      "[CV] END .max_depth=1, max_features=sqrt, min_samples_leaf=5; total time=   0.7s\n",
      "[CV] END .max_depth=1, max_features=sqrt, min_samples_leaf=5; total time=   0.7s\n",
      "[CV] END .max_depth=1, max_features=sqrt, min_samples_leaf=7; total time=   0.7s\n",
      "[CV] END .max_depth=1, max_features=sqrt, min_samples_leaf=7; total time=   0.7s\n",
      "[CV] END .max_depth=1, max_features=sqrt, min_samples_leaf=7; total time=   0.7s\n",
      "[CV] END .max_depth=1, max_features=sqrt, min_samples_leaf=7; total time=   0.7s\n",
      "[CV] END .max_depth=1, max_features=sqrt, min_samples_leaf=7; total time=   0.7s\n",
      "[CV] END max_depth=1, max_features=sqrt, min_samples_leaf=11; total time=   0.7s\n",
      "[CV] END max_depth=1, max_features=sqrt, min_samples_leaf=11; total time=   0.8s\n",
      "[CV] END max_depth=1, max_features=sqrt, min_samples_leaf=11; total time=   0.7s\n",
      "[CV] END max_depth=1, max_features=sqrt, min_samples_leaf=11; total time=   0.7s\n",
      "[CV] END max_depth=1, max_features=sqrt, min_samples_leaf=11; total time=   0.7s\n",
      "[CV] END max_depth=1, max_features=sqrt, min_samples_leaf=13; total time=   0.7s\n",
      "[CV] END max_depth=1, max_features=sqrt, min_samples_leaf=13; total time=   0.7s\n",
      "[CV] END max_depth=1, max_features=sqrt, min_samples_leaf=13; total time=   0.7s\n",
      "[CV] END max_depth=1, max_features=sqrt, min_samples_leaf=13; total time=   0.7s\n",
      "[CV] END max_depth=1, max_features=sqrt, min_samples_leaf=13; total time=   0.8s\n",
      "[CV] END .max_depth=1, max_features=log2, min_samples_leaf=1; total time=   0.5s\n",
      "[CV] END .max_depth=1, max_features=log2, min_samples_leaf=1; total time=   0.5s\n",
      "[CV] END .max_depth=1, max_features=log2, min_samples_leaf=1; total time=   0.5s\n",
      "[CV] END .max_depth=1, max_features=log2, min_samples_leaf=1; total time=   0.5s\n",
      "[CV] END .max_depth=1, max_features=log2, min_samples_leaf=1; total time=   0.5s\n",
      "[CV] END .max_depth=1, max_features=log2, min_samples_leaf=3; total time=   0.5s\n",
      "[CV] END .max_depth=1, max_features=log2, min_samples_leaf=3; total time=   0.5s\n",
      "[CV] END .max_depth=1, max_features=log2, min_samples_leaf=3; total time=   0.5s\n",
      "[CV] END .max_depth=1, max_features=log2, min_samples_leaf=3; total time=   0.5s\n",
      "[CV] END .max_depth=1, max_features=log2, min_samples_leaf=3; total time=   0.5s\n",
      "[CV] END .max_depth=1, max_features=log2, min_samples_leaf=5; total time=   0.5s\n",
      "[CV] END .max_depth=1, max_features=log2, min_samples_leaf=5; total time=   0.5s\n",
      "[CV] END .max_depth=1, max_features=log2, min_samples_leaf=5; total time=   0.5s\n",
      "[CV] END .max_depth=1, max_features=log2, min_samples_leaf=5; total time=   0.5s\n",
      "[CV] END .max_depth=1, max_features=log2, min_samples_leaf=5; total time=   0.5s\n",
      "[CV] END .max_depth=1, max_features=log2, min_samples_leaf=7; total time=   0.5s\n",
      "[CV] END .max_depth=1, max_features=log2, min_samples_leaf=7; total time=   0.5s\n",
      "[CV] END .max_depth=1, max_features=log2, min_samples_leaf=7; total time=   0.5s\n",
      "[CV] END .max_depth=1, max_features=log2, min_samples_leaf=7; total time=   0.5s\n",
      "[CV] END .max_depth=1, max_features=log2, min_samples_leaf=7; total time=   0.5s\n",
      "[CV] END max_depth=1, max_features=log2, min_samples_leaf=11; total time=   0.5s\n",
      "[CV] END max_depth=1, max_features=log2, min_samples_leaf=11; total time=   0.5s\n",
      "[CV] END max_depth=1, max_features=log2, min_samples_leaf=11; total time=   0.5s\n",
      "[CV] END max_depth=1, max_features=log2, min_samples_leaf=11; total time=   0.5s\n",
      "[CV] END max_depth=1, max_features=log2, min_samples_leaf=11; total time=   0.5s\n",
      "[CV] END max_depth=1, max_features=log2, min_samples_leaf=13; total time=   0.5s\n",
      "[CV] END max_depth=1, max_features=log2, min_samples_leaf=13; total time=   0.5s\n",
      "[CV] END max_depth=1, max_features=log2, min_samples_leaf=13; total time=   0.5s\n",
      "[CV] END max_depth=1, max_features=log2, min_samples_leaf=13; total time=   0.5s\n",
      "[CV] END max_depth=1, max_features=log2, min_samples_leaf=13; total time=   0.5s\n",
      "[CV] END .max_depth=3, max_features=auto, min_samples_leaf=1; total time=  11.9s\n",
      "[CV] END .max_depth=3, max_features=auto, min_samples_leaf=1; total time=  12.0s\n",
      "[CV] END .max_depth=3, max_features=auto, min_samples_leaf=1; total time=  11.8s\n",
      "[CV] END .max_depth=3, max_features=auto, min_samples_leaf=1; total time=  11.8s\n",
      "[CV] END .max_depth=3, max_features=auto, min_samples_leaf=1; total time=  11.7s\n",
      "[CV] END .max_depth=3, max_features=auto, min_samples_leaf=3; total time=  12.0s\n",
      "[CV] END .max_depth=3, max_features=auto, min_samples_leaf=3; total time=  12.2s\n",
      "[CV] END .max_depth=3, max_features=auto, min_samples_leaf=3; total time=  12.1s\n",
      "[CV] END .max_depth=3, max_features=auto, min_samples_leaf=3; total time=  11.9s\n",
      "[CV] END .max_depth=3, max_features=auto, min_samples_leaf=3; total time=  12.0s\n",
      "[CV] END .max_depth=3, max_features=auto, min_samples_leaf=5; total time=  13.0s\n",
      "[CV] END .max_depth=3, max_features=auto, min_samples_leaf=5; total time=  11.8s\n",
      "[CV] END .max_depth=3, max_features=auto, min_samples_leaf=5; total time=  11.9s\n",
      "[CV] END .max_depth=3, max_features=auto, min_samples_leaf=5; total time=  11.9s\n",
      "[CV] END .max_depth=3, max_features=auto, min_samples_leaf=5; total time=  11.8s\n",
      "[CV] END .max_depth=3, max_features=auto, min_samples_leaf=7; total time=  12.2s\n",
      "[CV] END .max_depth=3, max_features=auto, min_samples_leaf=7; total time=  11.9s\n",
      "[CV] END .max_depth=3, max_features=auto, min_samples_leaf=7; total time=  12.1s\n",
      "[CV] END .max_depth=3, max_features=auto, min_samples_leaf=7; total time=  11.7s\n",
      "[CV] END .max_depth=3, max_features=auto, min_samples_leaf=7; total time=  11.7s\n",
      "[CV] END max_depth=3, max_features=auto, min_samples_leaf=11; total time=  12.1s\n",
      "[CV] END max_depth=3, max_features=auto, min_samples_leaf=11; total time=  12.0s\n",
      "[CV] END max_depth=3, max_features=auto, min_samples_leaf=11; total time=  11.8s\n",
      "[CV] END max_depth=3, max_features=auto, min_samples_leaf=11; total time=  11.8s\n",
      "[CV] END max_depth=3, max_features=auto, min_samples_leaf=11; total time=  11.7s\n",
      "[CV] END max_depth=3, max_features=auto, min_samples_leaf=13; total time=  12.1s\n",
      "[CV] END max_depth=3, max_features=auto, min_samples_leaf=13; total time=  12.0s\n",
      "[CV] END max_depth=3, max_features=auto, min_samples_leaf=13; total time=  12.2s\n",
      "[CV] END max_depth=3, max_features=auto, min_samples_leaf=13; total time=  11.8s\n",
      "[CV] END max_depth=3, max_features=auto, min_samples_leaf=13; total time=  11.7s\n",
      "[CV] END .max_depth=3, max_features=sqrt, min_samples_leaf=1; total time=   1.7s\n",
      "[CV] END .max_depth=3, max_features=sqrt, min_samples_leaf=1; total time=   1.8s\n",
      "[CV] END .max_depth=3, max_features=sqrt, min_samples_leaf=1; total time=   1.8s\n",
      "[CV] END .max_depth=3, max_features=sqrt, min_samples_leaf=1; total time=   1.7s\n",
      "[CV] END .max_depth=3, max_features=sqrt, min_samples_leaf=1; total time=   1.8s\n",
      "[CV] END .max_depth=3, max_features=sqrt, min_samples_leaf=3; total time=   1.7s\n",
      "[CV] END .max_depth=3, max_features=sqrt, min_samples_leaf=3; total time=   1.7s\n",
      "[CV] END .max_depth=3, max_features=sqrt, min_samples_leaf=3; total time=   1.8s\n",
      "[CV] END .max_depth=3, max_features=sqrt, min_samples_leaf=3; total time=   1.7s\n",
      "[CV] END .max_depth=3, max_features=sqrt, min_samples_leaf=3; total time=   1.7s\n",
      "[CV] END .max_depth=3, max_features=sqrt, min_samples_leaf=5; total time=   1.7s\n",
      "[CV] END .max_depth=3, max_features=sqrt, min_samples_leaf=5; total time=   1.7s\n",
      "[CV] END .max_depth=3, max_features=sqrt, min_samples_leaf=5; total time=   1.7s\n",
      "[CV] END .max_depth=3, max_features=sqrt, min_samples_leaf=5; total time=   1.7s\n",
      "[CV] END .max_depth=3, max_features=sqrt, min_samples_leaf=5; total time=   1.8s\n",
      "[CV] END .max_depth=3, max_features=sqrt, min_samples_leaf=7; total time=   1.7s\n",
      "[CV] END .max_depth=3, max_features=sqrt, min_samples_leaf=7; total time=   1.7s\n",
      "[CV] END .max_depth=3, max_features=sqrt, min_samples_leaf=7; total time=   1.7s\n",
      "[CV] END .max_depth=3, max_features=sqrt, min_samples_leaf=7; total time=   1.8s\n",
      "[CV] END .max_depth=3, max_features=sqrt, min_samples_leaf=7; total time=   1.7s\n",
      "[CV] END max_depth=3, max_features=sqrt, min_samples_leaf=11; total time=   1.7s\n",
      "[CV] END max_depth=3, max_features=sqrt, min_samples_leaf=11; total time=   1.7s\n",
      "[CV] END max_depth=3, max_features=sqrt, min_samples_leaf=11; total time=   1.7s\n",
      "[CV] END max_depth=3, max_features=sqrt, min_samples_leaf=11; total time=   1.8s\n",
      "[CV] END max_depth=3, max_features=sqrt, min_samples_leaf=11; total time=   1.7s\n",
      "[CV] END max_depth=3, max_features=sqrt, min_samples_leaf=13; total time=   1.7s\n",
      "[CV] END max_depth=3, max_features=sqrt, min_samples_leaf=13; total time=   1.7s\n",
      "[CV] END max_depth=3, max_features=sqrt, min_samples_leaf=13; total time=   1.7s\n",
      "[CV] END max_depth=3, max_features=sqrt, min_samples_leaf=13; total time=   1.7s\n",
      "[CV] END max_depth=3, max_features=sqrt, min_samples_leaf=13; total time=   1.7s\n",
      "[CV] END .max_depth=3, max_features=log2, min_samples_leaf=1; total time=   1.4s\n",
      "[CV] END .max_depth=3, max_features=log2, min_samples_leaf=1; total time=   1.3s\n",
      "[CV] END .max_depth=3, max_features=log2, min_samples_leaf=1; total time=   1.3s\n",
      "[CV] END .max_depth=3, max_features=log2, min_samples_leaf=1; total time=   1.3s\n",
      "[CV] END .max_depth=3, max_features=log2, min_samples_leaf=1; total time=   1.3s\n",
      "[CV] END .max_depth=3, max_features=log2, min_samples_leaf=3; total time=   1.3s\n",
      "[CV] END .max_depth=3, max_features=log2, min_samples_leaf=3; total time=   1.3s\n",
      "[CV] END .max_depth=3, max_features=log2, min_samples_leaf=3; total time=   1.3s\n",
      "[CV] END .max_depth=3, max_features=log2, min_samples_leaf=3; total time=   1.3s\n",
      "[CV] END .max_depth=3, max_features=log2, min_samples_leaf=3; total time=   1.3s\n",
      "[CV] END .max_depth=3, max_features=log2, min_samples_leaf=5; total time=   1.3s\n",
      "[CV] END .max_depth=3, max_features=log2, min_samples_leaf=5; total time=   1.3s\n",
      "[CV] END .max_depth=3, max_features=log2, min_samples_leaf=5; total time=   1.3s\n",
      "[CV] END .max_depth=3, max_features=log2, min_samples_leaf=5; total time=   1.3s\n",
      "[CV] END .max_depth=3, max_features=log2, min_samples_leaf=5; total time=   1.3s\n",
      "[CV] END .max_depth=3, max_features=log2, min_samples_leaf=7; total time=   1.3s\n",
      "[CV] END .max_depth=3, max_features=log2, min_samples_leaf=7; total time=   1.3s\n",
      "[CV] END .max_depth=3, max_features=log2, min_samples_leaf=7; total time=   1.3s\n",
      "[CV] END .max_depth=3, max_features=log2, min_samples_leaf=7; total time=   1.3s\n",
      "[CV] END .max_depth=3, max_features=log2, min_samples_leaf=7; total time=   1.3s\n",
      "[CV] END max_depth=3, max_features=log2, min_samples_leaf=11; total time=   1.3s\n",
      "[CV] END max_depth=3, max_features=log2, min_samples_leaf=11; total time=   1.3s\n",
      "[CV] END max_depth=3, max_features=log2, min_samples_leaf=11; total time=   1.3s\n",
      "[CV] END max_depth=3, max_features=log2, min_samples_leaf=11; total time=   1.3s\n",
      "[CV] END max_depth=3, max_features=log2, min_samples_leaf=11; total time=   1.3s\n",
      "[CV] END max_depth=3, max_features=log2, min_samples_leaf=13; total time=   1.3s\n",
      "[CV] END max_depth=3, max_features=log2, min_samples_leaf=13; total time=   1.4s\n",
      "[CV] END max_depth=3, max_features=log2, min_samples_leaf=13; total time=   1.3s\n",
      "[CV] END max_depth=3, max_features=log2, min_samples_leaf=13; total time=   1.3s\n",
      "[CV] END max_depth=3, max_features=log2, min_samples_leaf=13; total time=   1.5s\n",
      "[CV] END .max_depth=5, max_features=auto, min_samples_leaf=1; total time=  19.5s\n",
      "[CV] END .max_depth=5, max_features=auto, min_samples_leaf=1; total time=  19.6s\n",
      "[CV] END .max_depth=5, max_features=auto, min_samples_leaf=1; total time=  19.4s\n",
      "[CV] END .max_depth=5, max_features=auto, min_samples_leaf=1; total time=  18.9s\n",
      "[CV] END .max_depth=5, max_features=auto, min_samples_leaf=1; total time=  19.5s\n",
      "[CV] END .max_depth=5, max_features=auto, min_samples_leaf=3; total time=  19.2s\n",
      "[CV] END .max_depth=5, max_features=auto, min_samples_leaf=3; total time=  19.2s\n",
      "[CV] END .max_depth=5, max_features=auto, min_samples_leaf=3; total time=  19.2s\n",
      "[CV] END .max_depth=5, max_features=auto, min_samples_leaf=3; total time=  18.9s\n",
      "[CV] END .max_depth=5, max_features=auto, min_samples_leaf=3; total time=  19.4s\n",
      "[CV] END .max_depth=5, max_features=auto, min_samples_leaf=5; total time=  19.2s\n",
      "[CV] END .max_depth=5, max_features=auto, min_samples_leaf=5; total time=  19.2s\n",
      "[CV] END .max_depth=5, max_features=auto, min_samples_leaf=5; total time=  19.3s\n",
      "[CV] END .max_depth=5, max_features=auto, min_samples_leaf=5; total time=  18.7s\n",
      "[CV] END .max_depth=5, max_features=auto, min_samples_leaf=5; total time=  18.9s\n",
      "[CV] END .max_depth=5, max_features=auto, min_samples_leaf=7; total time=  19.1s\n",
      "[CV] END .max_depth=5, max_features=auto, min_samples_leaf=7; total time=  19.2s\n",
      "[CV] END .max_depth=5, max_features=auto, min_samples_leaf=7; total time=  21.2s\n",
      "[CV] END .max_depth=5, max_features=auto, min_samples_leaf=7; total time=  18.8s\n",
      "[CV] END .max_depth=5, max_features=auto, min_samples_leaf=7; total time=  18.8s\n",
      "[CV] END max_depth=5, max_features=auto, min_samples_leaf=11; total time=  19.4s\n",
      "[CV] END max_depth=5, max_features=auto, min_samples_leaf=11; total time=  19.1s\n",
      "[CV] END max_depth=5, max_features=auto, min_samples_leaf=11; total time=  19.1s\n",
      "[CV] END max_depth=5, max_features=auto, min_samples_leaf=11; total time=  19.1s\n",
      "[CV] END max_depth=5, max_features=auto, min_samples_leaf=11; total time=  18.9s\n",
      "[CV] END max_depth=5, max_features=auto, min_samples_leaf=13; total time=  19.1s\n",
      "[CV] END max_depth=5, max_features=auto, min_samples_leaf=13; total time=  19.3s\n",
      "[CV] END max_depth=5, max_features=auto, min_samples_leaf=13; total time=  18.9s\n",
      "[CV] END max_depth=5, max_features=auto, min_samples_leaf=13; total time=  19.0s\n",
      "[CV] END max_depth=5, max_features=auto, min_samples_leaf=13; total time=  19.8s\n",
      "[CV] END .max_depth=5, max_features=sqrt, min_samples_leaf=1; total time=   2.7s\n",
      "[CV] END .max_depth=5, max_features=sqrt, min_samples_leaf=1; total time=   2.7s\n",
      "[CV] END .max_depth=5, max_features=sqrt, min_samples_leaf=1; total time=   2.7s\n",
      "[CV] END .max_depth=5, max_features=sqrt, min_samples_leaf=1; total time=   2.7s\n",
      "[CV] END .max_depth=5, max_features=sqrt, min_samples_leaf=1; total time=   2.7s\n",
      "[CV] END .max_depth=5, max_features=sqrt, min_samples_leaf=3; total time=   2.7s\n",
      "[CV] END .max_depth=5, max_features=sqrt, min_samples_leaf=3; total time=   2.7s\n",
      "[CV] END .max_depth=5, max_features=sqrt, min_samples_leaf=3; total time=   2.7s\n",
      "[CV] END .max_depth=5, max_features=sqrt, min_samples_leaf=3; total time=   2.8s\n",
      "[CV] END .max_depth=5, max_features=sqrt, min_samples_leaf=3; total time=   2.7s\n",
      "[CV] END .max_depth=5, max_features=sqrt, min_samples_leaf=5; total time=   2.7s\n",
      "[CV] END .max_depth=5, max_features=sqrt, min_samples_leaf=5; total time=   2.8s\n",
      "[CV] END .max_depth=5, max_features=sqrt, min_samples_leaf=5; total time=   2.9s\n",
      "[CV] END .max_depth=5, max_features=sqrt, min_samples_leaf=5; total time=   2.7s\n",
      "[CV] END .max_depth=5, max_features=sqrt, min_samples_leaf=5; total time=   2.7s\n",
      "[CV] END .max_depth=5, max_features=sqrt, min_samples_leaf=7; total time=   2.7s\n",
      "[CV] END .max_depth=5, max_features=sqrt, min_samples_leaf=7; total time=   2.7s\n",
      "[CV] END .max_depth=5, max_features=sqrt, min_samples_leaf=7; total time=   2.8s\n",
      "[CV] END .max_depth=5, max_features=sqrt, min_samples_leaf=7; total time=   2.9s\n",
      "[CV] END .max_depth=5, max_features=sqrt, min_samples_leaf=7; total time=   2.8s\n",
      "[CV] END max_depth=5, max_features=sqrt, min_samples_leaf=11; total time=   2.8s\n",
      "[CV] END max_depth=5, max_features=sqrt, min_samples_leaf=11; total time=   2.9s\n",
      "[CV] END max_depth=5, max_features=sqrt, min_samples_leaf=11; total time=   2.8s\n",
      "[CV] END max_depth=5, max_features=sqrt, min_samples_leaf=11; total time=   2.7s\n",
      "[CV] END max_depth=5, max_features=sqrt, min_samples_leaf=11; total time=   2.8s\n",
      "[CV] END max_depth=5, max_features=sqrt, min_samples_leaf=13; total time=   2.8s\n",
      "[CV] END max_depth=5, max_features=sqrt, min_samples_leaf=13; total time=   2.7s\n",
      "[CV] END max_depth=5, max_features=sqrt, min_samples_leaf=13; total time=   2.8s\n",
      "[CV] END max_depth=5, max_features=sqrt, min_samples_leaf=13; total time=   2.8s\n",
      "[CV] END max_depth=5, max_features=sqrt, min_samples_leaf=13; total time=   2.8s\n",
      "[CV] END .max_depth=5, max_features=log2, min_samples_leaf=1; total time=   2.2s\n",
      "[CV] END .max_depth=5, max_features=log2, min_samples_leaf=1; total time=   2.0s\n",
      "[CV] END .max_depth=5, max_features=log2, min_samples_leaf=1; total time=   2.0s\n",
      "[CV] END .max_depth=5, max_features=log2, min_samples_leaf=1; total time=   2.0s\n",
      "[CV] END .max_depth=5, max_features=log2, min_samples_leaf=1; total time=   2.1s\n",
      "[CV] END .max_depth=5, max_features=log2, min_samples_leaf=3; total time=   2.1s\n",
      "[CV] END .max_depth=5, max_features=log2, min_samples_leaf=3; total time=   2.0s\n",
      "[CV] END .max_depth=5, max_features=log2, min_samples_leaf=3; total time=   2.0s\n",
      "[CV] END .max_depth=5, max_features=log2, min_samples_leaf=3; total time=   2.0s\n",
      "[CV] END .max_depth=5, max_features=log2, min_samples_leaf=3; total time=   2.0s\n",
      "[CV] END .max_depth=5, max_features=log2, min_samples_leaf=5; total time=   2.0s\n",
      "[CV] END .max_depth=5, max_features=log2, min_samples_leaf=5; total time=   2.1s\n",
      "[CV] END .max_depth=5, max_features=log2, min_samples_leaf=5; total time=   2.0s\n",
      "[CV] END .max_depth=5, max_features=log2, min_samples_leaf=5; total time=   2.0s\n",
      "[CV] END .max_depth=5, max_features=log2, min_samples_leaf=5; total time=   2.0s\n",
      "[CV] END .max_depth=5, max_features=log2, min_samples_leaf=7; total time=   2.0s\n",
      "[CV] END .max_depth=5, max_features=log2, min_samples_leaf=7; total time=   2.0s\n",
      "[CV] END .max_depth=5, max_features=log2, min_samples_leaf=7; total time=   2.0s\n",
      "[CV] END .max_depth=5, max_features=log2, min_samples_leaf=7; total time=   2.0s\n",
      "[CV] END .max_depth=5, max_features=log2, min_samples_leaf=7; total time=   2.0s\n",
      "[CV] END max_depth=5, max_features=log2, min_samples_leaf=11; total time=   2.0s\n",
      "[CV] END max_depth=5, max_features=log2, min_samples_leaf=11; total time=   2.0s\n",
      "[CV] END max_depth=5, max_features=log2, min_samples_leaf=11; total time=   2.0s\n",
      "[CV] END max_depth=5, max_features=log2, min_samples_leaf=11; total time=   2.0s\n",
      "[CV] END max_depth=5, max_features=log2, min_samples_leaf=11; total time=   2.0s\n",
      "[CV] END max_depth=5, max_features=log2, min_samples_leaf=13; total time=   2.1s\n",
      "[CV] END max_depth=5, max_features=log2, min_samples_leaf=13; total time=   2.0s\n",
      "[CV] END max_depth=5, max_features=log2, min_samples_leaf=13; total time=   2.0s\n",
      "[CV] END max_depth=5, max_features=log2, min_samples_leaf=13; total time=   2.0s\n",
      "[CV] END max_depth=5, max_features=log2, min_samples_leaf=13; total time=   2.0s\n",
      "[CV] END .max_depth=7, max_features=auto, min_samples_leaf=1; total time=  26.1s\n",
      "[CV] END .max_depth=7, max_features=auto, min_samples_leaf=1; total time=  26.3s\n",
      "[CV] END .max_depth=7, max_features=auto, min_samples_leaf=1; total time=  25.6s\n",
      "[CV] END .max_depth=7, max_features=auto, min_samples_leaf=1; total time=  25.6s\n",
      "[CV] END .max_depth=7, max_features=auto, min_samples_leaf=1; total time=  25.8s\n",
      "[CV] END .max_depth=7, max_features=auto, min_samples_leaf=3; total time=  26.2s\n",
      "[CV] END .max_depth=7, max_features=auto, min_samples_leaf=3; total time=  25.9s\n",
      "[CV] END .max_depth=7, max_features=auto, min_samples_leaf=3; total time=  25.9s\n",
      "[CV] END .max_depth=7, max_features=auto, min_samples_leaf=3; total time=  25.8s\n",
      "[CV] END .max_depth=7, max_features=auto, min_samples_leaf=3; total time=  26.1s\n",
      "[CV] END .max_depth=7, max_features=auto, min_samples_leaf=5; total time=  26.4s\n",
      "[CV] END .max_depth=7, max_features=auto, min_samples_leaf=5; total time=  25.8s\n",
      "[CV] END .max_depth=7, max_features=auto, min_samples_leaf=5; total time=  25.9s\n",
      "[CV] END .max_depth=7, max_features=auto, min_samples_leaf=5; total time=  25.9s\n",
      "[CV] END .max_depth=7, max_features=auto, min_samples_leaf=5; total time=  26.0s\n",
      "[CV] END .max_depth=7, max_features=auto, min_samples_leaf=7; total time=  26.7s\n",
      "[CV] END .max_depth=7, max_features=auto, min_samples_leaf=7; total time=  26.5s\n",
      "[CV] END .max_depth=7, max_features=auto, min_samples_leaf=7; total time=  25.9s\n",
      "[CV] END .max_depth=7, max_features=auto, min_samples_leaf=7; total time=  25.6s\n",
      "[CV] END .max_depth=7, max_features=auto, min_samples_leaf=7; total time=  26.0s\n",
      "[CV] END max_depth=7, max_features=auto, min_samples_leaf=11; total time=  27.6s\n",
      "[CV] END max_depth=7, max_features=auto, min_samples_leaf=11; total time=  25.9s\n",
      "[CV] END max_depth=7, max_features=auto, min_samples_leaf=11; total time=  26.1s\n",
      "[CV] END max_depth=7, max_features=auto, min_samples_leaf=11; total time=  25.8s\n",
      "[CV] END max_depth=7, max_features=auto, min_samples_leaf=11; total time=  26.2s\n",
      "[CV] END max_depth=7, max_features=auto, min_samples_leaf=13; total time=  28.2s\n",
      "[CV] END max_depth=7, max_features=auto, min_samples_leaf=13; total time=  34.2s\n",
      "[CV] END max_depth=7, max_features=auto, min_samples_leaf=13; total time=  28.8s\n",
      "[CV] END max_depth=7, max_features=auto, min_samples_leaf=13; total time=  25.6s\n",
      "[CV] END max_depth=7, max_features=auto, min_samples_leaf=13; total time=  25.7s\n",
      "[CV] END .max_depth=7, max_features=sqrt, min_samples_leaf=1; total time=   3.7s\n",
      "[CV] END .max_depth=7, max_features=sqrt, min_samples_leaf=1; total time=   3.7s\n",
      "[CV] END .max_depth=7, max_features=sqrt, min_samples_leaf=1; total time=   3.8s\n",
      "[CV] END .max_depth=7, max_features=sqrt, min_samples_leaf=1; total time=   3.7s\n",
      "[CV] END .max_depth=7, max_features=sqrt, min_samples_leaf=1; total time=   3.7s\n",
      "[CV] END .max_depth=7, max_features=sqrt, min_samples_leaf=3; total time=   3.7s\n",
      "[CV] END .max_depth=7, max_features=sqrt, min_samples_leaf=3; total time=   3.9s\n",
      "[CV] END .max_depth=7, max_features=sqrt, min_samples_leaf=3; total time=   3.7s\n",
      "[CV] END .max_depth=7, max_features=sqrt, min_samples_leaf=3; total time=   3.8s\n",
      "[CV] END .max_depth=7, max_features=sqrt, min_samples_leaf=3; total time=   3.6s\n",
      "[CV] END .max_depth=7, max_features=sqrt, min_samples_leaf=5; total time=   3.8s\n",
      "[CV] END .max_depth=7, max_features=sqrt, min_samples_leaf=5; total time=   3.7s\n",
      "[CV] END .max_depth=7, max_features=sqrt, min_samples_leaf=5; total time=   3.7s\n",
      "[CV] END .max_depth=7, max_features=sqrt, min_samples_leaf=5; total time=   3.6s\n",
      "[CV] END .max_depth=7, max_features=sqrt, min_samples_leaf=5; total time=   3.6s\n",
      "[CV] END .max_depth=7, max_features=sqrt, min_samples_leaf=7; total time=   3.8s\n",
      "[CV] END .max_depth=7, max_features=sqrt, min_samples_leaf=7; total time=   3.7s\n",
      "[CV] END .max_depth=7, max_features=sqrt, min_samples_leaf=7; total time=   3.6s\n",
      "[CV] END .max_depth=7, max_features=sqrt, min_samples_leaf=7; total time=   3.9s\n",
      "[CV] END .max_depth=7, max_features=sqrt, min_samples_leaf=7; total time=   3.6s\n",
      "[CV] END max_depth=7, max_features=sqrt, min_samples_leaf=11; total time=   3.7s\n",
      "[CV] END max_depth=7, max_features=sqrt, min_samples_leaf=11; total time=   3.7s\n",
      "[CV] END max_depth=7, max_features=sqrt, min_samples_leaf=11; total time=   3.8s\n",
      "[CV] END max_depth=7, max_features=sqrt, min_samples_leaf=11; total time=   3.5s\n",
      "[CV] END max_depth=7, max_features=sqrt, min_samples_leaf=11; total time=   3.7s\n",
      "[CV] END max_depth=7, max_features=sqrt, min_samples_leaf=13; total time=   3.7s\n",
      "[CV] END max_depth=7, max_features=sqrt, min_samples_leaf=13; total time=   3.8s\n",
      "[CV] END max_depth=7, max_features=sqrt, min_samples_leaf=13; total time=   3.6s\n",
      "[CV] END max_depth=7, max_features=sqrt, min_samples_leaf=13; total time=   3.6s\n",
      "[CV] END max_depth=7, max_features=sqrt, min_samples_leaf=13; total time=   3.8s\n",
      "[CV] END .max_depth=7, max_features=log2, min_samples_leaf=1; total time=   2.7s\n",
      "[CV] END .max_depth=7, max_features=log2, min_samples_leaf=1; total time=   2.7s\n",
      "[CV] END .max_depth=7, max_features=log2, min_samples_leaf=1; total time=   2.7s\n",
      "[CV] END .max_depth=7, max_features=log2, min_samples_leaf=1; total time=   2.6s\n",
      "[CV] END .max_depth=7, max_features=log2, min_samples_leaf=1; total time=   2.8s\n",
      "[CV] END .max_depth=7, max_features=log2, min_samples_leaf=3; total time=   2.8s\n",
      "[CV] END .max_depth=7, max_features=log2, min_samples_leaf=3; total time=   2.7s\n",
      "[CV] END .max_depth=7, max_features=log2, min_samples_leaf=3; total time=   2.7s\n",
      "[CV] END .max_depth=7, max_features=log2, min_samples_leaf=3; total time=   2.6s\n",
      "[CV] END .max_depth=7, max_features=log2, min_samples_leaf=3; total time=   2.6s\n",
      "[CV] END .max_depth=7, max_features=log2, min_samples_leaf=5; total time=   2.8s\n",
      "[CV] END .max_depth=7, max_features=log2, min_samples_leaf=5; total time=   2.7s\n",
      "[CV] END .max_depth=7, max_features=log2, min_samples_leaf=5; total time=   2.8s\n",
      "[CV] END .max_depth=7, max_features=log2, min_samples_leaf=5; total time=   2.6s\n",
      "[CV] END .max_depth=7, max_features=log2, min_samples_leaf=5; total time=   2.7s\n",
      "[CV] END .max_depth=7, max_features=log2, min_samples_leaf=7; total time=   2.7s\n",
      "[CV] END .max_depth=7, max_features=log2, min_samples_leaf=7; total time=   2.7s\n",
      "[CV] END .max_depth=7, max_features=log2, min_samples_leaf=7; total time=   2.7s\n",
      "[CV] END .max_depth=7, max_features=log2, min_samples_leaf=7; total time=   2.6s\n",
      "[CV] END .max_depth=7, max_features=log2, min_samples_leaf=7; total time=   2.6s\n",
      "[CV] END max_depth=7, max_features=log2, min_samples_leaf=11; total time=   2.6s\n",
      "[CV] END max_depth=7, max_features=log2, min_samples_leaf=11; total time=   2.8s\n",
      "[CV] END max_depth=7, max_features=log2, min_samples_leaf=11; total time=   2.6s\n",
      "[CV] END max_depth=7, max_features=log2, min_samples_leaf=11; total time=   2.6s\n",
      "[CV] END max_depth=7, max_features=log2, min_samples_leaf=11; total time=   2.6s\n",
      "[CV] END max_depth=7, max_features=log2, min_samples_leaf=13; total time=   2.7s\n",
      "[CV] END max_depth=7, max_features=log2, min_samples_leaf=13; total time=   2.7s\n",
      "[CV] END max_depth=7, max_features=log2, min_samples_leaf=13; total time=   2.7s\n",
      "[CV] END max_depth=7, max_features=log2, min_samples_leaf=13; total time=   2.7s\n",
      "[CV] END max_depth=7, max_features=log2, min_samples_leaf=13; total time=   2.7s\n",
      "[CV] END max_depth=11, max_features=auto, min_samples_leaf=1; total time=  39.2s\n",
      "[CV] END max_depth=11, max_features=auto, min_samples_leaf=1; total time=  38.5s\n",
      "[CV] END max_depth=11, max_features=auto, min_samples_leaf=1; total time=  38.6s\n",
      "[CV] END max_depth=11, max_features=auto, min_samples_leaf=1; total time=  38.2s\n",
      "[CV] END max_depth=11, max_features=auto, min_samples_leaf=1; total time=  38.5s\n",
      "[CV] END max_depth=11, max_features=auto, min_samples_leaf=3; total time=  38.9s\n",
      "[CV] END max_depth=11, max_features=auto, min_samples_leaf=3; total time=  38.6s\n",
      "[CV] END max_depth=11, max_features=auto, min_samples_leaf=3; total time=  38.2s\n",
      "[CV] END max_depth=11, max_features=auto, min_samples_leaf=3; total time=  37.0s\n",
      "[CV] END max_depth=11, max_features=auto, min_samples_leaf=3; total time=  38.3s\n",
      "[CV] END max_depth=11, max_features=auto, min_samples_leaf=5; total time=  38.8s\n",
      "[CV] END max_depth=11, max_features=auto, min_samples_leaf=5; total time=  37.5s\n",
      "[CV] END max_depth=11, max_features=auto, min_samples_leaf=5; total time=  38.0s\n",
      "[CV] END max_depth=11, max_features=auto, min_samples_leaf=5; total time=  36.8s\n",
      "[CV] END max_depth=11, max_features=auto, min_samples_leaf=5; total time=  37.6s\n",
      "[CV] END max_depth=11, max_features=auto, min_samples_leaf=7; total time=  38.4s\n",
      "[CV] END max_depth=11, max_features=auto, min_samples_leaf=7; total time=  37.9s\n",
      "[CV] END max_depth=11, max_features=auto, min_samples_leaf=7; total time=  37.0s\n",
      "[CV] END max_depth=11, max_features=auto, min_samples_leaf=7; total time=  36.7s\n",
      "[CV] END max_depth=11, max_features=auto, min_samples_leaf=7; total time=  37.7s\n",
      "[CV] END max_depth=11, max_features=auto, min_samples_leaf=11; total time=  37.7s\n",
      "[CV] END max_depth=11, max_features=auto, min_samples_leaf=11; total time=  36.9s\n",
      "[CV] END max_depth=11, max_features=auto, min_samples_leaf=11; total time=  37.3s\n",
      "[CV] END max_depth=11, max_features=auto, min_samples_leaf=11; total time=  37.1s\n",
      "[CV] END max_depth=11, max_features=auto, min_samples_leaf=11; total time=  37.6s\n",
      "[CV] END max_depth=11, max_features=auto, min_samples_leaf=13; total time=  38.2s\n",
      "[CV] END max_depth=11, max_features=auto, min_samples_leaf=13; total time=  37.5s\n",
      "[CV] END max_depth=11, max_features=auto, min_samples_leaf=13; total time=  37.7s\n",
      "[CV] END max_depth=11, max_features=auto, min_samples_leaf=13; total time=  36.9s\n",
      "[CV] END max_depth=11, max_features=auto, min_samples_leaf=13; total time=  37.4s\n",
      "[CV] END max_depth=11, max_features=sqrt, min_samples_leaf=1; total time=   5.6s\n",
      "[CV] END max_depth=11, max_features=sqrt, min_samples_leaf=1; total time=   5.4s\n",
      "[CV] END max_depth=11, max_features=sqrt, min_samples_leaf=1; total time=   5.6s\n",
      "[CV] END max_depth=11, max_features=sqrt, min_samples_leaf=1; total time=   5.5s\n",
      "[CV] END max_depth=11, max_features=sqrt, min_samples_leaf=1; total time=   5.5s\n",
      "[CV] END max_depth=11, max_features=sqrt, min_samples_leaf=3; total time=   5.5s\n",
      "[CV] END max_depth=11, max_features=sqrt, min_samples_leaf=3; total time=   5.4s\n",
      "[CV] END max_depth=11, max_features=sqrt, min_samples_leaf=3; total time=   5.6s\n",
      "[CV] END max_depth=11, max_features=sqrt, min_samples_leaf=3; total time=   5.3s\n",
      "[CV] END max_depth=11, max_features=sqrt, min_samples_leaf=3; total time=   5.3s\n",
      "[CV] END max_depth=11, max_features=sqrt, min_samples_leaf=5; total time=   5.4s\n",
      "[CV] END max_depth=11, max_features=sqrt, min_samples_leaf=5; total time=   5.4s\n",
      "[CV] END max_depth=11, max_features=sqrt, min_samples_leaf=5; total time=   5.5s\n",
      "[CV] END max_depth=11, max_features=sqrt, min_samples_leaf=5; total time=   5.8s\n",
      "[CV] END max_depth=11, max_features=sqrt, min_samples_leaf=5; total time=   5.6s\n",
      "[CV] END max_depth=11, max_features=sqrt, min_samples_leaf=7; total time=   5.5s\n",
      "[CV] END max_depth=11, max_features=sqrt, min_samples_leaf=7; total time=   5.5s\n",
      "[CV] END max_depth=11, max_features=sqrt, min_samples_leaf=7; total time=   5.3s\n",
      "[CV] END max_depth=11, max_features=sqrt, min_samples_leaf=7; total time=   5.2s\n",
      "[CV] END max_depth=11, max_features=sqrt, min_samples_leaf=7; total time=   5.4s\n",
      "[CV] END max_depth=11, max_features=sqrt, min_samples_leaf=11; total time=   5.3s\n",
      "[CV] END max_depth=11, max_features=sqrt, min_samples_leaf=11; total time=   5.3s\n",
      "[CV] END max_depth=11, max_features=sqrt, min_samples_leaf=11; total time=   5.3s\n",
      "[CV] END max_depth=11, max_features=sqrt, min_samples_leaf=11; total time=   5.1s\n",
      "[CV] END max_depth=11, max_features=sqrt, min_samples_leaf=11; total time=   5.3s\n",
      "[CV] END max_depth=11, max_features=sqrt, min_samples_leaf=13; total time=   5.3s\n",
      "[CV] END max_depth=11, max_features=sqrt, min_samples_leaf=13; total time=   5.2s\n",
      "[CV] END max_depth=11, max_features=sqrt, min_samples_leaf=13; total time=   5.3s\n",
      "[CV] END max_depth=11, max_features=sqrt, min_samples_leaf=13; total time=   5.2s\n",
      "[CV] END max_depth=11, max_features=sqrt, min_samples_leaf=13; total time=   5.3s\n",
      "[CV] END max_depth=11, max_features=log2, min_samples_leaf=1; total time=   4.1s\n",
      "[CV] END max_depth=11, max_features=log2, min_samples_leaf=1; total time=   4.0s\n",
      "[CV] END max_depth=11, max_features=log2, min_samples_leaf=1; total time=   4.1s\n",
      "[CV] END max_depth=11, max_features=log2, min_samples_leaf=1; total time=   3.9s\n",
      "[CV] END max_depth=11, max_features=log2, min_samples_leaf=1; total time=   4.2s\n",
      "[CV] END max_depth=11, max_features=log2, min_samples_leaf=3; total time=   4.1s\n",
      "[CV] END max_depth=11, max_features=log2, min_samples_leaf=3; total time=   3.9s\n",
      "[CV] END max_depth=11, max_features=log2, min_samples_leaf=3; total time=   4.2s\n",
      "[CV] END max_depth=11, max_features=log2, min_samples_leaf=3; total time=   4.1s\n",
      "[CV] END max_depth=11, max_features=log2, min_samples_leaf=3; total time=   3.9s\n",
      "[CV] END max_depth=11, max_features=log2, min_samples_leaf=5; total time=   4.0s\n",
      "[CV] END max_depth=11, max_features=log2, min_samples_leaf=5; total time=   3.9s\n",
      "[CV] END max_depth=11, max_features=log2, min_samples_leaf=5; total time=   4.0s\n",
      "[CV] END max_depth=11, max_features=log2, min_samples_leaf=5; total time=   3.9s\n",
      "[CV] END max_depth=11, max_features=log2, min_samples_leaf=5; total time=   3.9s\n",
      "[CV] END max_depth=11, max_features=log2, min_samples_leaf=7; total time=   4.0s\n",
      "[CV] END max_depth=11, max_features=log2, min_samples_leaf=7; total time=   4.0s\n",
      "[CV] END max_depth=11, max_features=log2, min_samples_leaf=7; total time=   3.9s\n",
      "[CV] END max_depth=11, max_features=log2, min_samples_leaf=7; total time=   3.8s\n",
      "[CV] END max_depth=11, max_features=log2, min_samples_leaf=7; total time=   3.9s\n",
      "[CV] END max_depth=11, max_features=log2, min_samples_leaf=11; total time=   4.0s\n",
      "[CV] END max_depth=11, max_features=log2, min_samples_leaf=11; total time=   3.8s\n",
      "[CV] END max_depth=11, max_features=log2, min_samples_leaf=11; total time=   4.1s\n",
      "[CV] END max_depth=11, max_features=log2, min_samples_leaf=11; total time=   3.8s\n",
      "[CV] END max_depth=11, max_features=log2, min_samples_leaf=11; total time=   3.8s\n",
      "[CV] END max_depth=11, max_features=log2, min_samples_leaf=13; total time=   3.8s\n",
      "[CV] END max_depth=11, max_features=log2, min_samples_leaf=13; total time=   3.8s\n",
      "[CV] END max_depth=11, max_features=log2, min_samples_leaf=13; total time=   3.8s\n",
      "[CV] END max_depth=11, max_features=log2, min_samples_leaf=13; total time=   3.8s\n",
      "[CV] END max_depth=11, max_features=log2, min_samples_leaf=13; total time=   3.8s\n",
      "[CV] END max_depth=13, max_features=auto, min_samples_leaf=1; total time=  46.1s\n",
      "[CV] END max_depth=13, max_features=auto, min_samples_leaf=1; total time=  44.9s\n",
      "[CV] END max_depth=13, max_features=auto, min_samples_leaf=1; total time=  45.3s\n",
      "[CV] END max_depth=13, max_features=auto, min_samples_leaf=1; total time=  43.5s\n",
      "[CV] END max_depth=13, max_features=auto, min_samples_leaf=1; total time=  45.0s\n",
      "[CV] END max_depth=13, max_features=auto, min_samples_leaf=3; total time=  44.3s\n",
      "[CV] END max_depth=13, max_features=auto, min_samples_leaf=3; total time=  43.2s\n",
      "[CV] END max_depth=13, max_features=auto, min_samples_leaf=3; total time=  43.2s\n",
      "[CV] END max_depth=13, max_features=auto, min_samples_leaf=3; total time=  42.9s\n",
      "[CV] END max_depth=13, max_features=auto, min_samples_leaf=3; total time=  43.7s\n",
      "[CV] END max_depth=13, max_features=auto, min_samples_leaf=5; total time=  44.1s\n",
      "[CV] END max_depth=13, max_features=auto, min_samples_leaf=5; total time=  43.0s\n",
      "[CV] END max_depth=13, max_features=auto, min_samples_leaf=5; total time=  42.5s\n",
      "[CV] END max_depth=13, max_features=auto, min_samples_leaf=5; total time=  42.2s\n",
      "[CV] END max_depth=13, max_features=auto, min_samples_leaf=5; total time=  42.9s\n",
      "[CV] END max_depth=13, max_features=auto, min_samples_leaf=7; total time=  43.0s\n",
      "[CV] END max_depth=13, max_features=auto, min_samples_leaf=7; total time=  42.3s\n",
      "[CV] END max_depth=13, max_features=auto, min_samples_leaf=7; total time=  42.2s\n",
      "[CV] END max_depth=13, max_features=auto, min_samples_leaf=7; total time=  41.7s\n",
      "[CV] END max_depth=13, max_features=auto, min_samples_leaf=7; total time=  42.7s\n",
      "[CV] END max_depth=13, max_features=auto, min_samples_leaf=11; total time=  42.4s\n",
      "[CV] END max_depth=13, max_features=auto, min_samples_leaf=11; total time=  41.0s\n",
      "[CV] END max_depth=13, max_features=auto, min_samples_leaf=11; total time=  41.5s\n",
      "[CV] END max_depth=13, max_features=auto, min_samples_leaf=11; total time=  39.9s\n",
      "[CV] END max_depth=13, max_features=auto, min_samples_leaf=11; total time=  41.8s\n",
      "[CV] END max_depth=13, max_features=auto, min_samples_leaf=13; total time=  42.3s\n",
      "[CV] END max_depth=13, max_features=auto, min_samples_leaf=13; total time=  40.8s\n",
      "[CV] END max_depth=13, max_features=auto, min_samples_leaf=13; total time=  40.7s\n",
      "[CV] END max_depth=13, max_features=auto, min_samples_leaf=13; total time=  39.5s\n",
      "[CV] END max_depth=13, max_features=auto, min_samples_leaf=13; total time=  41.2s\n",
      "[CV] END max_depth=13, max_features=sqrt, min_samples_leaf=1; total time=   6.4s\n",
      "[CV] END max_depth=13, max_features=sqrt, min_samples_leaf=1; total time=   6.2s\n",
      "[CV] END max_depth=13, max_features=sqrt, min_samples_leaf=1; total time=   6.3s\n",
      "[CV] END max_depth=13, max_features=sqrt, min_samples_leaf=1; total time=   6.0s\n",
      "[CV] END max_depth=13, max_features=sqrt, min_samples_leaf=1; total time=   6.1s\n",
      "[CV] END max_depth=13, max_features=sqrt, min_samples_leaf=3; total time=   6.2s\n",
      "[CV] END max_depth=13, max_features=sqrt, min_samples_leaf=3; total time=   6.3s\n",
      "[CV] END max_depth=13, max_features=sqrt, min_samples_leaf=3; total time=   6.2s\n",
      "[CV] END max_depth=13, max_features=sqrt, min_samples_leaf=3; total time=   5.9s\n",
      "[CV] END max_depth=13, max_features=sqrt, min_samples_leaf=3; total time=   6.0s\n",
      "[CV] END max_depth=13, max_features=sqrt, min_samples_leaf=5; total time=   6.1s\n",
      "[CV] END max_depth=13, max_features=sqrt, min_samples_leaf=5; total time=   6.0s\n",
      "[CV] END max_depth=13, max_features=sqrt, min_samples_leaf=5; total time=   6.0s\n",
      "[CV] END max_depth=13, max_features=sqrt, min_samples_leaf=5; total time=   5.8s\n",
      "[CV] END max_depth=13, max_features=sqrt, min_samples_leaf=5; total time=   5.9s\n",
      "[CV] END max_depth=13, max_features=sqrt, min_samples_leaf=7; total time=   5.9s\n",
      "[CV] END max_depth=13, max_features=sqrt, min_samples_leaf=7; total time=   5.9s\n",
      "[CV] END max_depth=13, max_features=sqrt, min_samples_leaf=7; total time=   5.9s\n",
      "[CV] END max_depth=13, max_features=sqrt, min_samples_leaf=7; total time=   5.7s\n",
      "[CV] END max_depth=13, max_features=sqrt, min_samples_leaf=7; total time=   5.9s\n",
      "[CV] END max_depth=13, max_features=sqrt, min_samples_leaf=11; total time=   6.0s\n",
      "[CV] END max_depth=13, max_features=sqrt, min_samples_leaf=11; total time=   5.8s\n",
      "[CV] END max_depth=13, max_features=sqrt, min_samples_leaf=11; total time=   5.9s\n",
      "[CV] END max_depth=13, max_features=sqrt, min_samples_leaf=11; total time=   5.5s\n",
      "[CV] END max_depth=13, max_features=sqrt, min_samples_leaf=11; total time=   5.7s\n",
      "[CV] END max_depth=13, max_features=sqrt, min_samples_leaf=13; total time=   5.9s\n",
      "[CV] END max_depth=13, max_features=sqrt, min_samples_leaf=13; total time=   5.8s\n",
      "[CV] END max_depth=13, max_features=sqrt, min_samples_leaf=13; total time=   5.7s\n",
      "[CV] END max_depth=13, max_features=sqrt, min_samples_leaf=13; total time=   5.5s\n",
      "[CV] END max_depth=13, max_features=sqrt, min_samples_leaf=13; total time=   5.5s\n",
      "[CV] END max_depth=13, max_features=log2, min_samples_leaf=1; total time=   4.5s\n",
      "[CV] END max_depth=13, max_features=log2, min_samples_leaf=1; total time=   4.6s\n",
      "[CV] END max_depth=13, max_features=log2, min_samples_leaf=1; total time=   4.5s\n",
      "[CV] END max_depth=13, max_features=log2, min_samples_leaf=1; total time=   4.5s\n",
      "[CV] END max_depth=13, max_features=log2, min_samples_leaf=1; total time=   4.6s\n",
      "[CV] END max_depth=13, max_features=log2, min_samples_leaf=3; total time=   4.4s\n",
      "[CV] END max_depth=13, max_features=log2, min_samples_leaf=3; total time=   4.4s\n",
      "[CV] END max_depth=13, max_features=log2, min_samples_leaf=3; total time=   4.5s\n",
      "[CV] END max_depth=13, max_features=log2, min_samples_leaf=3; total time=   4.3s\n",
      "[CV] END max_depth=13, max_features=log2, min_samples_leaf=3; total time=   4.4s\n",
      "[CV] END max_depth=13, max_features=log2, min_samples_leaf=5; total time=   4.4s\n",
      "[CV] END max_depth=13, max_features=log2, min_samples_leaf=5; total time=   4.4s\n",
      "[CV] END max_depth=13, max_features=log2, min_samples_leaf=5; total time=   4.4s\n",
      "[CV] END max_depth=13, max_features=log2, min_samples_leaf=5; total time=   4.3s\n",
      "[CV] END max_depth=13, max_features=log2, min_samples_leaf=5; total time=   4.3s\n",
      "[CV] END max_depth=13, max_features=log2, min_samples_leaf=7; total time=   4.3s\n",
      "[CV] END max_depth=13, max_features=log2, min_samples_leaf=7; total time=   4.3s\n",
      "[CV] END max_depth=13, max_features=log2, min_samples_leaf=7; total time=   4.3s\n",
      "[CV] END max_depth=13, max_features=log2, min_samples_leaf=7; total time=   4.2s\n",
      "[CV] END max_depth=13, max_features=log2, min_samples_leaf=7; total time=   4.3s\n",
      "[CV] END max_depth=13, max_features=log2, min_samples_leaf=11; total time=   4.3s\n",
      "[CV] END max_depth=13, max_features=log2, min_samples_leaf=11; total time=   4.2s\n",
      "[CV] END max_depth=13, max_features=log2, min_samples_leaf=11; total time=   4.2s\n",
      "[CV] END max_depth=13, max_features=log2, min_samples_leaf=11; total time=   4.1s\n",
      "[CV] END max_depth=13, max_features=log2, min_samples_leaf=11; total time=   4.1s\n",
      "[CV] END max_depth=13, max_features=log2, min_samples_leaf=13; total time=   4.2s\n",
      "[CV] END max_depth=13, max_features=log2, min_samples_leaf=13; total time=   4.2s\n",
      "[CV] END max_depth=13, max_features=log2, min_samples_leaf=13; total time=   4.1s\n",
      "[CV] END max_depth=13, max_features=log2, min_samples_leaf=13; total time=   4.0s\n",
      "[CV] END max_depth=13, max_features=log2, min_samples_leaf=13; total time=   4.1s\n",
      "[CV] END max_depth=None, max_features=auto, min_samples_leaf=1; total time= 1.2min\n",
      "[CV] END max_depth=None, max_features=auto, min_samples_leaf=1; total time= 1.2min\n",
      "[CV] END max_depth=None, max_features=auto, min_samples_leaf=1; total time= 1.1min\n",
      "[CV] END max_depth=None, max_features=auto, min_samples_leaf=1; total time= 1.1min\n",
      "[CV] END max_depth=None, max_features=auto, min_samples_leaf=1; total time= 1.2min\n",
      "[CV] END max_depth=None, max_features=auto, min_samples_leaf=3; total time= 1.0min\n",
      "[CV] END max_depth=None, max_features=auto, min_samples_leaf=3; total time= 1.0min\n",
      "[CV] END max_depth=None, max_features=auto, min_samples_leaf=3; total time=  57.6s\n",
      "[CV] END max_depth=None, max_features=auto, min_samples_leaf=3; total time=  56.6s\n",
      "[CV] END max_depth=None, max_features=auto, min_samples_leaf=3; total time= 1.1min\n",
      "[CV] END max_depth=None, max_features=auto, min_samples_leaf=5; total time=  57.8s\n",
      "[CV] END max_depth=None, max_features=auto, min_samples_leaf=5; total time=  56.3s\n",
      "[CV] END max_depth=None, max_features=auto, min_samples_leaf=5; total time=  53.2s\n",
      "[CV] END max_depth=None, max_features=auto, min_samples_leaf=5; total time=  51.8s\n",
      "[CV] END max_depth=None, max_features=auto, min_samples_leaf=5; total time=  58.9s\n",
      "[CV] END max_depth=None, max_features=auto, min_samples_leaf=7; total time=  54.6s\n",
      "[CV] END max_depth=None, max_features=auto, min_samples_leaf=7; total time=  52.4s\n",
      "[CV] END max_depth=None, max_features=auto, min_samples_leaf=7; total time=  50.6s\n",
      "[CV] END max_depth=None, max_features=auto, min_samples_leaf=7; total time=  48.6s\n",
      "[CV] END max_depth=None, max_features=auto, min_samples_leaf=7; total time=  55.1s\n",
      "[CV] END max_depth=None, max_features=auto, min_samples_leaf=11; total time=  50.2s\n",
      "[CV] END max_depth=None, max_features=auto, min_samples_leaf=11; total time=  48.6s\n",
      "[CV] END max_depth=None, max_features=auto, min_samples_leaf=11; total time=  47.2s\n",
      "[CV] END max_depth=None, max_features=auto, min_samples_leaf=11; total time=  45.5s\n",
      "[CV] END max_depth=None, max_features=auto, min_samples_leaf=11; total time=  51.2s\n",
      "[CV] END max_depth=None, max_features=auto, min_samples_leaf=13; total time=  49.9s\n",
      "[CV] END max_depth=None, max_features=auto, min_samples_leaf=13; total time=  47.8s\n",
      "[CV] END max_depth=None, max_features=auto, min_samples_leaf=13; total time=  45.9s\n",
      "[CV] END max_depth=None, max_features=auto, min_samples_leaf=13; total time=  44.7s\n",
      "[CV] END max_depth=None, max_features=auto, min_samples_leaf=13; total time=  51.0s\n",
      "[CV] END max_depth=None, max_features=sqrt, min_samples_leaf=1; total time=   9.8s\n",
      "[CV] END max_depth=None, max_features=sqrt, min_samples_leaf=1; total time=   9.7s\n",
      "[CV] END max_depth=None, max_features=sqrt, min_samples_leaf=1; total time=   9.6s\n",
      "[CV] END max_depth=None, max_features=sqrt, min_samples_leaf=1; total time=   8.9s\n",
      "[CV] END max_depth=None, max_features=sqrt, min_samples_leaf=1; total time=   9.3s\n",
      "[CV] END max_depth=None, max_features=sqrt, min_samples_leaf=3; total time=   8.2s\n",
      "[CV] END max_depth=None, max_features=sqrt, min_samples_leaf=3; total time=   8.1s\n",
      "[CV] END max_depth=None, max_features=sqrt, min_samples_leaf=3; total time=  10.5s\n",
      "[CV] END max_depth=None, max_features=sqrt, min_samples_leaf=3; total time=  10.5s\n",
      "[CV] END max_depth=None, max_features=sqrt, min_samples_leaf=3; total time=  10.6s\n",
      "[CV] END max_depth=None, max_features=sqrt, min_samples_leaf=5; total time=  10.2s\n",
      "[CV] END max_depth=None, max_features=sqrt, min_samples_leaf=5; total time=   9.9s\n",
      "[CV] END max_depth=None, max_features=sqrt, min_samples_leaf=5; total time=  10.3s\n",
      "[CV] END max_depth=None, max_features=sqrt, min_samples_leaf=5; total time=   9.5s\n",
      "[CV] END max_depth=None, max_features=sqrt, min_samples_leaf=5; total time=   9.8s\n",
      "[CV] END max_depth=None, max_features=sqrt, min_samples_leaf=7; total time=   9.5s\n",
      "[CV] END max_depth=None, max_features=sqrt, min_samples_leaf=7; total time=   9.4s\n",
      "[CV] END max_depth=None, max_features=sqrt, min_samples_leaf=7; total time=   9.4s\n",
      "[CV] END max_depth=None, max_features=sqrt, min_samples_leaf=7; total time=   8.8s\n",
      "[CV] END max_depth=None, max_features=sqrt, min_samples_leaf=7; total time=   9.2s\n",
      "[CV] END max_depth=None, max_features=sqrt, min_samples_leaf=11; total time=   8.6s\n",
      "[CV] END max_depth=None, max_features=sqrt, min_samples_leaf=11; total time=   6.8s\n",
      "[CV] END max_depth=None, max_features=sqrt, min_samples_leaf=11; total time=   6.7s\n",
      "[CV] END max_depth=None, max_features=sqrt, min_samples_leaf=11; total time=   6.2s\n",
      "[CV] END max_depth=None, max_features=sqrt, min_samples_leaf=11; total time=   6.6s\n",
      "[CV] END max_depth=None, max_features=sqrt, min_samples_leaf=13; total time=   6.6s\n",
      "[CV] END max_depth=None, max_features=sqrt, min_samples_leaf=13; total time=   6.4s\n",
      "[CV] END max_depth=None, max_features=sqrt, min_samples_leaf=13; total time=   6.6s\n",
      "[CV] END max_depth=None, max_features=sqrt, min_samples_leaf=13; total time=   6.2s\n",
      "[CV] END max_depth=None, max_features=sqrt, min_samples_leaf=13; total time=   6.5s\n",
      "[CV] END max_depth=None, max_features=log2, min_samples_leaf=1; total time=   7.1s\n",
      "[CV] END max_depth=None, max_features=log2, min_samples_leaf=1; total time=   7.1s\n",
      "[CV] END max_depth=None, max_features=log2, min_samples_leaf=1; total time=   7.0s\n",
      "[CV] END max_depth=None, max_features=log2, min_samples_leaf=1; total time=   6.6s\n",
      "[CV] END max_depth=None, max_features=log2, min_samples_leaf=1; total time=   6.7s\n",
      "[CV] END max_depth=None, max_features=log2, min_samples_leaf=3; total time=   6.0s\n",
      "[CV] END max_depth=None, max_features=log2, min_samples_leaf=3; total time=   5.8s\n",
      "[CV] END max_depth=None, max_features=log2, min_samples_leaf=3; total time=   5.9s\n",
      "[CV] END max_depth=None, max_features=log2, min_samples_leaf=3; total time=   5.7s\n",
      "[CV] END max_depth=None, max_features=log2, min_samples_leaf=3; total time=   5.9s\n",
      "[CV] END max_depth=None, max_features=log2, min_samples_leaf=5; total time=   5.5s\n",
      "[CV] END max_depth=None, max_features=log2, min_samples_leaf=5; total time=   5.5s\n",
      "[CV] END max_depth=None, max_features=log2, min_samples_leaf=5; total time=   5.4s\n",
      "[CV] END max_depth=None, max_features=log2, min_samples_leaf=5; total time=   5.2s\n",
      "[CV] END max_depth=None, max_features=log2, min_samples_leaf=5; total time=   5.6s\n",
      "[CV] END max_depth=None, max_features=log2, min_samples_leaf=7; total time=   5.3s\n",
      "[CV] END max_depth=None, max_features=log2, min_samples_leaf=7; total time=   5.2s\n",
      "[CV] END max_depth=None, max_features=log2, min_samples_leaf=7; total time=   5.2s\n",
      "[CV] END max_depth=None, max_features=log2, min_samples_leaf=7; total time=   4.8s\n",
      "[CV] END max_depth=None, max_features=log2, min_samples_leaf=7; total time=   5.2s\n",
      "[CV] END max_depth=None, max_features=log2, min_samples_leaf=11; total time=   5.0s\n",
      "[CV] END max_depth=None, max_features=log2, min_samples_leaf=11; total time=   4.9s\n",
      "[CV] END max_depth=None, max_features=log2, min_samples_leaf=11; total time=   4.8s\n",
      "[CV] END max_depth=None, max_features=log2, min_samples_leaf=11; total time=   4.5s\n",
      "[CV] END max_depth=None, max_features=log2, min_samples_leaf=11; total time=   4.7s\n",
      "[CV] END max_depth=None, max_features=log2, min_samples_leaf=13; total time=   4.8s\n",
      "[CV] END max_depth=None, max_features=log2, min_samples_leaf=13; total time=   4.6s\n",
      "[CV] END max_depth=None, max_features=log2, min_samples_leaf=13; total time=   4.6s\n",
      "[CV] END max_depth=None, max_features=log2, min_samples_leaf=13; total time=   4.4s\n",
      "[CV] END max_depth=None, max_features=log2, min_samples_leaf=13; total time=   4.5s\n",
      "\n",
      " Best score:\n",
      " -11.045513028130062\n",
      "\n",
      " Best parameters:\n",
      " {'max_depth': 7, 'max_features': 'auto', 'min_samples_leaf': 13}\n"
     ]
    }
   ],
   "source": [
    "# fit the grid to the data\n",
    "\n",
    "grid_search.fit(features_train, target_train)\n",
    "best_param = grid_search.best_params_\n",
    "\n",
    "print(\"\\n Best score:\\n\",\n",
    "          grid_search.best_score_)\n",
    "    \n",
    "print(\"\\n Best parameters:\\n\",\n",
    "          grid_search.best_params_)"
   ]
  },
  {
   "cell_type": "markdown",
   "metadata": {},
   "source": [
    "Our parameters for the best random forest model are: {'max_depth': 7, 'max_features': 'auto', 'min_samples_leaf': 13} with a score of -11.0455. We will test our model with this tuning and recheck the cross-validated sMAPE score."
   ]
  },
  {
   "cell_type": "code",
   "execution_count": 161,
   "metadata": {},
   "outputs": [
    {
     "name": "stdout",
     "output_type": "stream",
     "text": [
      "Cross-Validation sMAPE Scores:\n",
      "Mean: 9.39142997191798\n",
      "Min: 9.26900019204873\n",
      "Max: 9.54935309137293\n"
     ]
    }
   ],
   "source": [
    "model = RandomForestRegressor(random_state = 12345, max_depth = 7, min_samples_leaf = 13, max_features = 'auto')\n",
    "model.fit(features_train, target_train)\n",
    "prediction = model.predict(features_test)\n",
    "\n",
    "get_cv_scores(model, features_train, target_train)"
   ]
  },
  {
   "cell_type": "markdown",
   "metadata": {},
   "source": [
    "Something that seems a bit strange here is that while we are picking what was calculated as a best model, the sMAPE scores look to be slightly higher than the default random forest model. This could be an issue, but one thing that could be important to note is that the minimum and maximum of this model are also closer together, which in terms of a predictive model could mean it is more reliable.\n",
    "\n",
    "We will also test our model against some dummy models set to always predict the mean or median of the training set targets."
   ]
  },
  {
   "cell_type": "code",
   "execution_count": 168,
   "metadata": {},
   "outputs": [],
   "source": [
    "# create prediction for random forest\n",
    "\n",
    "ran_forest.fit(features_train, target_train)\n",
    "forest_predict = ran_forest.predict(features_test)\n",
    "\n",
    "# create dummy models and predictions\n",
    "\n",
    "mean_model = DummyRegressor(strategy = \"mean\")\n",
    "mean_model.fit(features_train, target_train)\n",
    "mean_predict = mean_model.predict(features_test)\n",
    "\n",
    "median_model = DummyRegressor(strategy = \"median\")\n",
    "median_model.fit(features_train, target_train)\n",
    "median_predict = median_model.predict(features_test)"
   ]
  },
  {
   "cell_type": "code",
   "execution_count": 163,
   "metadata": {},
   "outputs": [
    {
     "name": "stdout",
     "output_type": "stream",
     "text": [
      "Cross-Validation sMAPE Scores:\n",
      "Mean: 12.508660463725619\n",
      "Min: 12.265751820289431\n",
      "Max: 12.78794088473705\n"
     ]
    }
   ],
   "source": [
    "get_cv_scores(mean_model, features_train, target_train)"
   ]
  },
  {
   "cell_type": "code",
   "execution_count": 164,
   "metadata": {},
   "outputs": [
    {
     "name": "stdout",
     "output_type": "stream",
     "text": [
      "Cross-Validation sMAPE Scores:\n",
      "Mean: 12.326949229259514\n",
      "Min: 12.059462092052428\n",
      "Max: 12.61223233666702\n"
     ]
    }
   ],
   "source": [
    "get_cv_scores(median_model, features_train, target_train)"
   ]
  },
  {
   "cell_type": "code",
   "execution_count": 169,
   "metadata": {},
   "outputs": [
    {
     "name": "stdout",
     "output_type": "stream",
     "text": [
      "Final sMAPE score:  12.817603159415423\n",
      "Default random forest sMAPE score: 13.43566558089573\n",
      "Mean model sMAPE score:  12.531788913477865\n",
      "Median model sMAPE score:  11.922783858802665\n"
     ]
    }
   ],
   "source": [
    "# calculate smapes\n",
    "\n",
    "smape = final_smape(target_test, prediction)\n",
    "forest_smape = final_smape(target_test, forest_predict)\n",
    "mean_smape = final_smape(target_test, mean_predict)\n",
    "median_smape = final_smape(target_test, median_predict)\n",
    "\n",
    "print('Final sMAPE score: ', smape)\n",
    "print('Default random forest sMAPE score:', forest_smape)\n",
    "print('Mean model sMAPE score: ', mean_smape)\n",
    "print('Median model sMAPE score: ', median_smape)"
   ]
  },
  {
   "cell_type": "markdown",
   "metadata": {},
   "source": [
    "The mean and median models have an overall lower sMAPE than our final model, but this may not necessarily be an issue, since we know from our earlier graphs how normally distributed our data is. The average models probably should be fairly accurate. The cross-validation of the sMAPE score also shows that the model is rather stable as well as being accurate. We can conclude that this model will be useful for predicting our output."
   ]
  },
  {
   "cell_type": "markdown",
   "metadata": {},
   "source": [
    "## Conclusion\n",
    "\n",
    "To recap this project, first we analyzed the data:\n",
    "\n",
    "* We have checked the concentration of metals across the purification and found that primarily, the gold concentration increases in the purification.\n",
    "\n",
    "* We checked the feed particle size distribution and found that for the training and test set the data is distributed consistently.\n",
    "\n",
    "* We checked the concentration of all the precious metals at different stages and discovered that the purification process causes them to increase.\n",
    "\n",
    "Next, we constructed a model to calculate the final sMAPE value and generated a model, then tested that model to find our final sMAPE score."
   ]
  }
 ],
 "metadata": {
  "ExecuteTimeLog": [
   {
    "duration": 492,
    "start_time": "2022-04-03T02:12:16.667Z"
   },
   {
    "duration": 96,
    "start_time": "2022-04-03T02:12:33.566Z"
   },
   {
    "duration": 17,
    "start_time": "2022-04-03T02:12:43.992Z"
   },
   {
    "duration": 84,
    "start_time": "2022-04-03T02:12:48.818Z"
   },
   {
    "duration": 343,
    "start_time": "2022-04-03T02:38:26.793Z"
   },
   {
    "duration": 896,
    "start_time": "2022-04-03T02:39:00.933Z"
   },
   {
    "duration": 52,
    "start_time": "2022-04-03T02:40:19.348Z"
   },
   {
    "duration": 333,
    "start_time": "2022-04-03T02:40:28.580Z"
   },
   {
    "duration": 24,
    "start_time": "2022-04-03T02:40:34.043Z"
   },
   {
    "duration": 31,
    "start_time": "2022-04-03T02:40:45.861Z"
   },
   {
    "duration": 29,
    "start_time": "2022-04-03T02:40:55.582Z"
   },
   {
    "duration": 29,
    "start_time": "2022-04-03T02:41:28.772Z"
   },
   {
    "duration": 20,
    "start_time": "2022-04-03T02:41:36.300Z"
   },
   {
    "duration": 19,
    "start_time": "2022-04-03T02:41:41.966Z"
   },
   {
    "duration": 26,
    "start_time": "2022-04-03T02:41:44.341Z"
   },
   {
    "duration": 5,
    "start_time": "2022-04-03T02:53:21.558Z"
   },
   {
    "duration": 13,
    "start_time": "2022-04-03T05:00:37.515Z"
   },
   {
    "duration": 7,
    "start_time": "2022-04-03T05:00:41.574Z"
   },
   {
    "duration": 6,
    "start_time": "2022-04-03T05:00:48.094Z"
   },
   {
    "duration": 2196,
    "start_time": "2022-04-03T05:00:54.383Z"
   },
   {
    "duration": 7,
    "start_time": "2022-04-03T05:01:07.592Z"
   },
   {
    "duration": 22,
    "start_time": "2022-04-03T05:01:52.008Z"
   },
   {
    "duration": 12,
    "start_time": "2022-04-03T05:02:04.619Z"
   },
   {
    "duration": 12,
    "start_time": "2022-04-03T05:02:12.546Z"
   },
   {
    "duration": 46,
    "start_time": "2022-04-03T22:03:35.619Z"
   },
   {
    "duration": 416,
    "start_time": "2022-04-03T22:04:51.427Z"
   },
   {
    "duration": 899,
    "start_time": "2022-04-03T22:04:51.845Z"
   },
   {
    "duration": 18,
    "start_time": "2022-04-03T22:04:52.746Z"
   },
   {
    "duration": 19,
    "start_time": "2022-04-03T22:04:52.766Z"
   },
   {
    "duration": 24,
    "start_time": "2022-04-03T22:04:52.788Z"
   },
   {
    "duration": 27,
    "start_time": "2022-04-03T22:04:52.813Z"
   },
   {
    "duration": 13,
    "start_time": "2022-04-03T22:04:52.842Z"
   },
   {
    "duration": 8,
    "start_time": "2022-04-03T22:05:19.873Z"
   },
   {
    "duration": 11,
    "start_time": "2022-04-03T22:05:25.319Z"
   },
   {
    "duration": 7,
    "start_time": "2022-04-03T22:05:39.537Z"
   },
   {
    "duration": 2,
    "start_time": "2022-04-03T22:10:53.065Z"
   },
   {
    "duration": 4,
    "start_time": "2022-04-03T22:18:12.254Z"
   },
   {
    "duration": 4,
    "start_time": "2022-04-03T23:08:56.216Z"
   },
   {
    "duration": 136,
    "start_time": "2022-04-04T00:23:15.751Z"
   },
   {
    "duration": 28,
    "start_time": "2022-04-04T00:23:20.386Z"
   },
   {
    "duration": 440,
    "start_time": "2022-04-04T00:25:03.597Z"
   },
   {
    "duration": 6,
    "start_time": "2022-04-04T00:25:06.429Z"
   },
   {
    "duration": 6,
    "start_time": "2022-04-04T00:25:13.741Z"
   },
   {
    "duration": 6,
    "start_time": "2022-04-04T00:25:21.449Z"
   },
   {
    "duration": 34,
    "start_time": "2022-04-04T00:25:33.070Z"
   },
   {
    "duration": 5,
    "start_time": "2022-04-04T00:25:35.953Z"
   },
   {
    "duration": 8,
    "start_time": "2022-04-04T00:26:17.873Z"
   },
   {
    "duration": 6,
    "start_time": "2022-04-04T00:26:22.241Z"
   },
   {
    "duration": 6,
    "start_time": "2022-04-04T00:26:28.705Z"
   },
   {
    "duration": 6,
    "start_time": "2022-04-04T00:26:42.940Z"
   },
   {
    "duration": 7,
    "start_time": "2022-04-04T00:27:16.642Z"
   },
   {
    "duration": 5,
    "start_time": "2022-04-04T00:27:27.597Z"
   },
   {
    "duration": 5,
    "start_time": "2022-04-04T00:27:30.958Z"
   },
   {
    "duration": 9,
    "start_time": "2022-04-04T00:27:39.581Z"
   },
   {
    "duration": 6,
    "start_time": "2022-04-04T00:27:50.065Z"
   },
   {
    "duration": 10,
    "start_time": "2022-04-04T00:27:57.024Z"
   },
   {
    "duration": 9,
    "start_time": "2022-04-04T00:28:02.042Z"
   },
   {
    "duration": 134,
    "start_time": "2022-04-04T00:29:12.270Z"
   },
   {
    "duration": 114,
    "start_time": "2022-04-04T00:29:18.181Z"
   },
   {
    "duration": 9,
    "start_time": "2022-04-04T00:29:32.171Z"
   },
   {
    "duration": 5,
    "start_time": "2022-04-04T00:29:49.524Z"
   },
   {
    "duration": 9,
    "start_time": "2022-04-04T00:29:54.866Z"
   },
   {
    "duration": 10,
    "start_time": "2022-04-04T00:32:16.787Z"
   },
   {
    "duration": 9,
    "start_time": "2022-04-04T00:32:33.805Z"
   },
   {
    "duration": 9,
    "start_time": "2022-04-04T00:33:22.604Z"
   },
   {
    "duration": 9,
    "start_time": "2022-04-04T00:33:28.591Z"
   },
   {
    "duration": 10,
    "start_time": "2022-04-04T00:37:56.464Z"
   },
   {
    "duration": 113,
    "start_time": "2022-04-04T00:38:05.651Z"
   },
   {
    "duration": 160,
    "start_time": "2022-04-04T00:38:21.039Z"
   },
   {
    "duration": 31,
    "start_time": "2022-04-04T00:38:25.208Z"
   },
   {
    "duration": 9,
    "start_time": "2022-04-04T00:39:13.161Z"
   },
   {
    "duration": 10,
    "start_time": "2022-04-04T00:39:34.769Z"
   },
   {
    "duration": 7,
    "start_time": "2022-04-04T00:40:01.680Z"
   },
   {
    "duration": 7,
    "start_time": "2022-04-04T00:40:06.504Z"
   },
   {
    "duration": 26,
    "start_time": "2022-04-04T00:41:03.681Z"
   },
   {
    "duration": 32,
    "start_time": "2022-04-04T00:41:20.314Z"
   },
   {
    "duration": 8,
    "start_time": "2022-04-04T00:41:28.069Z"
   },
   {
    "duration": 4,
    "start_time": "2022-04-04T00:41:38.853Z"
   },
   {
    "duration": 11,
    "start_time": "2022-04-04T00:41:45.016Z"
   },
   {
    "duration": 6,
    "start_time": "2022-04-04T00:41:50.775Z"
   },
   {
    "duration": 5,
    "start_time": "2022-04-04T00:41:54.635Z"
   },
   {
    "duration": 4,
    "start_time": "2022-04-04T00:42:09.723Z"
   },
   {
    "duration": 9,
    "start_time": "2022-04-04T00:42:35.686Z"
   },
   {
    "duration": 6,
    "start_time": "2022-04-04T00:42:50.514Z"
   },
   {
    "duration": 6,
    "start_time": "2022-04-04T00:42:55.690Z"
   },
   {
    "duration": 10,
    "start_time": "2022-04-04T00:42:58.985Z"
   },
   {
    "duration": 10,
    "start_time": "2022-04-04T00:43:17.724Z"
   },
   {
    "duration": 10,
    "start_time": "2022-04-04T00:43:28.618Z"
   },
   {
    "duration": 107,
    "start_time": "2022-04-04T00:44:44.030Z"
   },
   {
    "duration": 11,
    "start_time": "2022-04-04T00:44:58.078Z"
   },
   {
    "duration": 139,
    "start_time": "2022-04-04T00:45:03.711Z"
   },
   {
    "duration": 9,
    "start_time": "2022-04-04T00:45:23.850Z"
   },
   {
    "duration": 5,
    "start_time": "2022-04-04T00:46:48.401Z"
   },
   {
    "duration": 8,
    "start_time": "2022-04-04T00:49:54.567Z"
   },
   {
    "duration": 9,
    "start_time": "2022-04-04T00:50:00.906Z"
   },
   {
    "duration": 4,
    "start_time": "2022-04-04T00:50:27.285Z"
   },
   {
    "duration": 10,
    "start_time": "2022-04-04T01:00:41.223Z"
   },
   {
    "duration": 6,
    "start_time": "2022-04-04T01:00:48.761Z"
   },
   {
    "duration": 8,
    "start_time": "2022-04-04T01:00:53.273Z"
   },
   {
    "duration": 10,
    "start_time": "2022-04-04T01:01:11.438Z"
   },
   {
    "duration": 7,
    "start_time": "2022-04-04T01:01:26.527Z"
   },
   {
    "duration": 253,
    "start_time": "2022-04-04T01:03:52.745Z"
   },
   {
    "duration": 24,
    "start_time": "2022-04-04T01:04:17.028Z"
   },
   {
    "duration": 9,
    "start_time": "2022-04-04T01:04:43.856Z"
   },
   {
    "duration": 8,
    "start_time": "2022-04-04T01:04:51.864Z"
   },
   {
    "duration": 10,
    "start_time": "2022-04-04T01:06:01.980Z"
   },
   {
    "duration": 9,
    "start_time": "2022-04-04T01:06:11.734Z"
   },
   {
    "duration": 9,
    "start_time": "2022-04-04T01:06:19.089Z"
   },
   {
    "duration": 14,
    "start_time": "2022-04-04T01:06:48.533Z"
   },
   {
    "duration": 6,
    "start_time": "2022-04-04T01:07:59.897Z"
   },
   {
    "duration": 6,
    "start_time": "2022-04-04T01:08:03.224Z"
   },
   {
    "duration": 6,
    "start_time": "2022-04-04T01:09:51.059Z"
   },
   {
    "duration": 7,
    "start_time": "2022-04-04T01:10:06.516Z"
   },
   {
    "duration": 12,
    "start_time": "2022-04-04T01:10:10.053Z"
   },
   {
    "duration": 10,
    "start_time": "2022-04-04T01:10:12.206Z"
   },
   {
    "duration": 6,
    "start_time": "2022-04-04T01:11:16.887Z"
   },
   {
    "duration": 5,
    "start_time": "2022-04-04T01:11:22.864Z"
   },
   {
    "duration": 5,
    "start_time": "2022-04-04T01:11:31.372Z"
   },
   {
    "duration": 5,
    "start_time": "2022-04-04T01:11:39.739Z"
   },
   {
    "duration": 5,
    "start_time": "2022-04-04T01:11:43.861Z"
   },
   {
    "duration": 12,
    "start_time": "2022-04-04T01:12:16.715Z"
   },
   {
    "duration": 10,
    "start_time": "2022-04-04T01:12:39.812Z"
   },
   {
    "duration": 128,
    "start_time": "2022-04-04T01:31:39.094Z"
   },
   {
    "duration": 13,
    "start_time": "2022-04-04T01:31:44.038Z"
   },
   {
    "duration": 2680,
    "start_time": "2022-04-04T01:31:53.807Z"
   },
   {
    "duration": 323,
    "start_time": "2022-04-04T01:32:44.808Z"
   },
   {
    "duration": 15,
    "start_time": "2022-04-04T01:34:48.627Z"
   },
   {
    "duration": 1990,
    "start_time": "2022-04-04T01:36:13.458Z"
   },
   {
    "duration": 1882,
    "start_time": "2022-04-04T01:36:43.638Z"
   },
   {
    "duration": 1857,
    "start_time": "2022-04-04T01:36:57.352Z"
   },
   {
    "duration": 8,
    "start_time": "2022-04-04T01:41:04.441Z"
   },
   {
    "duration": 4,
    "start_time": "2022-04-04T01:41:11.618Z"
   },
   {
    "duration": 8,
    "start_time": "2022-04-04T01:41:49.360Z"
   },
   {
    "duration": 10,
    "start_time": "2022-04-04T01:41:53.314Z"
   },
   {
    "duration": 9,
    "start_time": "2022-04-04T01:42:04.915Z"
   },
   {
    "duration": 11,
    "start_time": "2022-04-04T01:42:10.618Z"
   },
   {
    "duration": 7,
    "start_time": "2022-04-04T01:42:18.213Z"
   },
   {
    "duration": 6,
    "start_time": "2022-04-04T01:42:35.982Z"
   },
   {
    "duration": 12,
    "start_time": "2022-04-04T01:43:16.486Z"
   },
   {
    "duration": 11,
    "start_time": "2022-04-04T01:43:18.679Z"
   },
   {
    "duration": 12,
    "start_time": "2022-04-04T01:43:36.337Z"
   },
   {
    "duration": 12,
    "start_time": "2022-04-04T01:43:38.073Z"
   },
   {
    "duration": 6,
    "start_time": "2022-04-04T01:43:56.203Z"
   },
   {
    "duration": 11,
    "start_time": "2022-04-04T01:44:50.502Z"
   },
   {
    "duration": 11,
    "start_time": "2022-04-04T01:44:57.997Z"
   },
   {
    "duration": 8,
    "start_time": "2022-04-04T01:45:01.128Z"
   },
   {
    "duration": 6,
    "start_time": "2022-04-04T01:53:46.507Z"
   },
   {
    "duration": 12,
    "start_time": "2022-04-04T01:54:24.857Z"
   },
   {
    "duration": 6,
    "start_time": "2022-04-04T01:54:27.649Z"
   },
   {
    "duration": 7,
    "start_time": "2022-04-04T01:54:46.741Z"
   },
   {
    "duration": 14,
    "start_time": "2022-04-04T01:55:57.480Z"
   },
   {
    "duration": 10,
    "start_time": "2022-04-04T01:56:14.546Z"
   },
   {
    "duration": 10,
    "start_time": "2022-04-04T01:56:18.413Z"
   },
   {
    "duration": 11,
    "start_time": "2022-04-04T01:56:57.843Z"
   },
   {
    "duration": 9,
    "start_time": "2022-04-04T01:57:04.371Z"
   },
   {
    "duration": 14,
    "start_time": "2022-04-04T01:57:22.264Z"
   },
   {
    "duration": 7,
    "start_time": "2022-04-04T01:57:38.875Z"
   },
   {
    "duration": 9,
    "start_time": "2022-04-04T01:58:00.918Z"
   },
   {
    "duration": 11,
    "start_time": "2022-04-04T01:58:02.735Z"
   },
   {
    "duration": 9,
    "start_time": "2022-04-04T01:58:07.588Z"
   },
   {
    "duration": 9,
    "start_time": "2022-04-04T01:58:15.646Z"
   },
   {
    "duration": 5,
    "start_time": "2022-04-04T01:58:50.573Z"
   },
   {
    "duration": 4,
    "start_time": "2022-04-04T01:58:56.901Z"
   },
   {
    "duration": 7,
    "start_time": "2022-04-04T02:02:58.972Z"
   },
   {
    "duration": 7,
    "start_time": "2022-04-04T02:03:11.500Z"
   },
   {
    "duration": 8,
    "start_time": "2022-04-04T02:05:19.883Z"
   },
   {
    "duration": 8,
    "start_time": "2022-04-04T02:05:41.255Z"
   },
   {
    "duration": 8,
    "start_time": "2022-04-04T02:05:59.896Z"
   },
   {
    "duration": 7,
    "start_time": "2022-04-04T02:06:22.467Z"
   },
   {
    "duration": 7,
    "start_time": "2022-04-04T02:06:32.149Z"
   },
   {
    "duration": 11,
    "start_time": "2022-04-04T02:06:48.921Z"
   },
   {
    "duration": 5,
    "start_time": "2022-04-04T02:06:56.140Z"
   },
   {
    "duration": 7,
    "start_time": "2022-04-04T02:07:07.674Z"
   },
   {
    "duration": 7,
    "start_time": "2022-04-04T02:07:13.270Z"
   },
   {
    "duration": 13,
    "start_time": "2022-04-04T02:08:00.668Z"
   },
   {
    "duration": 6,
    "start_time": "2022-04-04T02:08:19.776Z"
   },
   {
    "duration": 7,
    "start_time": "2022-04-04T02:14:17.432Z"
   },
   {
    "duration": 7,
    "start_time": "2022-04-04T02:14:25.067Z"
   },
   {
    "duration": 4,
    "start_time": "2022-04-04T02:16:41.656Z"
   },
   {
    "duration": 5,
    "start_time": "2022-04-04T02:30:57.288Z"
   },
   {
    "duration": 8,
    "start_time": "2022-04-04T02:33:32.755Z"
   },
   {
    "duration": 12,
    "start_time": "2022-04-04T02:34:00.907Z"
   },
   {
    "duration": 33,
    "start_time": "2022-04-04T02:34:17.096Z"
   },
   {
    "duration": 9,
    "start_time": "2022-04-04T02:34:23.064Z"
   },
   {
    "duration": 33,
    "start_time": "2022-04-04T02:34:27.890Z"
   },
   {
    "duration": 3,
    "start_time": "2022-04-04T02:34:39.774Z"
   },
   {
    "duration": 5,
    "start_time": "2022-04-04T02:34:44.861Z"
   },
   {
    "duration": 9,
    "start_time": "2022-04-04T02:35:27.902Z"
   },
   {
    "duration": 5,
    "start_time": "2022-04-04T02:35:31.374Z"
   },
   {
    "duration": 9,
    "start_time": "2022-04-04T02:35:38.575Z"
   },
   {
    "duration": 18,
    "start_time": "2022-04-04T02:35:45.727Z"
   },
   {
    "duration": 1082,
    "start_time": "2022-04-06T02:22:35.285Z"
   },
   {
    "duration": 1217,
    "start_time": "2022-04-06T02:22:38.071Z"
   },
   {
    "duration": 16,
    "start_time": "2022-04-06T02:22:39.290Z"
   },
   {
    "duration": 87,
    "start_time": "2022-04-06T02:23:30.505Z"
   },
   {
    "duration": 423,
    "start_time": "2022-04-06T02:23:50.074Z"
   },
   {
    "duration": 2055,
    "start_time": "2022-04-06T02:28:10.585Z"
   },
   {
    "duration": 8,
    "start_time": "2022-04-06T02:28:17.290Z"
   },
   {
    "duration": 11,
    "start_time": "2022-04-06T02:29:11.939Z"
   },
   {
    "duration": 4,
    "start_time": "2022-04-06T02:29:26.158Z"
   },
   {
    "duration": 14,
    "start_time": "2022-04-06T02:29:29.789Z"
   },
   {
    "duration": 19,
    "start_time": "2022-04-06T02:29:52.387Z"
   },
   {
    "duration": 3,
    "start_time": "2022-04-06T02:31:06.100Z"
   },
   {
    "duration": 330,
    "start_time": "2022-04-06T02:31:09.700Z"
   },
   {
    "duration": 0,
    "start_time": "2022-04-06T02:33:25.208Z"
   },
   {
    "duration": 323,
    "start_time": "2022-04-06T02:33:28.611Z"
   },
   {
    "duration": 114,
    "start_time": "2022-04-06T02:33:40.236Z"
   },
   {
    "duration": 98,
    "start_time": "2022-04-06T02:33:53.374Z"
   },
   {
    "duration": 15,
    "start_time": "2022-04-06T02:34:02.632Z"
   },
   {
    "duration": 102,
    "start_time": "2022-04-06T02:34:05.384Z"
   },
   {
    "duration": 246,
    "start_time": "2022-04-06T02:34:11.883Z"
   },
   {
    "duration": 253,
    "start_time": "2022-04-06T02:35:14.697Z"
   },
   {
    "duration": 251,
    "start_time": "2022-04-06T02:35:26.279Z"
   },
   {
    "duration": 382,
    "start_time": "2022-04-06T02:35:31.770Z"
   },
   {
    "duration": 10,
    "start_time": "2022-04-06T02:36:22.415Z"
   },
   {
    "duration": 19,
    "start_time": "2022-04-06T02:36:25.379Z"
   },
   {
    "duration": 279,
    "start_time": "2022-04-06T02:36:42.473Z"
   },
   {
    "duration": 383,
    "start_time": "2022-04-06T02:39:34.928Z"
   },
   {
    "duration": 336,
    "start_time": "2022-04-06T02:39:45.497Z"
   },
   {
    "duration": 353,
    "start_time": "2022-04-06T02:39:55.414Z"
   },
   {
    "duration": 350,
    "start_time": "2022-04-06T02:39:59.314Z"
   },
   {
    "duration": 335,
    "start_time": "2022-04-06T02:40:06.771Z"
   },
   {
    "duration": 350,
    "start_time": "2022-04-06T02:40:12.076Z"
   },
   {
    "duration": 343,
    "start_time": "2022-04-06T02:40:21.606Z"
   },
   {
    "duration": 6,
    "start_time": "2022-04-06T02:40:37.088Z"
   },
   {
    "duration": 5,
    "start_time": "2022-04-06T03:00:14.156Z"
   },
   {
    "duration": 369,
    "start_time": "2022-04-06T03:00:22.566Z"
   },
   {
    "duration": 5,
    "start_time": "2022-04-06T03:00:59.020Z"
   },
   {
    "duration": 379,
    "start_time": "2022-04-06T03:01:01.766Z"
   },
   {
    "duration": 4,
    "start_time": "2022-04-06T03:01:09.309Z"
   },
   {
    "duration": 375,
    "start_time": "2022-04-06T03:01:11.910Z"
   },
   {
    "duration": 128,
    "start_time": "2022-04-06T03:02:07.590Z"
   },
   {
    "duration": 3,
    "start_time": "2022-04-06T03:02:10.982Z"
   },
   {
    "duration": 363,
    "start_time": "2022-04-06T03:02:13.170Z"
   },
   {
    "duration": 3,
    "start_time": "2022-04-06T03:02:30.675Z"
   },
   {
    "duration": 375,
    "start_time": "2022-04-06T03:02:32.307Z"
   },
   {
    "duration": 3,
    "start_time": "2022-04-06T03:09:05.154Z"
   },
   {
    "duration": 368,
    "start_time": "2022-04-06T03:09:07.865Z"
   },
   {
    "duration": 4,
    "start_time": "2022-04-06T03:09:15.131Z"
   },
   {
    "duration": 363,
    "start_time": "2022-04-06T03:09:18.485Z"
   },
   {
    "duration": 4,
    "start_time": "2022-04-06T03:09:22.789Z"
   },
   {
    "duration": 353,
    "start_time": "2022-04-06T03:09:35.390Z"
   },
   {
    "duration": 4,
    "start_time": "2022-04-06T03:10:14.652Z"
   },
   {
    "duration": 364,
    "start_time": "2022-04-06T03:10:21.119Z"
   },
   {
    "duration": 4,
    "start_time": "2022-04-06T03:11:18.567Z"
   },
   {
    "duration": 393,
    "start_time": "2022-04-06T03:11:25.059Z"
   },
   {
    "duration": 47,
    "start_time": "2022-04-07T02:02:09.978Z"
   },
   {
    "duration": 1509,
    "start_time": "2022-04-07T02:02:14.532Z"
   },
   {
    "duration": 794,
    "start_time": "2022-04-07T02:02:16.044Z"
   },
   {
    "duration": 17,
    "start_time": "2022-04-07T02:02:16.840Z"
   },
   {
    "duration": 11,
    "start_time": "2022-04-07T02:02:16.859Z"
   },
   {
    "duration": 17,
    "start_time": "2022-04-07T02:02:16.872Z"
   },
   {
    "duration": 10,
    "start_time": "2022-04-07T02:02:16.890Z"
   },
   {
    "duration": 43,
    "start_time": "2022-04-07T02:02:16.901Z"
   },
   {
    "duration": 9,
    "start_time": "2022-04-07T02:02:16.946Z"
   },
   {
    "duration": 7,
    "start_time": "2022-04-07T02:02:16.957Z"
   },
   {
    "duration": 5,
    "start_time": "2022-04-07T02:02:16.965Z"
   },
   {
    "duration": 16,
    "start_time": "2022-04-07T02:02:16.971Z"
   },
   {
    "duration": 3,
    "start_time": "2022-04-07T02:02:16.988Z"
   },
   {
    "duration": 4,
    "start_time": "2022-04-07T02:02:17.032Z"
   },
   {
    "duration": 410,
    "start_time": "2022-04-07T02:02:17.039Z"
   },
   {
    "duration": 4,
    "start_time": "2022-04-07T02:02:17.451Z"
   },
   {
    "duration": 389,
    "start_time": "2022-04-07T02:02:17.457Z"
   },
   {
    "duration": 4,
    "start_time": "2022-04-07T02:02:17.849Z"
   },
   {
    "duration": 481,
    "start_time": "2022-04-07T02:02:17.854Z"
   },
   {
    "duration": 4,
    "start_time": "2022-04-07T02:02:18.337Z"
   },
   {
    "duration": 393,
    "start_time": "2022-04-07T02:02:18.343Z"
   },
   {
    "duration": 5,
    "start_time": "2022-04-07T02:02:18.738Z"
   },
   {
    "duration": 10,
    "start_time": "2022-04-07T02:31:58.898Z"
   },
   {
    "duration": 28,
    "start_time": "2022-04-07T02:32:02.041Z"
   },
   {
    "duration": 24,
    "start_time": "2022-04-07T02:32:08.720Z"
   },
   {
    "duration": 3,
    "start_time": "2022-04-07T02:37:27.338Z"
   },
   {
    "duration": 10,
    "start_time": "2022-04-07T02:41:27.690Z"
   },
   {
    "duration": 1774,
    "start_time": "2022-04-07T02:41:40.067Z"
   },
   {
    "duration": 4,
    "start_time": "2022-04-07T02:41:59.383Z"
   },
   {
    "duration": 6,
    "start_time": "2022-04-07T02:42:23.453Z"
   },
   {
    "duration": 1685,
    "start_time": "2022-04-07T02:42:35.052Z"
   },
   {
    "duration": 1742,
    "start_time": "2022-04-07T02:43:08.362Z"
   },
   {
    "duration": 5,
    "start_time": "2022-04-07T02:43:40.313Z"
   },
   {
    "duration": 6,
    "start_time": "2022-04-07T02:44:00.735Z"
   },
   {
    "duration": 5,
    "start_time": "2022-04-07T02:44:09.645Z"
   },
   {
    "duration": 8,
    "start_time": "2022-04-07T02:46:07.045Z"
   },
   {
    "duration": 5,
    "start_time": "2022-04-07T02:46:16.305Z"
   },
   {
    "duration": 4,
    "start_time": "2022-04-07T02:48:13.665Z"
   },
   {
    "duration": 5,
    "start_time": "2022-04-07T02:48:40.826Z"
   },
   {
    "duration": 5,
    "start_time": "2022-04-07T02:48:43.626Z"
   },
   {
    "duration": 952,
    "start_time": "2022-04-07T02:50:54.718Z"
   },
   {
    "duration": 932,
    "start_time": "2022-04-07T02:51:14.570Z"
   },
   {
    "duration": 604,
    "start_time": "2022-04-07T02:55:17.187Z"
   },
   {
    "duration": 4,
    "start_time": "2022-04-07T02:57:23.533Z"
   },
   {
    "duration": 565,
    "start_time": "2022-04-07T02:57:23.732Z"
   },
   {
    "duration": 4,
    "start_time": "2022-04-07T02:58:25.245Z"
   },
   {
    "duration": 437,
    "start_time": "2022-04-07T02:58:26.035Z"
   },
   {
    "duration": 4,
    "start_time": "2022-04-07T02:58:50.691Z"
   },
   {
    "duration": 446,
    "start_time": "2022-04-07T02:58:52.668Z"
   },
   {
    "duration": 8645,
    "start_time": "2022-04-07T04:08:29.112Z"
   },
   {
    "duration": 188,
    "start_time": "2022-04-07T04:09:53.022Z"
   },
   {
    "duration": 257,
    "start_time": "2022-04-07T04:10:10.578Z"
   },
   {
    "duration": 9,
    "start_time": "2022-04-07T04:11:02.216Z"
   },
   {
    "duration": 12,
    "start_time": "2022-04-07T04:11:09.289Z"
   },
   {
    "duration": 9,
    "start_time": "2022-04-07T04:11:18.637Z"
   },
   {
    "duration": 10,
    "start_time": "2022-04-07T04:11:47.423Z"
   },
   {
    "duration": 12,
    "start_time": "2022-04-07T04:11:57.682Z"
   },
   {
    "duration": 10,
    "start_time": "2022-04-07T04:12:02.108Z"
   },
   {
    "duration": 11,
    "start_time": "2022-04-07T04:15:15.555Z"
   },
   {
    "duration": 245,
    "start_time": "2022-04-07T04:15:33.639Z"
   },
   {
    "duration": 248,
    "start_time": "2022-04-07T04:15:47.146Z"
   },
   {
    "duration": 4,
    "start_time": "2022-04-07T04:16:30.572Z"
   },
   {
    "duration": 5,
    "start_time": "2022-04-07T04:16:34.636Z"
   },
   {
    "duration": 467,
    "start_time": "2022-04-07T04:16:35.597Z"
   },
   {
    "duration": 3,
    "start_time": "2022-04-07T04:16:53.513Z"
   },
   {
    "duration": 478,
    "start_time": "2022-04-07T04:16:55.594Z"
   },
   {
    "duration": 3,
    "start_time": "2022-04-07T04:17:17.591Z"
   },
   {
    "duration": 474,
    "start_time": "2022-04-07T04:17:19.341Z"
   },
   {
    "duration": 557,
    "start_time": "2022-04-07T04:17:59.924Z"
   },
   {
    "duration": 352,
    "start_time": "2022-04-07T04:20:26.423Z"
   },
   {
    "duration": 138,
    "start_time": "2022-04-07T04:20:37.078Z"
   },
   {
    "duration": 102,
    "start_time": "2022-04-07T04:20:42.989Z"
   },
   {
    "duration": 228,
    "start_time": "2022-04-07T04:21:09.236Z"
   },
   {
    "duration": 111,
    "start_time": "2022-04-07T04:21:33.413Z"
   },
   {
    "duration": 228,
    "start_time": "2022-04-07T04:21:37.613Z"
   },
   {
    "duration": 231,
    "start_time": "2022-04-07T04:22:02.283Z"
   },
   {
    "duration": 274,
    "start_time": "2022-04-07T04:22:08.043Z"
   },
   {
    "duration": 270,
    "start_time": "2022-04-07T04:22:24.165Z"
   },
   {
    "duration": 273,
    "start_time": "2022-04-07T04:22:35.363Z"
   },
   {
    "duration": 275,
    "start_time": "2022-04-07T04:22:41.858Z"
   },
   {
    "duration": 552,
    "start_time": "2022-04-07T04:23:06.875Z"
   },
   {
    "duration": 235,
    "start_time": "2022-04-07T04:23:12.048Z"
   },
   {
    "duration": 220,
    "start_time": "2022-04-07T04:23:51.851Z"
   },
   {
    "duration": 329,
    "start_time": "2022-04-07T04:24:11.169Z"
   },
   {
    "duration": 277,
    "start_time": "2022-04-07T04:24:22.668Z"
   },
   {
    "duration": 312,
    "start_time": "2022-04-07T04:24:28.779Z"
   },
   {
    "duration": 287,
    "start_time": "2022-04-07T04:24:35.389Z"
   },
   {
    "duration": 286,
    "start_time": "2022-04-07T04:24:39.187Z"
   },
   {
    "duration": 278,
    "start_time": "2022-04-07T04:25:12.289Z"
   },
   {
    "duration": 286,
    "start_time": "2022-04-07T04:32:25.712Z"
   },
   {
    "duration": 621,
    "start_time": "2022-04-07T04:32:28.366Z"
   },
   {
    "duration": 2161,
    "start_time": "2022-04-08T02:15:40.391Z"
   },
   {
    "duration": 936,
    "start_time": "2022-04-08T02:15:42.555Z"
   },
   {
    "duration": 28,
    "start_time": "2022-04-08T02:15:43.493Z"
   },
   {
    "duration": 20,
    "start_time": "2022-04-08T02:15:43.523Z"
   },
   {
    "duration": 60,
    "start_time": "2022-04-08T02:15:43.546Z"
   },
   {
    "duration": 15,
    "start_time": "2022-04-08T02:15:43.608Z"
   },
   {
    "duration": 18,
    "start_time": "2022-04-08T02:15:43.625Z"
   },
   {
    "duration": 43,
    "start_time": "2022-04-08T02:15:43.645Z"
   },
   {
    "duration": 12,
    "start_time": "2022-04-08T02:15:43.690Z"
   },
   {
    "duration": 7,
    "start_time": "2022-04-08T02:15:43.704Z"
   },
   {
    "duration": 22,
    "start_time": "2022-04-08T02:15:43.713Z"
   },
   {
    "duration": 48,
    "start_time": "2022-04-08T02:15:43.737Z"
   },
   {
    "duration": 14,
    "start_time": "2022-04-08T02:15:43.787Z"
   },
   {
    "duration": 936,
    "start_time": "2022-04-08T02:15:43.805Z"
   },
   {
    "duration": 5,
    "start_time": "2022-04-08T02:15:44.743Z"
   },
   {
    "duration": 961,
    "start_time": "2022-04-08T02:15:44.750Z"
   },
   {
    "duration": 5,
    "start_time": "2022-04-08T02:15:45.713Z"
   },
   {
    "duration": 895,
    "start_time": "2022-04-08T02:15:45.720Z"
   },
   {
    "duration": 533,
    "start_time": "2022-04-08T02:15:46.617Z"
   },
   {
    "duration": 532,
    "start_time": "2022-04-08T02:15:47.152Z"
   },
   {
    "duration": 113,
    "start_time": "2022-04-08T02:18:30.340Z"
   },
   {
    "duration": 10,
    "start_time": "2022-04-08T02:18:37.895Z"
   },
   {
    "duration": 157,
    "start_time": "2022-04-08T02:19:05.515Z"
   },
   {
    "duration": 201,
    "start_time": "2022-04-08T02:19:11.653Z"
   },
   {
    "duration": 5,
    "start_time": "2022-04-08T02:19:31.643Z"
   },
   {
    "duration": 8,
    "start_time": "2022-04-08T02:19:34.683Z"
   },
   {
    "duration": 206,
    "start_time": "2022-04-08T02:19:41.419Z"
   },
   {
    "duration": 9,
    "start_time": "2022-04-08T02:21:22.470Z"
   },
   {
    "duration": 9,
    "start_time": "2022-04-08T02:24:03.845Z"
   },
   {
    "duration": 203,
    "start_time": "2022-04-08T02:24:08.998Z"
   },
   {
    "duration": 430,
    "start_time": "2022-04-08T02:24:12.889Z"
   },
   {
    "duration": 267,
    "start_time": "2022-04-08T02:24:24.897Z"
   },
   {
    "duration": 619,
    "start_time": "2022-04-08T02:25:32.026Z"
   },
   {
    "duration": 608,
    "start_time": "2022-04-08T02:26:07.707Z"
   },
   {
    "duration": 426,
    "start_time": "2022-04-08T04:28:13.121Z"
   },
   {
    "duration": 727,
    "start_time": "2022-04-08T04:28:18.061Z"
   },
   {
    "duration": 966,
    "start_time": "2022-04-08T04:28:30.650Z"
   },
   {
    "duration": 16,
    "start_time": "2022-04-08T04:29:41.392Z"
   },
   {
    "duration": 15,
    "start_time": "2022-04-08T04:30:25.524Z"
   },
   {
    "duration": 14,
    "start_time": "2022-04-08T04:30:46.808Z"
   },
   {
    "duration": 16,
    "start_time": "2022-04-08T04:32:16.158Z"
   },
   {
    "duration": 17,
    "start_time": "2022-04-08T04:34:37.158Z"
   },
   {
    "duration": 6,
    "start_time": "2022-04-08T04:34:40.270Z"
   },
   {
    "duration": 16,
    "start_time": "2022-04-08T04:34:53.714Z"
   },
   {
    "duration": 47,
    "start_time": "2022-04-08T05:02:33.447Z"
   },
   {
    "duration": 22,
    "start_time": "2022-04-08T05:02:38.701Z"
   },
   {
    "duration": 12,
    "start_time": "2022-04-08T05:02:51.255Z"
   },
   {
    "duration": 1679,
    "start_time": "2022-04-10T17:43:57.821Z"
   },
   {
    "duration": 9987,
    "start_time": "2022-04-10T17:43:59.502Z"
   },
   {
    "duration": 22,
    "start_time": "2022-04-10T17:44:09.491Z"
   },
   {
    "duration": 16,
    "start_time": "2022-04-10T17:44:09.515Z"
   },
   {
    "duration": 19,
    "start_time": "2022-04-10T17:44:09.534Z"
   },
   {
    "duration": 12,
    "start_time": "2022-04-10T17:44:09.555Z"
   },
   {
    "duration": 12,
    "start_time": "2022-04-10T17:44:09.569Z"
   },
   {
    "duration": 11,
    "start_time": "2022-04-10T17:44:09.583Z"
   },
   {
    "duration": 43,
    "start_time": "2022-04-10T17:44:09.596Z"
   },
   {
    "duration": 6,
    "start_time": "2022-04-10T17:44:09.641Z"
   },
   {
    "duration": 20,
    "start_time": "2022-04-10T17:44:09.648Z"
   },
   {
    "duration": 7,
    "start_time": "2022-04-10T17:44:09.670Z"
   },
   {
    "duration": 135,
    "start_time": "2022-04-10T17:44:09.679Z"
   },
   {
    "duration": 0,
    "start_time": "2022-04-10T17:44:09.816Z"
   },
   {
    "duration": 0,
    "start_time": "2022-04-10T17:44:09.817Z"
   },
   {
    "duration": 0,
    "start_time": "2022-04-10T17:44:09.818Z"
   },
   {
    "duration": 0,
    "start_time": "2022-04-10T17:44:09.820Z"
   },
   {
    "duration": 0,
    "start_time": "2022-04-10T17:44:09.832Z"
   },
   {
    "duration": 0,
    "start_time": "2022-04-10T17:44:09.833Z"
   },
   {
    "duration": 0,
    "start_time": "2022-04-10T17:44:09.834Z"
   },
   {
    "duration": 0,
    "start_time": "2022-04-10T17:44:09.835Z"
   },
   {
    "duration": 0,
    "start_time": "2022-04-10T17:44:09.836Z"
   },
   {
    "duration": 0,
    "start_time": "2022-04-10T17:44:09.837Z"
   },
   {
    "duration": 0,
    "start_time": "2022-04-10T17:44:09.838Z"
   },
   {
    "duration": 0,
    "start_time": "2022-04-10T17:44:09.839Z"
   },
   {
    "duration": 1595,
    "start_time": "2022-04-10T17:44:52.432Z"
   },
   {
    "duration": 2516,
    "start_time": "2022-04-10T17:44:54.029Z"
   },
   {
    "duration": 21,
    "start_time": "2022-04-10T17:44:56.547Z"
   },
   {
    "duration": 14,
    "start_time": "2022-04-10T17:44:56.570Z"
   },
   {
    "duration": 18,
    "start_time": "2022-04-10T17:44:56.586Z"
   },
   {
    "duration": 37,
    "start_time": "2022-04-10T17:44:56.606Z"
   },
   {
    "duration": 28,
    "start_time": "2022-04-10T17:44:56.645Z"
   },
   {
    "duration": 12,
    "start_time": "2022-04-10T17:44:56.674Z"
   },
   {
    "duration": 9,
    "start_time": "2022-04-10T17:44:56.687Z"
   },
   {
    "duration": 6,
    "start_time": "2022-04-10T17:44:56.697Z"
   },
   {
    "duration": 39,
    "start_time": "2022-04-10T17:44:56.705Z"
   },
   {
    "duration": 21,
    "start_time": "2022-04-10T17:44:56.746Z"
   },
   {
    "duration": 8,
    "start_time": "2022-04-10T17:44:56.769Z"
   },
   {
    "duration": 8,
    "start_time": "2022-04-10T17:44:56.780Z"
   },
   {
    "duration": 8,
    "start_time": "2022-04-10T17:44:56.790Z"
   },
   {
    "duration": 635,
    "start_time": "2022-04-10T17:44:56.800Z"
   },
   {
    "duration": 4,
    "start_time": "2022-04-10T17:44:57.437Z"
   },
   {
    "duration": 569,
    "start_time": "2022-04-10T17:44:57.442Z"
   },
   {
    "duration": 4,
    "start_time": "2022-04-10T17:44:58.013Z"
   },
   {
    "duration": 655,
    "start_time": "2022-04-10T17:44:58.031Z"
   },
   {
    "duration": 377,
    "start_time": "2022-04-10T17:44:58.688Z"
   },
   {
    "duration": 357,
    "start_time": "2022-04-10T17:44:59.068Z"
   },
   {
    "duration": 8,
    "start_time": "2022-04-10T17:44:59.432Z"
   },
   {
    "duration": 761,
    "start_time": "2022-04-10T17:44:59.442Z"
   },
   {
    "duration": 12,
    "start_time": "2022-04-10T17:45:00.205Z"
   },
   {
    "duration": 52,
    "start_time": "2022-04-10T17:48:58.670Z"
   },
   {
    "duration": 4,
    "start_time": "2022-04-10T17:49:14.428Z"
   },
   {
    "duration": 126,
    "start_time": "2022-04-10T19:29:17.823Z"
   },
   {
    "duration": 29,
    "start_time": "2022-04-10T19:29:44.101Z"
   },
   {
    "duration": 15,
    "start_time": "2022-04-10T19:40:16.971Z"
   },
   {
    "duration": 15,
    "start_time": "2022-04-10T19:41:27.909Z"
   },
   {
    "duration": 16,
    "start_time": "2022-04-10T19:41:54.305Z"
   },
   {
    "duration": 1503,
    "start_time": "2022-04-10T19:42:12.000Z"
   },
   {
    "duration": 774,
    "start_time": "2022-04-10T19:42:13.505Z"
   },
   {
    "duration": 21,
    "start_time": "2022-04-10T19:42:14.281Z"
   },
   {
    "duration": 28,
    "start_time": "2022-04-10T19:42:14.305Z"
   },
   {
    "duration": 20,
    "start_time": "2022-04-10T19:42:14.335Z"
   },
   {
    "duration": 12,
    "start_time": "2022-04-10T19:42:14.357Z"
   },
   {
    "duration": 14,
    "start_time": "2022-04-10T19:42:14.370Z"
   },
   {
    "duration": 48,
    "start_time": "2022-04-10T19:42:14.385Z"
   },
   {
    "duration": 10,
    "start_time": "2022-04-10T19:42:14.434Z"
   },
   {
    "duration": 5,
    "start_time": "2022-04-10T19:42:14.447Z"
   },
   {
    "duration": 19,
    "start_time": "2022-04-10T19:42:14.454Z"
   },
   {
    "duration": 15,
    "start_time": "2022-04-10T19:42:14.475Z"
   },
   {
    "duration": 8,
    "start_time": "2022-04-10T19:42:14.492Z"
   },
   {
    "duration": 4,
    "start_time": "2022-04-10T19:42:14.532Z"
   },
   {
    "duration": 7,
    "start_time": "2022-04-10T19:42:14.537Z"
   },
   {
    "duration": 619,
    "start_time": "2022-04-10T19:42:14.546Z"
   },
   {
    "duration": 4,
    "start_time": "2022-04-10T19:42:15.167Z"
   },
   {
    "duration": 647,
    "start_time": "2022-04-10T19:42:15.172Z"
   },
   {
    "duration": 11,
    "start_time": "2022-04-10T19:42:15.821Z"
   },
   {
    "duration": 586,
    "start_time": "2022-04-10T19:42:15.833Z"
   },
   {
    "duration": 351,
    "start_time": "2022-04-10T19:42:16.421Z"
   },
   {
    "duration": 345,
    "start_time": "2022-04-10T19:42:16.774Z"
   },
   {
    "duration": 13,
    "start_time": "2022-04-10T19:42:17.121Z"
   },
   {
    "duration": 739,
    "start_time": "2022-04-10T19:42:17.136Z"
   },
   {
    "duration": 13,
    "start_time": "2022-04-10T19:42:17.877Z"
   },
   {
    "duration": 5,
    "start_time": "2022-04-10T19:42:17.892Z"
   },
   {
    "duration": 137,
    "start_time": "2022-04-10T19:42:17.899Z"
   },
   {
    "duration": 1,
    "start_time": "2022-04-10T19:42:18.038Z"
   },
   {
    "duration": 4,
    "start_time": "2022-04-10T19:44:13.823Z"
   },
   {
    "duration": 218,
    "start_time": "2022-04-10T19:44:17.287Z"
   },
   {
    "duration": 1496,
    "start_time": "2022-04-10T19:44:36.691Z"
   },
   {
    "duration": 756,
    "start_time": "2022-04-10T19:44:38.189Z"
   },
   {
    "duration": 19,
    "start_time": "2022-04-10T19:44:38.947Z"
   },
   {
    "duration": 13,
    "start_time": "2022-04-10T19:44:38.968Z"
   },
   {
    "duration": 19,
    "start_time": "2022-04-10T19:44:38.983Z"
   },
   {
    "duration": 39,
    "start_time": "2022-04-10T19:44:39.003Z"
   },
   {
    "duration": 13,
    "start_time": "2022-04-10T19:44:39.043Z"
   },
   {
    "duration": 11,
    "start_time": "2022-04-10T19:44:39.058Z"
   },
   {
    "duration": 9,
    "start_time": "2022-04-10T19:44:39.071Z"
   },
   {
    "duration": 6,
    "start_time": "2022-04-10T19:44:39.081Z"
   },
   {
    "duration": 52,
    "start_time": "2022-04-10T19:44:39.088Z"
   },
   {
    "duration": 15,
    "start_time": "2022-04-10T19:44:39.141Z"
   },
   {
    "duration": 7,
    "start_time": "2022-04-10T19:44:39.158Z"
   },
   {
    "duration": 10,
    "start_time": "2022-04-10T19:44:39.167Z"
   },
   {
    "duration": 8,
    "start_time": "2022-04-10T19:44:39.179Z"
   },
   {
    "duration": 619,
    "start_time": "2022-04-10T19:44:39.188Z"
   },
   {
    "duration": 4,
    "start_time": "2022-04-10T19:44:39.809Z"
   },
   {
    "duration": 628,
    "start_time": "2022-04-10T19:44:39.814Z"
   },
   {
    "duration": 4,
    "start_time": "2022-04-10T19:44:40.444Z"
   },
   {
    "duration": 570,
    "start_time": "2022-04-10T19:44:40.449Z"
   },
   {
    "duration": 368,
    "start_time": "2022-04-10T19:44:41.021Z"
   },
   {
    "duration": 352,
    "start_time": "2022-04-10T19:44:41.391Z"
   },
   {
    "duration": 8,
    "start_time": "2022-04-10T19:44:41.745Z"
   },
   {
    "duration": 779,
    "start_time": "2022-04-10T19:44:41.754Z"
   },
   {
    "duration": 12,
    "start_time": "2022-04-10T19:44:42.535Z"
   },
   {
    "duration": 5,
    "start_time": "2022-04-10T19:44:42.549Z"
   },
   {
    "duration": 312,
    "start_time": "2022-04-10T19:44:42.555Z"
   },
   {
    "duration": 0,
    "start_time": "2022-04-10T19:44:42.868Z"
   },
   {
    "duration": 1541,
    "start_time": "2022-04-10T19:45:58.320Z"
   },
   {
    "duration": 784,
    "start_time": "2022-04-10T19:45:59.863Z"
   },
   {
    "duration": 21,
    "start_time": "2022-04-10T19:46:00.649Z"
   },
   {
    "duration": 14,
    "start_time": "2022-04-10T19:46:00.672Z"
   },
   {
    "duration": 45,
    "start_time": "2022-04-10T19:46:00.688Z"
   },
   {
    "duration": 12,
    "start_time": "2022-04-10T19:46:00.735Z"
   },
   {
    "duration": 12,
    "start_time": "2022-04-10T19:46:00.749Z"
   },
   {
    "duration": 12,
    "start_time": "2022-04-10T19:46:00.763Z"
   },
   {
    "duration": 9,
    "start_time": "2022-04-10T19:46:00.776Z"
   },
   {
    "duration": 6,
    "start_time": "2022-04-10T19:46:00.787Z"
   },
   {
    "duration": 52,
    "start_time": "2022-04-10T19:46:00.794Z"
   },
   {
    "duration": 8,
    "start_time": "2022-04-10T19:46:00.848Z"
   },
   {
    "duration": 8,
    "start_time": "2022-04-10T19:46:00.858Z"
   },
   {
    "duration": 9,
    "start_time": "2022-04-10T19:46:00.869Z"
   },
   {
    "duration": 643,
    "start_time": "2022-04-10T19:46:00.880Z"
   },
   {
    "duration": 7,
    "start_time": "2022-04-10T19:46:01.525Z"
   },
   {
    "duration": 663,
    "start_time": "2022-04-10T19:46:01.535Z"
   },
   {
    "duration": 4,
    "start_time": "2022-04-10T19:46:02.200Z"
   },
   {
    "duration": 598,
    "start_time": "2022-04-10T19:46:02.206Z"
   },
   {
    "duration": 361,
    "start_time": "2022-04-10T19:46:02.806Z"
   },
   {
    "duration": 356,
    "start_time": "2022-04-10T19:46:03.169Z"
   },
   {
    "duration": 9,
    "start_time": "2022-04-10T19:46:03.526Z"
   },
   {
    "duration": 755,
    "start_time": "2022-04-10T19:46:03.537Z"
   },
   {
    "duration": 12,
    "start_time": "2022-04-10T19:46:04.294Z"
   },
   {
    "duration": 5,
    "start_time": "2022-04-10T19:46:04.308Z"
   },
   {
    "duration": 205,
    "start_time": "2022-04-10T19:46:04.315Z"
   },
   {
    "duration": 0,
    "start_time": "2022-04-10T19:46:04.521Z"
   },
   {
    "duration": 33,
    "start_time": "2022-04-10T19:47:05.590Z"
   },
   {
    "duration": 5,
    "start_time": "2022-04-10T20:19:31.626Z"
   },
   {
    "duration": 13,
    "start_time": "2022-04-10T20:20:27.013Z"
   },
   {
    "duration": 4,
    "start_time": "2022-04-10T20:20:46.383Z"
   },
   {
    "duration": 14,
    "start_time": "2022-04-10T20:20:48.318Z"
   },
   {
    "duration": 5,
    "start_time": "2022-04-10T20:23:03.347Z"
   },
   {
    "duration": 15,
    "start_time": "2022-04-10T20:23:03.741Z"
   },
   {
    "duration": 19,
    "start_time": "2022-04-10T20:35:13.192Z"
   },
   {
    "duration": 20,
    "start_time": "2022-04-10T20:35:37.381Z"
   },
   {
    "duration": 30,
    "start_time": "2022-04-10T20:36:07.873Z"
   },
   {
    "duration": 17,
    "start_time": "2022-04-10T20:36:10.784Z"
   },
   {
    "duration": 11,
    "start_time": "2022-04-10T20:36:23.050Z"
   },
   {
    "duration": 8,
    "start_time": "2022-04-10T20:36:27.491Z"
   },
   {
    "duration": 9,
    "start_time": "2022-04-10T20:37:43.079Z"
   },
   {
    "duration": 13,
    "start_time": "2022-04-10T20:39:02.877Z"
   },
   {
    "duration": 31,
    "start_time": "2022-04-10T20:40:54.544Z"
   },
   {
    "duration": 13,
    "start_time": "2022-04-10T20:40:57.186Z"
   },
   {
    "duration": 5,
    "start_time": "2022-04-10T20:40:59.622Z"
   },
   {
    "duration": 14,
    "start_time": "2022-04-10T20:41:00.415Z"
   },
   {
    "duration": 4,
    "start_time": "2022-04-10T20:45:51.845Z"
   },
   {
    "duration": 4,
    "start_time": "2022-04-10T20:46:09.561Z"
   },
   {
    "duration": 29,
    "start_time": "2022-04-10T20:46:11.945Z"
   },
   {
    "duration": 5,
    "start_time": "2022-04-10T20:46:13.769Z"
   },
   {
    "duration": 14,
    "start_time": "2022-04-10T20:46:15.369Z"
   },
   {
    "duration": 10,
    "start_time": "2022-04-10T20:46:45.488Z"
   },
   {
    "duration": 6,
    "start_time": "2022-04-10T20:46:51.606Z"
   },
   {
    "duration": 27,
    "start_time": "2022-04-10T20:47:00.089Z"
   },
   {
    "duration": 5,
    "start_time": "2022-04-10T20:47:06.531Z"
   },
   {
    "duration": 5,
    "start_time": "2022-04-10T20:51:31.748Z"
   },
   {
    "duration": 17,
    "start_time": "2022-04-10T20:51:56.751Z"
   },
   {
    "duration": 5,
    "start_time": "2022-04-10T20:52:57.297Z"
   },
   {
    "duration": 19,
    "start_time": "2022-04-10T20:53:00.035Z"
   },
   {
    "duration": 18,
    "start_time": "2022-04-10T20:53:09.373Z"
   },
   {
    "duration": 4,
    "start_time": "2022-04-10T20:54:05.926Z"
   },
   {
    "duration": 3,
    "start_time": "2022-04-10T20:58:24.623Z"
   },
   {
    "duration": 17,
    "start_time": "2022-04-10T20:59:17.007Z"
   },
   {
    "duration": 16,
    "start_time": "2022-04-10T20:59:52.094Z"
   },
   {
    "duration": 1526,
    "start_time": "2022-04-10T21:00:53.402Z"
   },
   {
    "duration": 884,
    "start_time": "2022-04-10T21:00:54.930Z"
   },
   {
    "duration": 24,
    "start_time": "2022-04-10T21:00:55.815Z"
   },
   {
    "duration": 17,
    "start_time": "2022-04-10T21:00:55.841Z"
   },
   {
    "duration": 19,
    "start_time": "2022-04-10T21:00:55.861Z"
   },
   {
    "duration": 12,
    "start_time": "2022-04-10T21:00:55.882Z"
   },
   {
    "duration": 49,
    "start_time": "2022-04-10T21:00:55.896Z"
   },
   {
    "duration": 15,
    "start_time": "2022-04-10T21:00:55.948Z"
   },
   {
    "duration": 9,
    "start_time": "2022-04-10T21:00:55.964Z"
   },
   {
    "duration": 5,
    "start_time": "2022-04-10T21:00:55.975Z"
   },
   {
    "duration": 16,
    "start_time": "2022-04-10T21:00:55.982Z"
   },
   {
    "duration": 9,
    "start_time": "2022-04-10T21:00:56.031Z"
   },
   {
    "duration": 10,
    "start_time": "2022-04-10T21:00:56.045Z"
   },
   {
    "duration": 4,
    "start_time": "2022-04-10T21:00:56.058Z"
   },
   {
    "duration": 696,
    "start_time": "2022-04-10T21:00:56.064Z"
   },
   {
    "duration": 5,
    "start_time": "2022-04-10T21:00:56.762Z"
   },
   {
    "duration": 637,
    "start_time": "2022-04-10T21:00:56.768Z"
   },
   {
    "duration": 4,
    "start_time": "2022-04-10T21:00:57.408Z"
   },
   {
    "duration": 594,
    "start_time": "2022-04-10T21:00:57.414Z"
   },
   {
    "duration": 386,
    "start_time": "2022-04-10T21:00:58.010Z"
   },
   {
    "duration": 348,
    "start_time": "2022-04-10T21:00:58.398Z"
   },
   {
    "duration": 8,
    "start_time": "2022-04-10T21:00:58.748Z"
   },
   {
    "duration": 763,
    "start_time": "2022-04-10T21:00:58.758Z"
   },
   {
    "duration": 16,
    "start_time": "2022-04-10T21:00:59.523Z"
   },
   {
    "duration": 6,
    "start_time": "2022-04-10T21:00:59.541Z"
   },
   {
    "duration": 12,
    "start_time": "2022-04-10T21:00:59.549Z"
   },
   {
    "duration": 39,
    "start_time": "2022-04-10T21:00:59.563Z"
   },
   {
    "duration": 3,
    "start_time": "2022-04-10T21:00:59.604Z"
   },
   {
    "duration": 143,
    "start_time": "2022-04-10T21:00:59.609Z"
   },
   {
    "duration": 0,
    "start_time": "2022-04-10T21:00:59.754Z"
   },
   {
    "duration": 0,
    "start_time": "2022-04-10T21:00:59.756Z"
   },
   {
    "duration": 20,
    "start_time": "2022-04-10T21:01:34.014Z"
   },
   {
    "duration": 5,
    "start_time": "2022-04-10T21:02:11.019Z"
   },
   {
    "duration": 19,
    "start_time": "2022-04-10T21:02:14.558Z"
   },
   {
    "duration": 5,
    "start_time": "2022-04-10T21:03:03.845Z"
   },
   {
    "duration": 22,
    "start_time": "2022-04-10T21:03:04.340Z"
   },
   {
    "duration": 24,
    "start_time": "2022-04-10T21:06:10.783Z"
   },
   {
    "duration": 25,
    "start_time": "2022-04-10T21:06:19.877Z"
   },
   {
    "duration": 32,
    "start_time": "2022-04-10T21:08:19.839Z"
   },
   {
    "duration": 4,
    "start_time": "2022-04-10T21:08:26.055Z"
   },
   {
    "duration": 17,
    "start_time": "2022-04-10T21:08:26.783Z"
   },
   {
    "duration": 42,
    "start_time": "2022-04-10T21:09:40.961Z"
   },
   {
    "duration": 19,
    "start_time": "2022-04-10T21:09:44.997Z"
   },
   {
    "duration": 11,
    "start_time": "2022-04-10T21:10:40.024Z"
   },
   {
    "duration": 11,
    "start_time": "2022-04-10T21:11:59.944Z"
   },
   {
    "duration": 75,
    "start_time": "2022-04-10T21:12:03.349Z"
   },
   {
    "duration": 17,
    "start_time": "2022-04-10T21:13:46.144Z"
   },
   {
    "duration": 16,
    "start_time": "2022-04-10T21:13:59.900Z"
   },
   {
    "duration": 5,
    "start_time": "2022-04-10T21:14:08.300Z"
   },
   {
    "duration": 13,
    "start_time": "2022-04-10T21:14:12.341Z"
   },
   {
    "duration": 31,
    "start_time": "2022-04-10T21:14:19.072Z"
   },
   {
    "duration": 36,
    "start_time": "2022-04-10T21:14:25.639Z"
   },
   {
    "duration": 5,
    "start_time": "2022-04-10T21:14:28.529Z"
   },
   {
    "duration": 36,
    "start_time": "2022-04-10T21:15:42.807Z"
   },
   {
    "duration": 5,
    "start_time": "2022-04-10T21:15:46.942Z"
   },
   {
    "duration": 41,
    "start_time": "2022-04-10T21:16:08.686Z"
   },
   {
    "duration": 5,
    "start_time": "2022-04-10T21:16:11.514Z"
   },
   {
    "duration": 31,
    "start_time": "2022-04-10T21:16:16.905Z"
   },
   {
    "duration": 4,
    "start_time": "2022-04-10T21:19:13.933Z"
   },
   {
    "duration": 4,
    "start_time": "2022-04-10T21:19:19.542Z"
   },
   {
    "duration": 4,
    "start_time": "2022-04-10T21:19:28.833Z"
   },
   {
    "duration": 20,
    "start_time": "2022-04-10T21:19:33.805Z"
   },
   {
    "duration": 37,
    "start_time": "2022-04-10T21:19:41.395Z"
   },
   {
    "duration": 4,
    "start_time": "2022-04-10T21:19:47.194Z"
   },
   {
    "duration": 3,
    "start_time": "2022-04-10T21:20:40.707Z"
   },
   {
    "duration": 80,
    "start_time": "2022-04-10T21:20:46.148Z"
   },
   {
    "duration": 9,
    "start_time": "2022-04-10T21:21:01.748Z"
   },
   {
    "duration": 16,
    "start_time": "2022-04-10T21:21:23.459Z"
   },
   {
    "duration": 45,
    "start_time": "2022-04-10T21:21:31.028Z"
   },
   {
    "duration": 4,
    "start_time": "2022-04-10T21:21:35.166Z"
   },
   {
    "duration": 6,
    "start_time": "2022-04-10T21:21:47.566Z"
   },
   {
    "duration": 17,
    "start_time": "2022-04-10T21:21:56.761Z"
   },
   {
    "duration": 40,
    "start_time": "2022-04-10T21:22:04.363Z"
   },
   {
    "duration": 42,
    "start_time": "2022-04-10T21:22:49.322Z"
   },
   {
    "duration": 4,
    "start_time": "2022-04-10T21:22:52.355Z"
   },
   {
    "duration": 39,
    "start_time": "2022-04-10T21:22:55.311Z"
   },
   {
    "duration": 9,
    "start_time": "2022-04-10T21:22:58.755Z"
   },
   {
    "duration": 28,
    "start_time": "2022-04-10T21:23:06.152Z"
   },
   {
    "duration": 329,
    "start_time": "2022-04-10T21:27:17.849Z"
   },
   {
    "duration": 29,
    "start_time": "2022-04-10T21:27:22.131Z"
   },
   {
    "duration": 10,
    "start_time": "2022-04-10T21:27:50.793Z"
   },
   {
    "duration": 26,
    "start_time": "2022-04-10T21:27:57.289Z"
   },
   {
    "duration": 19,
    "start_time": "2022-04-10T21:28:51.288Z"
   },
   {
    "duration": 28,
    "start_time": "2022-04-10T21:28:54.733Z"
   },
   {
    "duration": 19,
    "start_time": "2022-04-10T21:29:02.243Z"
   },
   {
    "duration": 18,
    "start_time": "2022-04-10T21:29:09.206Z"
   },
   {
    "duration": 73,
    "start_time": "2022-04-10T21:30:08.453Z"
   },
   {
    "duration": 29,
    "start_time": "2022-04-10T21:30:17.878Z"
   },
   {
    "duration": 11,
    "start_time": "2022-04-10T21:30:25.087Z"
   },
   {
    "duration": 4,
    "start_time": "2022-04-10T21:31:37.363Z"
   },
   {
    "duration": 46,
    "start_time": "2022-04-10T21:31:38.253Z"
   },
   {
    "duration": 4,
    "start_time": "2022-04-10T21:31:49.926Z"
   },
   {
    "duration": 59,
    "start_time": "2022-04-10T21:31:50.401Z"
   },
   {
    "duration": 41,
    "start_time": "2022-04-10T21:32:19.931Z"
   },
   {
    "duration": 6,
    "start_time": "2022-04-10T21:32:23.474Z"
   },
   {
    "duration": 1605,
    "start_time": "2022-04-10T21:32:38.124Z"
   },
   {
    "duration": 816,
    "start_time": "2022-04-10T21:32:39.731Z"
   },
   {
    "duration": 22,
    "start_time": "2022-04-10T21:32:40.549Z"
   },
   {
    "duration": 16,
    "start_time": "2022-04-10T21:32:40.573Z"
   },
   {
    "duration": 46,
    "start_time": "2022-04-10T21:32:40.592Z"
   },
   {
    "duration": 14,
    "start_time": "2022-04-10T21:32:40.640Z"
   },
   {
    "duration": 16,
    "start_time": "2022-04-10T21:32:40.656Z"
   },
   {
    "duration": 17,
    "start_time": "2022-04-10T21:32:40.674Z"
   },
   {
    "duration": 49,
    "start_time": "2022-04-10T21:32:40.693Z"
   },
   {
    "duration": 7,
    "start_time": "2022-04-10T21:32:40.745Z"
   },
   {
    "duration": 27,
    "start_time": "2022-04-10T21:32:40.754Z"
   },
   {
    "duration": 19,
    "start_time": "2022-04-10T21:32:40.783Z"
   },
   {
    "duration": 24,
    "start_time": "2022-04-10T21:32:40.833Z"
   },
   {
    "duration": 5,
    "start_time": "2022-04-10T21:32:40.861Z"
   },
   {
    "duration": 10,
    "start_time": "2022-04-10T21:32:40.868Z"
   },
   {
    "duration": 647,
    "start_time": "2022-04-10T21:32:40.880Z"
   },
   {
    "duration": 4,
    "start_time": "2022-04-10T21:32:41.531Z"
   },
   {
    "duration": 670,
    "start_time": "2022-04-10T21:32:41.537Z"
   },
   {
    "duration": 4,
    "start_time": "2022-04-10T21:32:42.209Z"
   },
   {
    "duration": 622,
    "start_time": "2022-04-10T21:32:42.215Z"
   },
   {
    "duration": 425,
    "start_time": "2022-04-10T21:32:42.839Z"
   },
   {
    "duration": 420,
    "start_time": "2022-04-10T21:32:43.266Z"
   },
   {
    "duration": 7,
    "start_time": "2022-04-10T21:32:43.688Z"
   },
   {
    "duration": 794,
    "start_time": "2022-04-10T21:32:43.697Z"
   },
   {
    "duration": 13,
    "start_time": "2022-04-10T21:32:44.493Z"
   },
   {
    "duration": 5,
    "start_time": "2022-04-10T21:32:44.508Z"
   },
   {
    "duration": 4,
    "start_time": "2022-04-10T21:32:44.532Z"
   },
   {
    "duration": 6,
    "start_time": "2022-04-10T21:32:44.538Z"
   },
   {
    "duration": 7,
    "start_time": "2022-04-10T21:32:44.546Z"
   },
   {
    "duration": 169,
    "start_time": "2022-04-10T21:32:44.555Z"
   },
   {
    "duration": 30,
    "start_time": "2022-04-10T21:33:00.184Z"
   },
   {
    "duration": 11,
    "start_time": "2022-04-10T21:33:38.749Z"
   },
   {
    "duration": 45,
    "start_time": "2022-04-10T21:33:56.841Z"
   },
   {
    "duration": 45,
    "start_time": "2022-04-10T21:34:11.660Z"
   },
   {
    "duration": 4,
    "start_time": "2022-04-10T21:35:10.166Z"
   },
   {
    "duration": 19,
    "start_time": "2022-04-10T21:35:31.800Z"
   },
   {
    "duration": 20,
    "start_time": "2022-04-10T21:37:33.723Z"
   },
   {
    "duration": 21,
    "start_time": "2022-04-10T21:37:55.317Z"
   },
   {
    "duration": 28,
    "start_time": "2022-04-10T21:38:05.241Z"
   },
   {
    "duration": 10,
    "start_time": "2022-04-10T21:38:09.821Z"
   },
   {
    "duration": 17,
    "start_time": "2022-04-10T21:46:01.361Z"
   },
   {
    "duration": 29,
    "start_time": "2022-04-10T21:46:05.780Z"
   },
   {
    "duration": 13,
    "start_time": "2022-04-10T21:46:11.396Z"
   },
   {
    "duration": 803,
    "start_time": "2022-04-10T21:46:53.075Z"
   },
   {
    "duration": 17,
    "start_time": "2022-04-10T21:46:53.880Z"
   },
   {
    "duration": 14,
    "start_time": "2022-04-10T21:46:56.364Z"
   },
   {
    "duration": 20,
    "start_time": "2022-04-10T21:46:56.963Z"
   },
   {
    "duration": 14,
    "start_time": "2022-04-10T21:47:06.719Z"
   },
   {
    "duration": 11,
    "start_time": "2022-04-10T21:47:10.187Z"
   },
   {
    "duration": 13,
    "start_time": "2022-04-10T21:47:13.949Z"
   },
   {
    "duration": 12,
    "start_time": "2022-04-10T21:47:18.236Z"
   },
   {
    "duration": 19,
    "start_time": "2022-04-10T21:47:31.457Z"
   },
   {
    "duration": 16,
    "start_time": "2022-04-10T21:47:36.731Z"
   },
   {
    "duration": 12,
    "start_time": "2022-04-10T21:47:40.337Z"
   },
   {
    "duration": 5,
    "start_time": "2022-04-10T21:50:06.723Z"
   },
   {
    "duration": 5,
    "start_time": "2022-04-10T21:50:13.443Z"
   },
   {
    "duration": 1445,
    "start_time": "2022-04-10T21:50:31.672Z"
   },
   {
    "duration": 818,
    "start_time": "2022-04-10T21:50:33.119Z"
   },
   {
    "duration": 20,
    "start_time": "2022-04-10T21:50:33.939Z"
   },
   {
    "duration": 82,
    "start_time": "2022-04-10T21:50:33.962Z"
   },
   {
    "duration": 20,
    "start_time": "2022-04-10T21:50:34.046Z"
   },
   {
    "duration": 13,
    "start_time": "2022-04-10T21:50:34.068Z"
   },
   {
    "duration": 22,
    "start_time": "2022-04-10T21:50:34.083Z"
   },
   {
    "duration": 35,
    "start_time": "2022-04-10T21:50:34.107Z"
   },
   {
    "duration": 10,
    "start_time": "2022-04-10T21:50:34.144Z"
   },
   {
    "duration": 5,
    "start_time": "2022-04-10T21:50:34.157Z"
   },
   {
    "duration": 1453,
    "start_time": "2022-04-10T21:53:20.054Z"
   },
   {
    "duration": 801,
    "start_time": "2022-04-10T21:53:21.509Z"
   },
   {
    "duration": 24,
    "start_time": "2022-04-10T21:53:22.312Z"
   },
   {
    "duration": 12,
    "start_time": "2022-04-10T21:53:22.338Z"
   },
   {
    "duration": 24,
    "start_time": "2022-04-10T21:53:22.352Z"
   },
   {
    "duration": 11,
    "start_time": "2022-04-10T21:53:22.377Z"
   },
   {
    "duration": 12,
    "start_time": "2022-04-10T21:53:22.390Z"
   },
   {
    "duration": 37,
    "start_time": "2022-04-10T21:53:22.404Z"
   },
   {
    "duration": 8,
    "start_time": "2022-04-10T21:53:22.443Z"
   },
   {
    "duration": 9,
    "start_time": "2022-04-10T21:53:22.453Z"
   },
   {
    "duration": 27,
    "start_time": "2022-04-10T21:53:22.463Z"
   },
   {
    "duration": 16,
    "start_time": "2022-04-10T21:53:22.491Z"
   },
   {
    "duration": 34,
    "start_time": "2022-04-10T21:53:22.509Z"
   },
   {
    "duration": 28,
    "start_time": "2022-04-10T21:53:22.546Z"
   },
   {
    "duration": 4,
    "start_time": "2022-04-10T21:53:22.575Z"
   },
   {
    "duration": 6,
    "start_time": "2022-04-10T21:53:22.580Z"
   },
   {
    "duration": 612,
    "start_time": "2022-04-10T21:53:22.588Z"
   },
   {
    "duration": 4,
    "start_time": "2022-04-10T21:53:23.202Z"
   },
   {
    "duration": 615,
    "start_time": "2022-04-10T21:53:23.207Z"
   },
   {
    "duration": 4,
    "start_time": "2022-04-10T21:53:23.831Z"
   },
   {
    "duration": 558,
    "start_time": "2022-04-10T21:53:23.837Z"
   },
   {
    "duration": 348,
    "start_time": "2022-04-10T21:53:24.396Z"
   },
   {
    "duration": 365,
    "start_time": "2022-04-10T21:53:24.745Z"
   },
   {
    "duration": 8,
    "start_time": "2022-04-10T21:53:25.112Z"
   },
   {
    "duration": 737,
    "start_time": "2022-04-10T21:53:25.122Z"
   },
   {
    "duration": 13,
    "start_time": "2022-04-10T21:53:25.860Z"
   },
   {
    "duration": 5,
    "start_time": "2022-04-10T21:53:25.874Z"
   },
   {
    "duration": 6,
    "start_time": "2022-04-10T21:53:25.881Z"
   },
   {
    "duration": 6,
    "start_time": "2022-04-10T21:53:25.889Z"
   },
   {
    "duration": 6,
    "start_time": "2022-04-10T21:53:25.897Z"
   },
   {
    "duration": 28,
    "start_time": "2022-04-10T21:53:25.905Z"
   },
   {
    "duration": 1931,
    "start_time": "2022-04-10T21:53:25.935Z"
   },
   {
    "duration": 4627,
    "start_time": "2022-04-10T21:54:00.943Z"
   },
   {
    "duration": 10,
    "start_time": "2022-04-10T21:54:56.915Z"
   },
   {
    "duration": 20,
    "start_time": "2022-04-10T21:55:04.418Z"
   },
   {
    "duration": 26,
    "start_time": "2022-04-10T21:55:32.437Z"
   },
   {
    "duration": 3,
    "start_time": "2022-04-10T21:56:32.185Z"
   },
   {
    "duration": 1892,
    "start_time": "2022-04-10T21:56:45.256Z"
   },
   {
    "duration": 10,
    "start_time": "2022-04-10T21:57:35.539Z"
   },
   {
    "duration": 4,
    "start_time": "2022-04-10T21:57:49.616Z"
   },
   {
    "duration": 9,
    "start_time": "2022-04-10T21:57:56.846Z"
   },
   {
    "duration": 3,
    "start_time": "2022-04-10T21:58:00.365Z"
   },
   {
    "duration": 1923,
    "start_time": "2022-04-10T21:58:01.053Z"
   },
   {
    "duration": 9,
    "start_time": "2022-04-10T21:58:54.724Z"
   },
   {
    "duration": 3,
    "start_time": "2022-04-10T21:58:59.198Z"
   },
   {
    "duration": 3,
    "start_time": "2022-04-10T21:59:03.192Z"
   },
   {
    "duration": 1841,
    "start_time": "2022-04-10T21:59:04.530Z"
   },
   {
    "duration": 4,
    "start_time": "2022-04-10T22:00:15.909Z"
   },
   {
    "duration": 14,
    "start_time": "2022-04-10T22:00:29.544Z"
   },
   {
    "duration": 3,
    "start_time": "2022-04-10T22:00:34.063Z"
   },
   {
    "duration": 2729,
    "start_time": "2022-04-10T22:00:36.111Z"
   },
   {
    "duration": 5,
    "start_time": "2022-04-10T22:03:10.121Z"
   },
   {
    "duration": 6598,
    "start_time": "2022-04-10T22:04:55.079Z"
   },
   {
    "duration": 6596,
    "start_time": "2022-04-10T22:05:31.560Z"
   },
   {
    "duration": 4,
    "start_time": "2022-04-10T22:07:59.526Z"
   },
   {
    "duration": 19,
    "start_time": "2022-04-10T22:08:14.025Z"
   },
   {
    "duration": 4,
    "start_time": "2022-04-10T22:09:49.848Z"
   },
   {
    "duration": 4,
    "start_time": "2022-04-10T22:10:25.005Z"
   },
   {
    "duration": 13,
    "start_time": "2022-04-10T22:10:44.480Z"
   },
   {
    "duration": 4,
    "start_time": "2022-04-10T22:10:49.937Z"
   },
   {
    "duration": 3498,
    "start_time": "2022-04-10T22:10:51.337Z"
   },
   {
    "duration": 5,
    "start_time": "2022-04-10T22:12:38.891Z"
   },
   {
    "duration": 3,
    "start_time": "2022-04-10T22:12:40.508Z"
   },
   {
    "duration": 4,
    "start_time": "2022-04-10T22:12:43.738Z"
   },
   {
    "duration": 2422,
    "start_time": "2022-04-10T22:12:44.317Z"
   },
   {
    "duration": 1530,
    "start_time": "2022-04-10T22:16:00.310Z"
   },
   {
    "duration": 818,
    "start_time": "2022-04-10T22:16:01.842Z"
   },
   {
    "duration": 21,
    "start_time": "2022-04-10T22:16:02.662Z"
   },
   {
    "duration": 14,
    "start_time": "2022-04-10T22:16:02.685Z"
   },
   {
    "duration": 44,
    "start_time": "2022-04-10T22:16:02.702Z"
   },
   {
    "duration": 13,
    "start_time": "2022-04-10T22:16:02.748Z"
   },
   {
    "duration": 13,
    "start_time": "2022-04-10T22:16:02.763Z"
   },
   {
    "duration": 12,
    "start_time": "2022-04-10T22:16:02.777Z"
   },
   {
    "duration": 42,
    "start_time": "2022-04-10T22:16:02.791Z"
   },
   {
    "duration": 6,
    "start_time": "2022-04-10T22:16:02.834Z"
   },
   {
    "duration": 23,
    "start_time": "2022-04-10T22:16:02.842Z"
   },
   {
    "duration": 16,
    "start_time": "2022-04-10T22:16:02.866Z"
   },
   {
    "duration": 15,
    "start_time": "2022-04-10T22:16:02.883Z"
   },
   {
    "duration": 50,
    "start_time": "2022-04-10T22:16:02.901Z"
   },
   {
    "duration": 3,
    "start_time": "2022-04-10T22:16:02.953Z"
   },
   {
    "duration": 9,
    "start_time": "2022-04-10T22:16:02.958Z"
   },
   {
    "duration": 614,
    "start_time": "2022-04-10T22:16:02.968Z"
   },
   {
    "duration": 4,
    "start_time": "2022-04-10T22:16:03.583Z"
   },
   {
    "duration": 637,
    "start_time": "2022-04-10T22:16:03.589Z"
   },
   {
    "duration": 5,
    "start_time": "2022-04-10T22:16:04.228Z"
   },
   {
    "duration": 576,
    "start_time": "2022-04-10T22:16:04.235Z"
   },
   {
    "duration": 365,
    "start_time": "2022-04-10T22:16:04.813Z"
   },
   {
    "duration": 360,
    "start_time": "2022-04-10T22:16:05.180Z"
   },
   {
    "duration": 9,
    "start_time": "2022-04-10T22:16:05.542Z"
   },
   {
    "duration": 764,
    "start_time": "2022-04-10T22:16:05.553Z"
   },
   {
    "duration": 17,
    "start_time": "2022-04-10T22:16:06.319Z"
   },
   {
    "duration": 9,
    "start_time": "2022-04-10T22:16:06.338Z"
   },
   {
    "duration": 9,
    "start_time": "2022-04-10T22:16:06.349Z"
   },
   {
    "duration": 7,
    "start_time": "2022-04-10T22:16:06.359Z"
   },
   {
    "duration": 8,
    "start_time": "2022-04-10T22:16:06.368Z"
   },
   {
    "duration": 2560,
    "start_time": "2022-04-10T22:16:06.377Z"
   },
   {
    "duration": 4,
    "start_time": "2022-04-10T22:18:20.955Z"
   },
   {
    "duration": 3,
    "start_time": "2022-04-10T22:18:21.636Z"
   },
   {
    "duration": 3,
    "start_time": "2022-04-10T22:18:56.259Z"
   },
   {
    "duration": 2715,
    "start_time": "2022-04-10T22:18:57.123Z"
   },
   {
    "duration": 17,
    "start_time": "2022-04-10T22:19:18.299Z"
   },
   {
    "duration": 159,
    "start_time": "2022-04-10T22:19:22.606Z"
   },
   {
    "duration": 140,
    "start_time": "2022-04-10T22:19:48.079Z"
   },
   {
    "duration": 17,
    "start_time": "2022-04-10T22:19:57.949Z"
   },
   {
    "duration": 151,
    "start_time": "2022-04-10T22:21:50.526Z"
   },
   {
    "duration": 12,
    "start_time": "2022-04-10T22:23:56.816Z"
   },
   {
    "duration": 8,
    "start_time": "2022-04-10T22:24:02.307Z"
   },
   {
    "duration": 108,
    "start_time": "2022-04-10T22:25:58.743Z"
   },
   {
    "duration": 12140,
    "start_time": "2022-04-10T22:26:02.733Z"
   },
   {
    "duration": 1467,
    "start_time": "2022-04-10T22:26:49.346Z"
   },
   {
    "duration": 807,
    "start_time": "2022-04-10T22:26:50.815Z"
   },
   {
    "duration": 23,
    "start_time": "2022-04-10T22:26:51.624Z"
   },
   {
    "duration": 14,
    "start_time": "2022-04-10T22:26:51.649Z"
   },
   {
    "duration": 19,
    "start_time": "2022-04-10T22:26:51.666Z"
   },
   {
    "duration": 11,
    "start_time": "2022-04-10T22:26:51.687Z"
   },
   {
    "duration": 42,
    "start_time": "2022-04-10T22:26:51.700Z"
   },
   {
    "duration": 11,
    "start_time": "2022-04-10T22:26:51.744Z"
   },
   {
    "duration": 9,
    "start_time": "2022-04-10T22:26:51.757Z"
   },
   {
    "duration": 6,
    "start_time": "2022-04-10T22:26:51.767Z"
   },
   {
    "duration": 19,
    "start_time": "2022-04-10T22:26:51.774Z"
   },
   {
    "duration": 48,
    "start_time": "2022-04-10T22:26:51.794Z"
   },
   {
    "duration": 15,
    "start_time": "2022-04-10T22:26:51.844Z"
   },
   {
    "duration": 27,
    "start_time": "2022-04-10T22:26:51.862Z"
   },
   {
    "duration": 4,
    "start_time": "2022-04-10T22:26:51.891Z"
   },
   {
    "duration": 11,
    "start_time": "2022-04-10T22:26:51.896Z"
   },
   {
    "duration": 628,
    "start_time": "2022-04-10T22:26:51.909Z"
   },
   {
    "duration": 3,
    "start_time": "2022-04-10T22:26:52.539Z"
   },
   {
    "duration": 618,
    "start_time": "2022-04-10T22:26:52.544Z"
   },
   {
    "duration": 4,
    "start_time": "2022-04-10T22:26:53.164Z"
   },
   {
    "duration": 570,
    "start_time": "2022-04-10T22:26:53.170Z"
   },
   {
    "duration": 347,
    "start_time": "2022-04-10T22:26:53.741Z"
   },
   {
    "duration": 346,
    "start_time": "2022-04-10T22:26:54.090Z"
   },
   {
    "duration": 8,
    "start_time": "2022-04-10T22:26:54.438Z"
   },
   {
    "duration": 742,
    "start_time": "2022-04-10T22:26:54.447Z"
   },
   {
    "duration": 12,
    "start_time": "2022-04-10T22:26:55.191Z"
   },
   {
    "duration": 4,
    "start_time": "2022-04-10T22:28:02.974Z"
   },
   {
    "duration": 3,
    "start_time": "2022-04-10T22:28:06.526Z"
   },
   {
    "duration": 3,
    "start_time": "2022-04-10T22:28:11.296Z"
   },
   {
    "duration": 4,
    "start_time": "2022-04-10T22:28:12.495Z"
   },
   {
    "duration": 12250,
    "start_time": "2022-04-10T22:28:13.634Z"
   },
   {
    "duration": 32,
    "start_time": "2022-04-10T22:28:30.481Z"
   },
   {
    "duration": 16,
    "start_time": "2022-04-10T22:28:34.987Z"
   },
   {
    "duration": 10,
    "start_time": "2022-04-10T22:28:56.871Z"
   },
   {
    "duration": 10,
    "start_time": "2022-04-10T22:28:59.975Z"
   },
   {
    "duration": 11,
    "start_time": "2022-04-10T22:29:06.319Z"
   },
   {
    "duration": 10,
    "start_time": "2022-04-10T22:29:44.256Z"
   },
   {
    "duration": 2778,
    "start_time": "2022-04-10T22:29:54.857Z"
   },
   {
    "duration": 5,
    "start_time": "2022-04-10T22:30:56.136Z"
   },
   {
    "duration": 21,
    "start_time": "2022-04-10T22:31:19.806Z"
   },
   {
    "duration": 14,
    "start_time": "2022-04-10T22:36:12.054Z"
   },
   {
    "duration": 3,
    "start_time": "2022-04-10T22:38:42.281Z"
   },
   {
    "duration": 4,
    "start_time": "2022-04-10T22:41:11.212Z"
   },
   {
    "duration": 12,
    "start_time": "2022-04-10T22:41:24.814Z"
   },
   {
    "duration": 4,
    "start_time": "2022-04-10T22:42:23.608Z"
   },
   {
    "duration": 12,
    "start_time": "2022-04-10T22:42:25.415Z"
   },
   {
    "duration": 236,
    "start_time": "2022-04-10T22:42:31.809Z"
   },
   {
    "duration": 14,
    "start_time": "2022-04-10T22:43:03.013Z"
   },
   {
    "duration": 11,
    "start_time": "2022-04-10T22:43:08.105Z"
   },
   {
    "duration": 13,
    "start_time": "2022-04-10T22:43:24.170Z"
   },
   {
    "duration": 12,
    "start_time": "2022-04-10T22:43:26.306Z"
   },
   {
    "duration": 9,
    "start_time": "2022-04-10T22:43:29.299Z"
   },
   {
    "duration": 6,
    "start_time": "2022-04-10T22:43:40.732Z"
   },
   {
    "duration": 1436,
    "start_time": "2022-04-10T22:44:27.876Z"
   },
   {
    "duration": 782,
    "start_time": "2022-04-10T22:44:29.314Z"
   },
   {
    "duration": 19,
    "start_time": "2022-04-10T22:44:30.098Z"
   },
   {
    "duration": 25,
    "start_time": "2022-04-10T22:44:30.119Z"
   },
   {
    "duration": 19,
    "start_time": "2022-04-10T22:44:30.147Z"
   },
   {
    "duration": 11,
    "start_time": "2022-04-10T22:44:30.168Z"
   },
   {
    "duration": 13,
    "start_time": "2022-04-10T22:44:30.181Z"
   },
   {
    "duration": 45,
    "start_time": "2022-04-10T22:44:30.196Z"
   },
   {
    "duration": 10,
    "start_time": "2022-04-10T22:44:30.243Z"
   },
   {
    "duration": 10,
    "start_time": "2022-04-10T22:44:30.254Z"
   },
   {
    "duration": 10,
    "start_time": "2022-04-10T22:47:23.017Z"
   },
   {
    "duration": 108,
    "start_time": "2022-04-10T22:47:31.449Z"
   },
   {
    "duration": 12,
    "start_time": "2022-04-10T22:47:36.365Z"
   },
   {
    "duration": 13,
    "start_time": "2022-04-10T22:47:54.918Z"
   },
   {
    "duration": 11,
    "start_time": "2022-04-10T22:47:59.129Z"
   },
   {
    "duration": 9,
    "start_time": "2022-04-10T22:48:07.406Z"
   },
   {
    "duration": 6,
    "start_time": "2022-04-10T22:48:09.126Z"
   },
   {
    "duration": 13,
    "start_time": "2022-04-10T22:49:08.061Z"
   },
   {
    "duration": 11,
    "start_time": "2022-04-10T22:49:12.016Z"
   },
   {
    "duration": 10,
    "start_time": "2022-04-10T22:49:16.272Z"
   },
   {
    "duration": 5,
    "start_time": "2022-04-10T22:49:17.810Z"
   },
   {
    "duration": 16,
    "start_time": "2022-04-10T23:03:49.701Z"
   },
   {
    "duration": 15,
    "start_time": "2022-04-10T23:03:51.669Z"
   },
   {
    "duration": 20,
    "start_time": "2022-04-10T23:03:54.684Z"
   },
   {
    "duration": 4,
    "start_time": "2022-04-10T23:03:58.789Z"
   },
   {
    "duration": 4,
    "start_time": "2022-04-10T23:03:59.397Z"
   },
   {
    "duration": 602,
    "start_time": "2022-04-10T23:04:02.095Z"
   },
   {
    "duration": 4,
    "start_time": "2022-04-10T23:06:45.674Z"
   },
   {
    "duration": 4,
    "start_time": "2022-04-10T23:06:52.426Z"
   },
   {
    "duration": 14,
    "start_time": "2022-04-10T23:07:15.463Z"
   },
   {
    "duration": 4,
    "start_time": "2022-04-10T23:07:53.005Z"
   },
   {
    "duration": 4,
    "start_time": "2022-04-10T23:07:55.636Z"
   },
   {
    "duration": 16,
    "start_time": "2022-04-10T23:08:08.417Z"
   },
   {
    "duration": 4,
    "start_time": "2022-04-10T23:08:15.383Z"
   },
   {
    "duration": 2701,
    "start_time": "2022-04-10T23:08:15.735Z"
   },
   {
    "duration": 4,
    "start_time": "2022-04-10T23:08:45.020Z"
   },
   {
    "duration": 2497,
    "start_time": "2022-04-10T23:08:45.541Z"
   },
   {
    "duration": 4,
    "start_time": "2022-04-10T23:08:52.462Z"
   },
   {
    "duration": 2567,
    "start_time": "2022-04-10T23:08:52.868Z"
   },
   {
    "duration": 4,
    "start_time": "2022-04-10T23:09:13.784Z"
   },
   {
    "duration": 2690,
    "start_time": "2022-04-10T23:09:14.242Z"
   },
   {
    "duration": 10,
    "start_time": "2022-04-10T23:10:01.274Z"
   },
   {
    "duration": 3,
    "start_time": "2022-04-10T23:10:03.592Z"
   },
   {
    "duration": 5,
    "start_time": "2022-04-10T23:10:03.888Z"
   },
   {
    "duration": 4,
    "start_time": "2022-04-10T23:11:27.421Z"
   },
   {
    "duration": 2522,
    "start_time": "2022-04-10T23:11:28.316Z"
   },
   {
    "duration": 4,
    "start_time": "2022-04-10T23:12:01.371Z"
   },
   {
    "duration": 2559,
    "start_time": "2022-04-10T23:12:04.677Z"
   },
   {
    "duration": 4,
    "start_time": "2022-04-10T23:49:39.301Z"
   },
   {
    "duration": 4,
    "start_time": "2022-04-10T23:49:41.131Z"
   },
   {
    "duration": 4,
    "start_time": "2022-04-10T23:49:49.663Z"
   },
   {
    "duration": 597,
    "start_time": "2022-04-10T23:49:51.342Z"
   },
   {
    "duration": 5,
    "start_time": "2022-04-10T23:53:27.440Z"
   },
   {
    "duration": 4,
    "start_time": "2022-04-10T23:53:28.839Z"
   },
   {
    "duration": 4,
    "start_time": "2022-04-10T23:53:29.681Z"
   },
   {
    "duration": 2577,
    "start_time": "2022-04-10T23:53:31.659Z"
   },
   {
    "duration": 5,
    "start_time": "2022-04-10T23:54:03.493Z"
   },
   {
    "duration": 5,
    "start_time": "2022-04-10T23:54:10.293Z"
   },
   {
    "duration": 4,
    "start_time": "2022-04-10T23:54:10.805Z"
   },
   {
    "duration": 4,
    "start_time": "2022-04-10T23:54:12.703Z"
   },
   {
    "duration": 2600,
    "start_time": "2022-04-10T23:54:13.638Z"
   },
   {
    "duration": 12033,
    "start_time": "2022-04-10T23:56:02.865Z"
   },
   {
    "duration": 707962,
    "start_time": "2022-04-11T00:00:22.473Z"
   },
   {
    "duration": 1929,
    "start_time": "2022-04-12T02:29:44.008Z"
   },
   {
    "duration": 900,
    "start_time": "2022-04-12T02:29:45.939Z"
   },
   {
    "duration": 18,
    "start_time": "2022-04-12T02:29:46.840Z"
   },
   {
    "duration": 10,
    "start_time": "2022-04-12T02:29:46.860Z"
   },
   {
    "duration": 35,
    "start_time": "2022-04-12T02:29:46.872Z"
   },
   {
    "duration": 9,
    "start_time": "2022-04-12T02:29:46.909Z"
   },
   {
    "duration": 17,
    "start_time": "2022-04-12T02:29:46.919Z"
   },
   {
    "duration": 9,
    "start_time": "2022-04-12T02:29:46.937Z"
   },
   {
    "duration": 16,
    "start_time": "2022-04-12T02:29:46.948Z"
   },
   {
    "duration": 7,
    "start_time": "2022-04-12T02:29:46.965Z"
   },
   {
    "duration": 31,
    "start_time": "2022-04-12T02:29:46.974Z"
   },
   {
    "duration": 13,
    "start_time": "2022-04-12T02:29:47.006Z"
   },
   {
    "duration": 17,
    "start_time": "2022-04-12T02:29:47.021Z"
   },
   {
    "duration": 31,
    "start_time": "2022-04-12T02:29:47.041Z"
   },
   {
    "duration": 3,
    "start_time": "2022-04-12T02:29:47.074Z"
   },
   {
    "duration": 24,
    "start_time": "2022-04-12T02:29:47.078Z"
   },
   {
    "duration": 505,
    "start_time": "2022-04-12T02:29:47.103Z"
   },
   {
    "duration": 3,
    "start_time": "2022-04-12T02:29:47.610Z"
   },
   {
    "duration": 545,
    "start_time": "2022-04-12T02:29:47.615Z"
   },
   {
    "duration": 4,
    "start_time": "2022-04-12T02:29:48.161Z"
   },
   {
    "duration": 465,
    "start_time": "2022-04-12T02:29:48.166Z"
   },
   {
    "duration": 291,
    "start_time": "2022-04-12T02:29:48.633Z"
   },
   {
    "duration": 283,
    "start_time": "2022-04-12T02:29:48.926Z"
   },
   {
    "duration": 6,
    "start_time": "2022-04-12T02:29:49.210Z"
   },
   {
    "duration": 614,
    "start_time": "2022-04-12T02:29:49.217Z"
   },
   {
    "duration": 11,
    "start_time": "2022-04-12T02:29:49.832Z"
   },
   {
    "duration": 14,
    "start_time": "2022-04-12T02:29:49.844Z"
   },
   {
    "duration": 17,
    "start_time": "2022-04-12T02:29:49.860Z"
   },
   {
    "duration": 20,
    "start_time": "2022-04-12T02:29:49.878Z"
   },
   {
    "duration": 11844,
    "start_time": "2022-04-12T02:29:49.899Z"
   },
   {
    "duration": 2364,
    "start_time": "2022-04-12T02:30:01.745Z"
   },
   {
    "duration": 679435,
    "start_time": "2022-04-12T02:30:04.112Z"
   },
   {
    "duration": 194,
    "start_time": "2022-04-12T02:41:23.549Z"
   },
   {
    "duration": 194,
    "start_time": "2022-04-12T02:47:43.514Z"
   },
   {
    "duration": 182,
    "start_time": "2022-04-12T02:48:02.262Z"
   },
   {
    "duration": 197,
    "start_time": "2022-04-12T02:48:07.296Z"
   },
   {
    "duration": 104,
    "start_time": "2022-04-12T02:48:21.274Z"
   },
   {
    "duration": 3,
    "start_time": "2022-04-12T02:48:26.996Z"
   },
   {
    "duration": 9,
    "start_time": "2022-04-12T02:56:07.790Z"
   },
   {
    "duration": 145,
    "start_time": "2022-04-12T02:56:19.367Z"
   },
   {
    "duration": 133,
    "start_time": "2022-04-12T02:56:49.981Z"
   },
   {
    "duration": 154,
    "start_time": "2022-04-12T03:01:51.220Z"
   },
   {
    "duration": 4,
    "start_time": "2022-04-12T03:02:04.897Z"
   },
   {
    "duration": 128,
    "start_time": "2022-04-12T03:02:06.487Z"
   },
   {
    "duration": 4,
    "start_time": "2022-04-12T03:02:17.527Z"
   },
   {
    "duration": 30,
    "start_time": "2022-04-12T03:02:19.671Z"
   },
   {
    "duration": 3,
    "start_time": "2022-04-12T03:02:28.442Z"
   },
   {
    "duration": 24,
    "start_time": "2022-04-12T03:02:29.700Z"
   },
   {
    "duration": 4,
    "start_time": "2022-04-12T03:02:34.740Z"
   },
   {
    "duration": 24,
    "start_time": "2022-04-12T03:02:36.042Z"
   },
   {
    "duration": 3,
    "start_time": "2022-04-12T03:02:48.222Z"
   },
   {
    "duration": 21,
    "start_time": "2022-04-12T03:02:49.716Z"
   },
   {
    "duration": 4,
    "start_time": "2022-04-12T03:02:54.327Z"
   },
   {
    "duration": 21,
    "start_time": "2022-04-12T03:02:55.507Z"
   },
   {
    "duration": 3,
    "start_time": "2022-04-12T03:03:24.673Z"
   },
   {
    "duration": 21,
    "start_time": "2022-04-12T03:03:26.091Z"
   },
   {
    "duration": 24,
    "start_time": "2022-04-12T03:04:36.823Z"
   },
   {
    "duration": 3,
    "start_time": "2022-04-12T03:07:42.141Z"
   },
   {
    "duration": 8,
    "start_time": "2022-04-12T03:07:59.207Z"
   },
   {
    "duration": 259071,
    "start_time": "2022-04-12T03:08:18.186Z"
   },
   {
    "duration": 3,
    "start_time": "2022-04-12T03:14:11.585Z"
   },
   {
    "duration": 9213,
    "start_time": "2022-04-12T03:14:15.397Z"
   },
   {
    "duration": 20638,
    "start_time": "2022-04-12T03:14:31.396Z"
   },
   {
    "duration": 22,
    "start_time": "2022-04-12T03:16:58.350Z"
   },
   {
    "duration": 25,
    "start_time": "2022-04-12T03:17:19.128Z"
   },
   {
    "duration": 25,
    "start_time": "2022-04-12T03:17:31.323Z"
   },
   {
    "duration": 3,
    "start_time": "2022-04-12T03:17:58.901Z"
   },
   {
    "duration": 25,
    "start_time": "2022-04-12T03:18:00.825Z"
   },
   {
    "duration": 9,
    "start_time": "2022-04-12T03:21:54.682Z"
   },
   {
    "duration": 3,
    "start_time": "2022-04-12T03:22:00.765Z"
   },
   {
    "duration": 427019,
    "start_time": "2022-04-12T03:22:14.256Z"
   },
   {
    "duration": 197,
    "start_time": "2022-04-12T03:30:30.658Z"
   },
   {
    "duration": 393799,
    "start_time": "2022-04-12T03:30:38.510Z"
   },
   {
    "duration": 55335,
    "start_time": "2022-04-12T03:37:15.818Z"
   },
   {
    "duration": 66978,
    "start_time": "2022-04-12T03:38:17.580Z"
   },
   {
    "duration": 4,
    "start_time": "2022-04-12T03:42:40.362Z"
   },
   {
    "duration": 1710235,
    "start_time": "2022-04-12T03:42:43.245Z"
   },
   {
    "duration": 12070,
    "start_time": "2022-04-12T04:18:03.220Z"
   },
   {
    "duration": 9,
    "start_time": "2022-04-12T04:34:44.483Z"
   },
   {
    "duration": 2976,
    "start_time": "2022-04-12T04:34:56.381Z"
   },
   {
    "duration": 3123,
    "start_time": "2022-04-12T04:35:03.277Z"
   },
   {
    "duration": 14737,
    "start_time": "2022-04-12T04:35:26.051Z"
   },
   {
    "duration": 11,
    "start_time": "2022-04-12T04:35:45.094Z"
   },
   {
    "duration": 3007,
    "start_time": "2022-04-12T04:35:51.994Z"
   },
   {
    "duration": 12195,
    "start_time": "2022-04-12T04:36:12.068Z"
   },
   {
    "duration": 3011,
    "start_time": "2022-04-12T04:36:50.458Z"
   },
   {
    "duration": 15251,
    "start_time": "2022-04-12T04:38:16.705Z"
   },
   {
    "duration": 4,
    "start_time": "2022-04-12T04:41:11.444Z"
   },
   {
    "duration": 11,
    "start_time": "2022-04-12T04:42:46.910Z"
   },
   {
    "duration": 14869,
    "start_time": "2022-04-12T04:42:49.354Z"
   },
   {
    "duration": 37650,
    "start_time": "2022-04-13T08:23:23.673Z"
   },
   {
    "duration": 908,
    "start_time": "2022-04-13T08:24:01.328Z"
   },
   {
    "duration": 26,
    "start_time": "2022-04-13T08:24:02.238Z"
   },
   {
    "duration": 17,
    "start_time": "2022-04-13T08:24:02.268Z"
   },
   {
    "duration": 45,
    "start_time": "2022-04-13T08:24:02.287Z"
   },
   {
    "duration": 12,
    "start_time": "2022-04-13T08:24:02.334Z"
   },
   {
    "duration": 20,
    "start_time": "2022-04-13T08:24:02.348Z"
   },
   {
    "duration": 13,
    "start_time": "2022-04-13T08:24:02.370Z"
   },
   {
    "duration": 9,
    "start_time": "2022-04-13T08:24:02.385Z"
   },
   {
    "duration": 6,
    "start_time": "2022-04-13T08:24:02.428Z"
   },
   {
    "duration": 17,
    "start_time": "2022-04-13T08:24:02.437Z"
   },
   {
    "duration": 17,
    "start_time": "2022-04-13T08:24:02.456Z"
   },
   {
    "duration": 17,
    "start_time": "2022-04-13T08:24:02.475Z"
   },
   {
    "duration": 53,
    "start_time": "2022-04-13T08:24:02.493Z"
   },
   {
    "duration": 4,
    "start_time": "2022-04-13T08:24:09.319Z"
   },
   {
    "duration": 10,
    "start_time": "2022-04-13T08:24:17.385Z"
   },
   {
    "duration": 3075,
    "start_time": "2022-04-13T08:24:25.796Z"
   },
   {
    "duration": 3535,
    "start_time": "2022-04-13T08:25:03.246Z"
   },
   {
    "duration": 10,
    "start_time": "2022-04-13T08:26:51.274Z"
   },
   {
    "duration": 2863,
    "start_time": "2022-04-13T08:26:52.780Z"
   },
   {
    "duration": 26,
    "start_time": "2022-04-13T08:27:40.184Z"
   },
   {
    "duration": 11,
    "start_time": "2022-04-13T08:29:38.126Z"
   },
   {
    "duration": 5,
    "start_time": "2022-04-13T08:29:42.445Z"
   },
   {
    "duration": 5,
    "start_time": "2022-04-13T08:29:45.269Z"
   },
   {
    "duration": 4,
    "start_time": "2022-04-13T08:32:20.177Z"
   },
   {
    "duration": 2210,
    "start_time": "2022-04-15T01:19:03.386Z"
   },
   {
    "duration": 930,
    "start_time": "2022-04-15T01:19:05.599Z"
   },
   {
    "duration": 27,
    "start_time": "2022-04-15T01:19:06.531Z"
   },
   {
    "duration": 20,
    "start_time": "2022-04-15T01:19:06.560Z"
   },
   {
    "duration": 55,
    "start_time": "2022-04-15T01:19:06.583Z"
   },
   {
    "duration": 15,
    "start_time": "2022-04-15T01:19:06.641Z"
   },
   {
    "duration": 19,
    "start_time": "2022-04-15T01:19:06.659Z"
   },
   {
    "duration": 43,
    "start_time": "2022-04-15T01:19:06.681Z"
   },
   {
    "duration": 11,
    "start_time": "2022-04-15T01:19:06.727Z"
   },
   {
    "duration": 8,
    "start_time": "2022-04-15T01:19:06.740Z"
   },
   {
    "duration": 24,
    "start_time": "2022-04-15T01:19:06.750Z"
   },
   {
    "duration": 54,
    "start_time": "2022-04-15T01:19:06.777Z"
   },
   {
    "duration": 18,
    "start_time": "2022-04-15T01:19:06.834Z"
   },
   {
    "duration": 175,
    "start_time": "2022-04-15T01:19:35.864Z"
   },
   {
    "duration": 42,
    "start_time": "2022-04-15T01:19:44.640Z"
   },
   {
    "duration": 5,
    "start_time": "2022-04-15T01:22:05.116Z"
   },
   {
    "duration": 1014,
    "start_time": "2022-04-15T01:22:05.123Z"
   },
   {
    "duration": 26,
    "start_time": "2022-04-15T01:22:06.139Z"
   },
   {
    "duration": 20,
    "start_time": "2022-04-15T01:22:06.167Z"
   },
   {
    "duration": 55,
    "start_time": "2022-04-15T01:22:06.190Z"
   },
   {
    "duration": 12,
    "start_time": "2022-04-15T01:22:06.247Z"
   },
   {
    "duration": 16,
    "start_time": "2022-04-15T01:22:06.261Z"
   },
   {
    "duration": 51,
    "start_time": "2022-04-15T01:22:06.279Z"
   },
   {
    "duration": 11,
    "start_time": "2022-04-15T01:22:06.332Z"
   },
   {
    "duration": 7,
    "start_time": "2022-04-15T01:22:06.346Z"
   },
   {
    "duration": 29,
    "start_time": "2022-04-15T01:22:06.355Z"
   },
   {
    "duration": 47,
    "start_time": "2022-04-15T01:22:06.386Z"
   },
   {
    "duration": 17,
    "start_time": "2022-04-15T01:22:06.436Z"
   },
   {
    "duration": 30,
    "start_time": "2022-04-15T01:22:06.457Z"
   },
   {
    "duration": 5,
    "start_time": "2022-04-15T01:22:06.489Z"
   },
   {
    "duration": 34,
    "start_time": "2022-04-15T01:22:06.496Z"
   },
   {
    "duration": 941,
    "start_time": "2022-04-15T01:22:06.532Z"
   },
   {
    "duration": 5,
    "start_time": "2022-04-15T01:22:07.476Z"
   },
   {
    "duration": 956,
    "start_time": "2022-04-15T01:22:07.482Z"
   },
   {
    "duration": 5,
    "start_time": "2022-04-15T01:22:08.440Z"
   },
   {
    "duration": 903,
    "start_time": "2022-04-15T01:22:08.447Z"
   },
   {
    "duration": 553,
    "start_time": "2022-04-15T01:22:09.353Z"
   },
   {
    "duration": 546,
    "start_time": "2022-04-15T01:22:09.909Z"
   },
   {
    "duration": 10,
    "start_time": "2022-04-15T01:22:10.457Z"
   },
   {
    "duration": 1117,
    "start_time": "2022-04-15T01:22:10.469Z"
   },
   {
    "duration": 17,
    "start_time": "2022-04-15T01:22:11.589Z"
   },
   {
    "duration": 19,
    "start_time": "2022-04-15T01:22:11.608Z"
   },
   {
    "duration": 8,
    "start_time": "2022-04-15T01:22:11.630Z"
   },
   {
    "duration": 7,
    "start_time": "2022-04-15T01:22:11.640Z"
   },
   {
    "duration": 15451,
    "start_time": "2022-04-15T01:22:11.649Z"
   },
   {
    "duration": 2528,
    "start_time": "2022-04-15T01:22:27.102Z"
   },
   {
    "duration": 89107,
    "start_time": "2022-04-15T01:22:29.633Z"
   },
   {
    "duration": 6,
    "start_time": "2022-04-15T01:23:58.742Z"
   },
   {
    "duration": 28444,
    "start_time": "2022-04-15T01:23:58.750Z"
   },
   {
    "duration": 0,
    "start_time": "2022-04-15T01:24:27.198Z"
   },
   {
    "duration": 1,
    "start_time": "2022-04-15T01:24:27.200Z"
   },
   {
    "duration": 1,
    "start_time": "2022-04-15T01:24:27.202Z"
   },
   {
    "duration": 14,
    "start_time": "2022-04-15T01:24:52.132Z"
   },
   {
    "duration": 7,
    "start_time": "2022-04-15T01:25:51.235Z"
   },
   {
    "duration": 6,
    "start_time": "2022-04-15T01:25:55.782Z"
   },
   {
    "duration": 15126,
    "start_time": "2022-04-15T01:26:16.444Z"
   },
   {
    "duration": 1786,
    "start_time": "2022-04-15T01:27:22.993Z"
   },
   {
    "duration": 1700,
    "start_time": "2022-04-15T01:28:02.737Z"
   },
   {
    "duration": 99,
    "start_time": "2022-04-15T01:28:10.969Z"
   },
   {
    "duration": 13,
    "start_time": "2022-04-15T01:28:13.784Z"
   },
   {
    "duration": 13,
    "start_time": "2022-04-15T01:29:20.126Z"
   },
   {
    "duration": 5,
    "start_time": "2022-04-15T01:29:51.256Z"
   },
   {
    "duration": 6,
    "start_time": "2022-04-15T01:30:31.554Z"
   },
   {
    "duration": 8861,
    "start_time": "2022-04-15T01:30:37.416Z"
   },
   {
    "duration": 8629,
    "start_time": "2022-04-15T01:31:23.486Z"
   },
   {
    "duration": 7,
    "start_time": "2022-04-15T01:31:44.213Z"
   },
   {
    "duration": 8572,
    "start_time": "2022-04-15T01:31:49.052Z"
   },
   {
    "duration": 15930,
    "start_time": "2022-04-15T01:31:59.545Z"
   },
   {
    "duration": 4,
    "start_time": "2022-04-15T01:32:17.087Z"
   },
   {
    "duration": 6,
    "start_time": "2022-04-15T01:32:19.096Z"
   },
   {
    "duration": 8494,
    "start_time": "2022-04-15T01:32:20.770Z"
   },
   {
    "duration": 14,
    "start_time": "2022-04-15T01:33:00.994Z"
   },
   {
    "duration": 8,
    "start_time": "2022-04-15T01:33:05.272Z"
   },
   {
    "duration": 8707,
    "start_time": "2022-04-15T01:33:06.664Z"
   },
   {
    "duration": 104,
    "start_time": "2022-04-15T01:36:58.926Z"
   },
   {
    "duration": 8,
    "start_time": "2022-04-15T01:37:16.340Z"
   },
   {
    "duration": 8529,
    "start_time": "2022-04-15T01:37:20.456Z"
   },
   {
    "duration": 7,
    "start_time": "2022-04-15T01:38:32.917Z"
   },
   {
    "duration": 8734,
    "start_time": "2022-04-15T01:38:33.596Z"
   },
   {
    "duration": 1578,
    "start_time": "2022-04-15T01:39:42.824Z"
   },
   {
    "duration": 49,
    "start_time": "2022-04-15T01:39:50.136Z"
   },
   {
    "duration": 1839,
    "start_time": "2022-04-15T01:40:36.690Z"
   },
   {
    "duration": 49493,
    "start_time": "2022-04-15T01:40:45.001Z"
   },
   {
    "duration": 8,
    "start_time": "2022-04-15T01:41:39.785Z"
   },
   {
    "duration": 14,
    "start_time": "2022-04-15T01:41:57.421Z"
   },
   {
    "duration": 7,
    "start_time": "2022-04-15T01:42:17.357Z"
   },
   {
    "duration": 8760,
    "start_time": "2022-04-15T01:42:19.930Z"
   },
   {
    "duration": 7,
    "start_time": "2022-04-15T01:44:34.850Z"
   },
   {
    "duration": 4,
    "start_time": "2022-04-15T01:44:54.747Z"
   },
   {
    "duration": 6,
    "start_time": "2022-04-15T01:44:59.018Z"
   },
   {
    "duration": 8845,
    "start_time": "2022-04-15T01:45:01.490Z"
   },
   {
    "duration": 7,
    "start_time": "2022-04-15T01:45:24.270Z"
   },
   {
    "duration": 13,
    "start_time": "2022-04-15T01:45:31.521Z"
   },
   {
    "duration": 869,
    "start_time": "2022-04-15T01:45:34.184Z"
   },
   {
    "duration": 6,
    "start_time": "2022-04-15T01:45:51.172Z"
   },
   {
    "duration": 7,
    "start_time": "2022-04-15T01:46:02.095Z"
   },
   {
    "duration": 9370,
    "start_time": "2022-04-15T01:46:05.278Z"
   },
   {
    "duration": 8,
    "start_time": "2022-04-15T01:46:26.754Z"
   },
   {
    "duration": 8659,
    "start_time": "2022-04-15T01:46:28.807Z"
   },
   {
    "duration": 9,
    "start_time": "2022-04-15T01:46:44.442Z"
   },
   {
    "duration": 8602,
    "start_time": "2022-04-15T01:46:46.426Z"
   },
   {
    "duration": 14,
    "start_time": "2022-04-15T01:47:30.785Z"
   },
   {
    "duration": 1830,
    "start_time": "2022-04-15T01:47:34.804Z"
   },
   {
    "duration": 843,
    "start_time": "2022-04-15T01:47:43.184Z"
   },
   {
    "duration": 6,
    "start_time": "2022-04-15T01:47:48.625Z"
   },
   {
    "duration": 13,
    "start_time": "2022-04-15T01:48:36.740Z"
   },
   {
    "duration": 50410,
    "start_time": "2022-04-15T01:50:41.140Z"
   },
   {
    "duration": 5,
    "start_time": "2022-04-15T01:51:47.911Z"
   },
   {
    "duration": 36,
    "start_time": "2022-04-15T01:51:55.528Z"
   },
   {
    "duration": 5,
    "start_time": "2022-04-15T01:52:33.043Z"
   },
   {
    "duration": 1241457,
    "start_time": "2022-04-15T01:52:34.334Z"
   },
   {
    "duration": 13411,
    "start_time": "2022-04-15T02:22:32.514Z"
   },
   {
    "duration": 5,
    "start_time": "2022-04-15T02:22:52.158Z"
   },
   {
    "duration": 14,
    "start_time": "2022-04-15T02:43:24.957Z"
   },
   {
    "duration": 5,
    "start_time": "2022-04-15T02:43:46.228Z"
   },
   {
    "duration": 10,
    "start_time": "2022-04-15T02:45:26.528Z"
   },
   {
    "duration": 8,
    "start_time": "2022-04-15T02:46:10.505Z"
   },
   {
    "duration": 1769,
    "start_time": "2022-04-15T02:49:31.856Z"
   },
   {
    "duration": 1619,
    "start_time": "2022-04-15T02:49:34.850Z"
   },
   {
    "duration": 40,
    "start_time": "2022-04-15T02:49:52.579Z"
   },
   {
    "duration": 1876,
    "start_time": "2022-04-15T02:50:07.927Z"
   },
   {
    "duration": 17,
    "start_time": "2022-04-15T02:54:05.022Z"
   },
   {
    "duration": 14,
    "start_time": "2022-04-15T02:54:24.738Z"
   },
   {
    "duration": 41,
    "start_time": "2022-04-15T02:54:31.783Z"
   },
   {
    "duration": 14,
    "start_time": "2022-04-15T02:54:42.078Z"
   },
   {
    "duration": 41,
    "start_time": "2022-04-15T02:54:46.141Z"
   },
   {
    "duration": 1641,
    "start_time": "2022-04-15T02:54:56.324Z"
   },
   {
    "duration": 13,
    "start_time": "2022-04-15T02:57:24.500Z"
   },
   {
    "duration": 59,
    "start_time": "2022-04-15T02:57:35.105Z"
   },
   {
    "duration": 38,
    "start_time": "2022-04-15T02:58:35.326Z"
   },
   {
    "duration": 41,
    "start_time": "2022-04-15T02:58:45.416Z"
   },
   {
    "duration": 43,
    "start_time": "2022-04-15T02:58:50.901Z"
   },
   {
    "duration": 874,
    "start_time": "2022-04-15T02:59:55.393Z"
   },
   {
    "duration": 31,
    "start_time": "2022-04-15T03:00:26.795Z"
   },
   {
    "duration": 1788,
    "start_time": "2022-04-15T03:00:35.323Z"
   },
   {
    "duration": 1714,
    "start_time": "2022-04-15T03:00:43.908Z"
   },
   {
    "duration": 34,
    "start_time": "2022-04-15T03:01:34.467Z"
   },
   {
    "duration": 41,
    "start_time": "2022-04-15T03:01:38.069Z"
   },
   {
    "duration": 999,
    "start_time": "2022-04-15T03:01:51.886Z"
   },
   {
    "duration": 14,
    "start_time": "2022-04-15T03:02:26.709Z"
   },
   {
    "duration": 1613,
    "start_time": "2022-04-15T03:05:22.376Z"
   },
   {
    "duration": 37,
    "start_time": "2022-04-15T03:06:12.984Z"
   },
   {
    "duration": 1645,
    "start_time": "2022-04-15T03:06:25.252Z"
   },
   {
    "duration": 1671,
    "start_time": "2022-04-15T03:06:31.749Z"
   },
   {
    "duration": 6,
    "start_time": "2022-04-15T03:08:29.574Z"
   },
   {
    "duration": 7921,
    "start_time": "2022-04-15T03:08:31.066Z"
   },
   {
    "duration": 1725,
    "start_time": "2022-04-15T03:08:42.306Z"
   },
   {
    "duration": 47569,
    "start_time": "2022-04-15T03:10:02.261Z"
   },
   {
    "duration": 469496,
    "start_time": "2022-04-15T03:11:30.300Z"
   },
   {
    "duration": 6,
    "start_time": "2022-04-15T03:26:42.168Z"
   },
   {
    "duration": 34,
    "start_time": "2022-04-15T03:26:44.369Z"
   },
   {
    "duration": 6,
    "start_time": "2022-04-15T03:27:37.846Z"
   },
   {
    "duration": 315160,
    "start_time": "2022-04-15T03:27:38.448Z"
   },
   {
    "duration": 15,
    "start_time": "2022-04-15T03:44:09.925Z"
   },
   {
    "duration": 5188,
    "start_time": "2022-04-15T03:44:20.789Z"
   },
   {
    "duration": 6,
    "start_time": "2022-04-15T03:56:10.278Z"
   },
   {
    "duration": 393282,
    "start_time": "2022-04-15T03:56:13.191Z"
   },
   {
    "duration": 5962,
    "start_time": "2022-04-15T04:03:54.075Z"
   },
   {
    "duration": 12,
    "start_time": "2022-04-15T04:04:04.842Z"
   },
   {
    "duration": 8,
    "start_time": "2022-04-15T04:04:06.433Z"
   },
   {
    "duration": 1190,
    "start_time": "2022-04-15T04:04:44.234Z"
   },
   {
    "duration": 7,
    "start_time": "2022-04-15T04:04:49.412Z"
   },
   {
    "duration": 6,
    "start_time": "2022-04-15T04:05:11.239Z"
   },
   {
    "duration": 1143307,
    "start_time": "2022-04-15T04:05:15.934Z"
   },
   {
    "duration": 5,
    "start_time": "2022-04-15T04:24:24.879Z"
   },
   {
    "duration": 593327,
    "start_time": "2022-04-15T04:24:27.175Z"
   },
   {
    "duration": 6219,
    "start_time": "2022-04-15T04:40:01.654Z"
   },
   {
    "duration": 8,
    "start_time": "2022-04-15T04:41:27.692Z"
   },
   {
    "duration": 6,
    "start_time": "2022-04-15T04:44:49.610Z"
   },
   {
    "duration": 36,
    "start_time": "2022-04-15T04:44:53.718Z"
   },
   {
    "duration": 15,
    "start_time": "2022-04-15T04:45:01.573Z"
   },
   {
    "duration": 7,
    "start_time": "2022-04-15T04:45:05.980Z"
   },
   {
    "duration": 821461,
    "start_time": "2022-04-15T04:45:09.456Z"
   },
   {
    "duration": 8265,
    "start_time": "2022-04-15T04:59:17.460Z"
   },
   {
    "duration": 8,
    "start_time": "2022-04-15T04:59:28.942Z"
   },
   {
    "duration": 38,
    "start_time": "2022-04-15T05:00:17.469Z"
   },
   {
    "duration": 38,
    "start_time": "2022-04-15T05:00:33.178Z"
   },
   {
    "duration": 7,
    "start_time": "2022-04-15T05:04:06.350Z"
   },
   {
    "duration": 13,
    "start_time": "2022-04-15T05:07:51.386Z"
   },
   {
    "duration": 12,
    "start_time": "2022-04-15T05:08:09.805Z"
   },
   {
    "duration": 13,
    "start_time": "2022-04-15T05:08:14.749Z"
   },
   {
    "duration": 6,
    "start_time": "2022-04-15T05:08:37.050Z"
   },
   {
    "duration": 4,
    "start_time": "2022-04-15T05:09:13.721Z"
   },
   {
    "duration": 7,
    "start_time": "2022-04-15T05:09:30.380Z"
   },
   {
    "duration": 7,
    "start_time": "2022-04-15T05:09:35.042Z"
   },
   {
    "duration": 7,
    "start_time": "2022-04-15T05:09:38.539Z"
   },
   {
    "duration": 2469,
    "start_time": "2022-04-15T09:57:21.774Z"
   },
   {
    "duration": 745,
    "start_time": "2022-04-15T09:57:24.246Z"
   },
   {
    "duration": 119,
    "start_time": "2022-04-15T09:59:05.142Z"
   },
   {
    "duration": 15,
    "start_time": "2022-04-15T09:59:13.717Z"
   },
   {
    "duration": 4,
    "start_time": "2022-04-15T09:59:23.669Z"
   },
   {
    "duration": 2623,
    "start_time": "2022-04-15T09:59:28.715Z"
   },
   {
    "duration": 10,
    "start_time": "2022-04-15T09:59:51.445Z"
   },
   {
    "duration": 2650,
    "start_time": "2022-04-15T09:59:53.909Z"
   },
   {
    "duration": 5,
    "start_time": "2022-04-15T10:10:29.129Z"
   },
   {
    "duration": 5,
    "start_time": "2022-04-15T10:10:31.397Z"
   },
   {
    "duration": 5,
    "start_time": "2022-04-15T10:10:39.180Z"
   },
   {
    "duration": 1554,
    "start_time": "2022-04-16T00:52:01.952Z"
   },
   {
    "duration": 9332,
    "start_time": "2022-04-16T00:52:03.508Z"
   },
   {
    "duration": 18,
    "start_time": "2022-04-16T00:52:12.842Z"
   },
   {
    "duration": 12,
    "start_time": "2022-04-16T00:52:12.861Z"
   },
   {
    "duration": 32,
    "start_time": "2022-04-16T00:52:12.875Z"
   },
   {
    "duration": 10,
    "start_time": "2022-04-16T00:52:12.908Z"
   },
   {
    "duration": 13,
    "start_time": "2022-04-16T00:52:12.919Z"
   },
   {
    "duration": 9,
    "start_time": "2022-04-16T00:52:12.933Z"
   },
   {
    "duration": 7,
    "start_time": "2022-04-16T00:52:12.943Z"
   },
   {
    "duration": 4,
    "start_time": "2022-04-16T00:52:12.951Z"
   },
   {
    "duration": 43,
    "start_time": "2022-04-16T00:52:12.957Z"
   },
   {
    "duration": 13,
    "start_time": "2022-04-16T00:52:13.002Z"
   },
   {
    "duration": 12,
    "start_time": "2022-04-16T00:52:13.017Z"
   },
   {
    "duration": 19,
    "start_time": "2022-04-16T00:52:13.031Z"
   },
   {
    "duration": 3,
    "start_time": "2022-04-16T00:52:13.052Z"
   },
   {
    "duration": 6,
    "start_time": "2022-04-16T00:52:13.056Z"
   },
   {
    "duration": 495,
    "start_time": "2022-04-16T00:52:13.063Z"
   },
   {
    "duration": 4,
    "start_time": "2022-04-16T00:52:13.560Z"
   },
   {
    "duration": 510,
    "start_time": "2022-04-16T00:52:13.565Z"
   },
   {
    "duration": 3,
    "start_time": "2022-04-16T00:52:14.077Z"
   },
   {
    "duration": 452,
    "start_time": "2022-04-16T00:52:14.082Z"
   },
   {
    "duration": 285,
    "start_time": "2022-04-16T00:52:14.536Z"
   },
   {
    "duration": 279,
    "start_time": "2022-04-16T00:52:14.823Z"
   },
   {
    "duration": 5,
    "start_time": "2022-04-16T00:52:15.104Z"
   },
   {
    "duration": 608,
    "start_time": "2022-04-16T00:52:15.111Z"
   },
   {
    "duration": 10,
    "start_time": "2022-04-16T00:52:15.721Z"
   },
   {
    "duration": 30,
    "start_time": "2022-04-16T00:52:15.732Z"
   },
   {
    "duration": 47,
    "start_time": "2022-04-16T00:52:15.764Z"
   },
   {
    "duration": 4,
    "start_time": "2022-04-16T00:52:15.813Z"
   },
   {
    "duration": 6,
    "start_time": "2022-04-16T00:52:15.819Z"
   },
   {
    "duration": 5,
    "start_time": "2022-04-16T00:52:15.827Z"
   },
   {
    "duration": 11,
    "start_time": "2022-04-16T00:52:15.834Z"
   },
   {
    "duration": 5,
    "start_time": "2022-04-16T00:52:21.336Z"
   },
   {
    "duration": 5891,
    "start_time": "2022-04-16T00:52:23.961Z"
   },
   {
    "duration": 5,
    "start_time": "2022-04-16T00:52:56.931Z"
   },
   {
    "duration": 5879,
    "start_time": "2022-04-16T00:53:00.495Z"
   },
   {
    "duration": 3,
    "start_time": "2022-04-16T00:54:32.758Z"
   },
   {
    "duration": 4,
    "start_time": "2022-04-16T00:54:48.759Z"
   },
   {
    "duration": 6,
    "start_time": "2022-04-16T00:54:55.095Z"
   },
   {
    "duration": 4,
    "start_time": "2022-04-16T00:54:58.253Z"
   },
   {
    "duration": 5,
    "start_time": "2022-04-16T00:59:48.717Z"
   },
   {
    "duration": 6107,
    "start_time": "2022-04-16T00:59:50.590Z"
   },
   {
    "duration": 5,
    "start_time": "2022-04-16T01:00:28.190Z"
   },
   {
    "duration": 5796,
    "start_time": "2022-04-16T01:00:29.477Z"
   },
   {
    "duration": 1644,
    "start_time": "2022-04-16T01:04:37.287Z"
   },
   {
    "duration": 3118,
    "start_time": "2022-04-16T01:04:57.680Z"
   },
   {
    "duration": 4,
    "start_time": "2022-04-16T01:05:10.890Z"
   },
   {
    "duration": 4,
    "start_time": "2022-04-16T01:05:14.036Z"
   },
   {
    "duration": 1562,
    "start_time": "2022-04-16T01:05:20.951Z"
   },
   {
    "duration": 5,
    "start_time": "2022-04-16T01:05:24.798Z"
   },
   {
    "duration": 9,
    "start_time": "2022-04-16T01:06:44.122Z"
   },
   {
    "duration": 13,
    "start_time": "2022-04-16T01:06:55.095Z"
   },
   {
    "duration": 12,
    "start_time": "2022-04-16T01:07:11.629Z"
   },
   {
    "duration": 13,
    "start_time": "2022-04-16T01:07:15.489Z"
   },
   {
    "duration": 6,
    "start_time": "2022-04-16T01:07:48.921Z"
   },
   {
    "duration": 23,
    "start_time": "2022-04-16T01:07:50.915Z"
   },
   {
    "duration": 6,
    "start_time": "2022-04-16T01:09:34.981Z"
   },
   {
    "duration": 7714,
    "start_time": "2022-04-16T01:10:01.475Z"
   },
   {
    "duration": 9,
    "start_time": "2022-04-16T01:11:01.476Z"
   },
   {
    "duration": 7843,
    "start_time": "2022-04-16T01:11:03.181Z"
   },
   {
    "duration": 7,
    "start_time": "2022-04-16T01:12:46.729Z"
   },
   {
    "duration": 7691,
    "start_time": "2022-04-16T01:12:48.594Z"
   },
   {
    "duration": 7,
    "start_time": "2022-04-16T01:13:20.195Z"
   },
   {
    "duration": 13,
    "start_time": "2022-04-16T01:14:58.649Z"
   },
   {
    "duration": 13,
    "start_time": "2022-04-16T01:15:04.191Z"
   },
   {
    "duration": 9,
    "start_time": "2022-04-16T01:15:07.858Z"
   },
   {
    "duration": 4,
    "start_time": "2022-04-16T01:16:02.857Z"
   },
   {
    "duration": 5,
    "start_time": "2022-04-16T01:16:12.934Z"
   },
   {
    "duration": 5936,
    "start_time": "2022-04-16T01:16:20.880Z"
   },
   {
    "duration": 5,
    "start_time": "2022-04-16T01:17:08.869Z"
   },
   {
    "duration": 6112,
    "start_time": "2022-04-16T01:17:10.389Z"
   },
   {
    "duration": 236,
    "start_time": "2022-04-16T01:20:00.649Z"
   },
   {
    "duration": 4,
    "start_time": "2022-04-16T01:20:07.980Z"
   },
   {
    "duration": 5,
    "start_time": "2022-04-16T01:20:09.474Z"
   },
   {
    "duration": 6004,
    "start_time": "2022-04-16T01:20:11.257Z"
   },
   {
    "duration": 4,
    "start_time": "2022-04-16T01:21:03.067Z"
   },
   {
    "duration": 6066,
    "start_time": "2022-04-16T01:21:05.988Z"
   },
   {
    "duration": 8,
    "start_time": "2022-04-16T01:24:48.686Z"
   },
   {
    "duration": 5,
    "start_time": "2022-04-16T01:28:47.113Z"
   },
   {
    "duration": 6137,
    "start_time": "2022-04-16T01:28:48.913Z"
   },
   {
    "duration": 7,
    "start_time": "2022-04-16T01:29:34.401Z"
   },
   {
    "duration": 8,
    "start_time": "2022-04-16T01:29:47.715Z"
   },
   {
    "duration": 4,
    "start_time": "2022-04-16T01:29:52.882Z"
   },
   {
    "duration": 4,
    "start_time": "2022-04-16T01:30:27.283Z"
   },
   {
    "duration": 4,
    "start_time": "2022-04-16T01:30:30.972Z"
   },
   {
    "duration": 6081,
    "start_time": "2022-04-16T01:30:39.400Z"
   },
   {
    "duration": 5,
    "start_time": "2022-04-16T01:31:16.920Z"
   },
   {
    "duration": 5,
    "start_time": "2022-04-16T01:31:41.641Z"
   },
   {
    "duration": 6150,
    "start_time": "2022-04-16T01:31:43.066Z"
   },
   {
    "duration": 1651,
    "start_time": "2022-04-16T01:32:01.123Z"
   },
   {
    "duration": 5,
    "start_time": "2022-04-16T01:32:09.731Z"
   },
   {
    "duration": 11,
    "start_time": "2022-04-16T01:32:25.392Z"
   },
   {
    "duration": 183,
    "start_time": "2022-04-16T01:32:28.198Z"
   },
   {
    "duration": 13,
    "start_time": "2022-04-16T01:32:33.491Z"
   },
   {
    "duration": 5,
    "start_time": "2022-04-16T01:32:38.870Z"
   },
   {
    "duration": 4,
    "start_time": "2022-04-16T01:37:07.188Z"
   },
   {
    "duration": 9,
    "start_time": "2022-04-16T01:37:08.100Z"
   },
   {
    "duration": 6145,
    "start_time": "2022-04-16T01:37:09.493Z"
   },
   {
    "duration": 4,
    "start_time": "2022-04-16T01:37:29.992Z"
   },
   {
    "duration": 6166,
    "start_time": "2022-04-16T01:37:30.984Z"
   },
   {
    "duration": 4,
    "start_time": "2022-04-16T01:39:05.519Z"
   },
   {
    "duration": 4,
    "start_time": "2022-04-16T01:39:06.617Z"
   },
   {
    "duration": 6256,
    "start_time": "2022-04-16T01:39:07.317Z"
   },
   {
    "duration": 1419,
    "start_time": "2022-04-16T01:44:25.233Z"
   },
   {
    "duration": 1417,
    "start_time": "2022-04-16T01:44:35.095Z"
   },
   {
    "duration": 4546,
    "start_time": "2022-04-16T01:45:06.628Z"
   },
   {
    "duration": 4,
    "start_time": "2022-04-16T01:45:45.289Z"
   },
   {
    "duration": 4454,
    "start_time": "2022-04-16T01:45:47.267Z"
   },
   {
    "duration": 1424,
    "start_time": "2022-04-16T01:46:23.254Z"
   },
   {
    "duration": 1434,
    "start_time": "2022-04-16T01:46:34.353Z"
   },
   {
    "duration": 4470,
    "start_time": "2022-04-16T01:47:22.577Z"
   },
   {
    "duration": 1452,
    "start_time": "2022-04-16T01:47:31.601Z"
   },
   {
    "duration": 1450,
    "start_time": "2022-04-16T01:49:19.304Z"
   },
   {
    "duration": 1449,
    "start_time": "2022-04-16T01:49:24.644Z"
   },
   {
    "duration": 1461,
    "start_time": "2022-04-16T01:50:20.349Z"
   },
   {
    "duration": 1442,
    "start_time": "2022-04-16T01:50:37.817Z"
   },
   {
    "duration": 4,
    "start_time": "2022-04-16T01:50:59.267Z"
   },
   {
    "duration": 1467,
    "start_time": "2022-04-16T01:51:03.833Z"
   },
   {
    "duration": 1464,
    "start_time": "2022-04-16T01:51:09.146Z"
   },
   {
    "duration": 4581,
    "start_time": "2022-04-16T01:55:19.187Z"
   },
   {
    "duration": 2966,
    "start_time": "2022-04-16T01:55:39.160Z"
   },
   {
    "duration": 1540,
    "start_time": "2022-04-16T01:56:13.524Z"
   },
   {
    "duration": 1444,
    "start_time": "2022-04-16T01:56:25.108Z"
   },
   {
    "duration": 1559,
    "start_time": "2022-04-16T01:56:45.121Z"
   },
   {
    "duration": 1457,
    "start_time": "2022-04-16T01:56:57.924Z"
   },
   {
    "duration": 5,
    "start_time": "2022-04-16T01:57:15.415Z"
   },
   {
    "duration": 6032,
    "start_time": "2022-04-16T01:57:32.186Z"
   },
   {
    "duration": 4,
    "start_time": "2022-04-16T01:58:13.506Z"
   },
   {
    "duration": 5935,
    "start_time": "2022-04-16T01:58:15.775Z"
   },
   {
    "duration": 4,
    "start_time": "2022-04-16T01:58:42.508Z"
   },
   {
    "duration": 5918,
    "start_time": "2022-04-16T01:58:44.236Z"
   },
   {
    "duration": 4,
    "start_time": "2022-04-16T02:01:02.360Z"
   },
   {
    "duration": 6089,
    "start_time": "2022-04-16T02:01:03.972Z"
   },
   {
    "duration": 9,
    "start_time": "2022-04-16T02:01:29.150Z"
   },
   {
    "duration": 4,
    "start_time": "2022-04-16T02:01:31.610Z"
   },
   {
    "duration": 12,
    "start_time": "2022-04-16T02:01:33.377Z"
   },
   {
    "duration": 2,
    "start_time": "2022-04-16T02:01:36.910Z"
   },
   {
    "duration": 4,
    "start_time": "2022-04-16T02:01:39.339Z"
   },
   {
    "duration": 5802,
    "start_time": "2022-04-16T02:01:39.832Z"
   },
   {
    "duration": 5,
    "start_time": "2022-04-16T02:02:53.278Z"
   },
   {
    "duration": 4,
    "start_time": "2022-04-16T02:03:00.232Z"
   },
   {
    "duration": 8372,
    "start_time": "2022-04-16T02:03:02.091Z"
   },
   {
    "duration": 4,
    "start_time": "2022-04-16T02:03:22.248Z"
   },
   {
    "duration": 4,
    "start_time": "2022-04-16T02:03:26.098Z"
   },
   {
    "duration": 7729,
    "start_time": "2022-04-16T02:03:38.733Z"
   },
   {
    "duration": 4,
    "start_time": "2022-04-16T02:03:53.141Z"
   },
   {
    "duration": 5939,
    "start_time": "2022-04-16T02:03:54.357Z"
   },
   {
    "duration": 4,
    "start_time": "2022-04-16T02:05:05.225Z"
   },
   {
    "duration": 3,
    "start_time": "2022-04-16T02:05:11.247Z"
   },
   {
    "duration": 3,
    "start_time": "2022-04-16T02:05:13.331Z"
   },
   {
    "duration": 5973,
    "start_time": "2022-04-16T02:05:14.950Z"
   },
   {
    "duration": 1039,
    "start_time": "2022-04-16T02:06:57.569Z"
   },
   {
    "duration": 340907,
    "start_time": "2022-04-16T02:07:06.027Z"
   },
   {
    "duration": 3,
    "start_time": "2022-04-16T02:32:21.263Z"
   },
   {
    "duration": 347459,
    "start_time": "2022-04-16T02:32:22.143Z"
   },
   {
    "duration": 3,
    "start_time": "2022-04-16T02:38:14.718Z"
   },
   {
    "duration": 45772,
    "start_time": "2022-04-16T02:38:15.979Z"
   },
   {
    "duration": 16584,
    "start_time": "2022-04-16T02:39:07.597Z"
   },
   {
    "duration": 4,
    "start_time": "2022-04-16T02:39:26.096Z"
   },
   {
    "duration": 7440362,
    "start_time": "2022-04-16T02:39:26.925Z"
   },
   {
    "duration": 163775,
    "start_time": "2022-04-16T04:58:01.277Z"
   },
   {
    "duration": 7,
    "start_time": "2022-04-16T05:01:08.946Z"
   },
   {
    "duration": 34,
    "start_time": "2022-04-16T05:01:13.109Z"
   },
   {
    "duration": 36,
    "start_time": "2022-04-16T05:01:17.963Z"
   },
   {
    "duration": 13,
    "start_time": "2022-04-16T05:01:19.515Z"
   },
   {
    "duration": 10,
    "start_time": "2022-04-16T05:01:32.191Z"
   },
   {
    "duration": 354337,
    "start_time": "2022-04-16T05:01:52.065Z"
   },
   {
    "duration": 89848,
    "start_time": "2022-04-16T05:08:42.957Z"
   },
   {
    "duration": 13,
    "start_time": "2022-04-16T05:10:55.041Z"
   }
  ],
  "kernelspec": {
   "display_name": "Python 3",
   "language": "python",
   "name": "python3"
  },
  "language_info": {
   "codemirror_mode": {
    "name": "ipython",
    "version": 3
   },
   "file_extension": ".py",
   "mimetype": "text/x-python",
   "name": "python",
   "nbconvert_exporter": "python",
   "pygments_lexer": "ipython3",
   "version": "3.8.8"
  },
  "toc": {
   "base_numbering": 1,
   "nav_menu": {},
   "number_sections": true,
   "sideBar": true,
   "skip_h1_title": true,
   "title_cell": "Table of Contents",
   "title_sidebar": "Contents",
   "toc_cell": false,
   "toc_position": {
    "height": "calc(100% - 180px)",
    "left": "10px",
    "top": "150px",
    "width": "366.391px"
   },
   "toc_section_display": true,
   "toc_window_display": true
  }
 },
 "nbformat": 4,
 "nbformat_minor": 2
}
